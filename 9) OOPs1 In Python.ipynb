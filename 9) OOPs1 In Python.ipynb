{
 "cells": [
  {
   "cell_type": "markdown",
   "metadata": {},
   "source": [
    "### What is OPPs?"
   ]
  },
  {
   "cell_type": "markdown",
   "metadata": {},
   "source": [
    "Python has been an object-oriented language since it existed. Because of this, creating and using classes and objects are downright easy. This chapter helps you become an expert in using Python's object-oriented programming support.\n",
    "If you do not have any previous experience with object-oriented (OO) programming, you may want to consult an introductory course on it or at least a tutorial of some sort so that you have a grasp of the basic concepts.\n",
    "However, here is small introduction of Object-Oriented Programming (OOP) to bring you at speed −\n",
    "\n",
    "<b>Overview of OOP Terminology</b><br>\n",
    "- <b>Class</b> − A user-defined prototype for an object that defines a set of attributes that characterize any object of the class. The attributes are data members (class variables and instance variables) and methods, accessed via dot notation.\n",
    "- <b>Class variable</b> − A variable that is shared by all instances of a class. Class variables are defined within a class but outside any of the class's methods. Class variables are not used as frequently as instance variables are.\n",
    "\n",
    "- <b>Data member</b> − A class variable or instance variable that holds data associated with a class and its objects.\n",
    "\n",
    "- <b>Function overloading</b> − The assignment of more than one behavior to a particular function. The operation performed varies by the types of objects or arguments involved.\n",
    "\n",
    "- <b>Instance variable</b> − A variable that is defined inside a method and belongs only to the current instance of a class.\n",
    "\n",
    "- <b>Inheritance</b> − The transfer of the characteristics of a class to other classes that are derived from it.\n",
    "\n",
    "- <b>Instance</b> − An individual object of a certain class. An object obj that belongs to a class Circle, for example, is an instance of the class Circle.\n",
    "\n",
    "- <b>Instantiation</b> − The creation of an instance of a class.\n",
    "\n",
    "- <b>Method</b> − A special kind of function that is defined in a class definition.\n",
    "\n",
    "- <b>Object</b> − A unique instance of a data structure that's defined by its class. An object comprises both data members (class variables and instance variables) and methods.\n",
    "\n",
    "- <b>Operator overloading</b> − The assignment of more than one function to a particular operator"
   ]
  },
  {
   "cell_type": "markdown",
   "metadata": {},
   "source": [
    "### Creating Classes\n",
    "\n"
   ]
  },
  {
   "cell_type": "code",
   "execution_count": 1,
   "metadata": {},
   "outputs": [],
   "source": [
    "class Student:\n",
    "    pass  #under you have to write somthing for now I'm creating empty class by using pass keyword \n",
    "    "
   ]
  },
  {
   "cell_type": "markdown",
   "metadata": {},
   "source": [
    "### Creating an Object"
   ]
  },
  {
   "cell_type": "code",
   "execution_count": 2,
   "metadata": {},
   "outputs": [
    {
     "name": "stdout",
     "output_type": "stream",
     "text": [
      "<__main__.Student object at 0x000001F9695AC688>\n"
     ]
    }
   ],
   "source": [
    "s1 = Student()\n",
    "print(s1)"
   ]
  },
  {
   "cell_type": "code",
   "execution_count": 4,
   "metadata": {},
   "outputs": [
    {
     "name": "stdout",
     "output_type": "stream",
     "text": [
      "<class '__main__.Student'>\n"
     ]
    }
   ],
   "source": [
    "print(type(s1))"
   ]
  },
  {
   "cell_type": "code",
   "execution_count": 5,
   "metadata": {},
   "outputs": [
    {
     "name": "stdout",
     "output_type": "stream",
     "text": [
      "<__main__.Student object at 0x000001F9691FF8C8> <__main__.Student object at 0x000001F9691FFCC8>\n"
     ]
    }
   ],
   "source": [
    "s2 = Student()\n",
    "s3 = Student()\n",
    "print(s2,s3)"
   ]
  },
  {
   "cell_type": "markdown",
   "metadata": {},
   "source": [
    "### Create Class with attributes and Function"
   ]
  },
  {
   "cell_type": "code",
   "execution_count": 10,
   "metadata": {},
   "outputs": [
    {
     "name": "stdout",
     "output_type": "stream",
     "text": [
      "Name =  Deepak\n",
      "Percentage =  80\n",
      "Student is passed\n"
     ]
    }
   ],
   "source": [
    "class Student:\n",
    "    passingPercentage = 40\n",
    "    def studentDetails(self): # self is an instence attribute\n",
    "        self.name = \"Deepak\"\n",
    "        print(\"Name = \", self.name)\n",
    "        self.percentage = 80\n",
    "        print(\"Percentage = \", self.percentage)\n",
    "        pass\n",
    "\n",
    "    def isPassed(self):\n",
    "        if self.percentage > Student.passingPercentage:\n",
    "            print(\"Student is passed\")\n",
    "        else:\n",
    "            print(\"Student is not passed\")\n",
    "\n",
    "    \n",
    "\n",
    "s1 = Student()\n",
    "#Syntex: class_name.function(object_name)\n",
    "Student.studentDetails(s1) #s1.studentDetails() you can use also this one\n",
    "s1.isPassed()\n",
    "\n"
   ]
  },
  {
   "cell_type": "markdown",
   "metadata": {},
   "source": [
    "### Static Method in Python"
   ]
  },
  {
   "cell_type": "markdown",
   "metadata": {},
   "source": [
    "Static methods in Python are extremely similar to python class level methods, the difference being that a static method is bound to a class rather than the objects for that class.\n",
    "This means that a static method can be called without an object for that class. This also means that static methods cannot modify the state of an object as they are not bound to it. Let’s see how we can create static methods in Python.\n",
    "<br>\n",
    "<b> Syntex</b><br>\n",
    "@staticmethod<br>\n",
    "def func(args, ...)"
   ]
  },
  {
   "cell_type": "code",
   "execution_count": 11,
   "metadata": {},
   "outputs": [
    {
     "name": "stdout",
     "output_type": "stream",
     "text": [
      "Name =  Parikh\n",
      "Percentage =  80\n",
      "Student is passed\n",
      "Hey! Welcome To School\n"
     ]
    }
   ],
   "source": [
    "class Student:\n",
    "    passingPercentage = 40\n",
    "    def studentDetails(self):\n",
    "        self.name = \"Parikh\"\n",
    "        print(\"Name = \", self.name)\n",
    "        self.percentage = 80\n",
    "        print(\"Percentage = \", self.percentage)\n",
    "        pass\n",
    "\n",
    "    def isPassed(self):\n",
    "        if self.percentage > Student.passingPercentage:\n",
    "            print(\"Student is passed\")\n",
    "        else:\n",
    "            print(\"Student is not passed\")\n",
    "\n",
    "    #Creating Static function\n",
    "    @staticmethod\n",
    "    def welcomeToSchool():\n",
    "        print(\"Hey! Welcome To School\")\n",
    "\n",
    "s1 = Student()\n",
    "Student.studentDetails(s1)\n",
    "s1.isPassed()\n",
    "s1.welcomeToSchool()\n",
    "\n",
    "#class_name.function(object_name)"
   ]
  },
  {
   "cell_type": "markdown",
   "metadata": {},
   "source": [
    "### __init__() Function"
   ]
  },
  {
   "cell_type": "markdown",
   "metadata": {},
   "source": [
    "The <b> __init__()</b> method is similar to constructors in C++ and Java. Constructors are used to initialize the object’s state. The task of constructors is to initialize(assign values) to the data members of the class when an object of class is created. Like methods, a constructor also contains collection of statements(i.e. instructions) that are executed at time of Object creation. It is run as soon as an object of a class is instantiated. The method is useful to do any initialization you want to do with your object."
   ]
  },
  {
   "cell_type": "code",
   "execution_count": 19,
   "metadata": {},
   "outputs": [],
   "source": [
    "class Student:\n",
    "    def __init__(self):\n",
    "        self.name = \"abc\"\n",
    "        self.rollNumber = 12"
   ]
  },
  {
   "cell_type": "code",
   "execution_count": 20,
   "metadata": {},
   "outputs": [],
   "source": [
    "s1 = Student()"
   ]
  },
  {
   "cell_type": "code",
   "execution_count": 22,
   "metadata": {},
   "outputs": [
    {
     "name": "stdout",
     "output_type": "stream",
     "text": [
      "{'name': 'abc', 'rollNumber': 12}\n"
     ]
    }
   ],
   "source": [
    "print(s1.__dict__)"
   ]
  },
  {
   "cell_type": "code",
   "execution_count": 24,
   "metadata": {},
   "outputs": [
    {
     "name": "stdout",
     "output_type": "stream",
     "text": [
      "{'name': 'abc', 'rollNumber': 12}\n"
     ]
    }
   ],
   "source": [
    "s2 = Student()\n",
    "print(s2.__dict__)"
   ]
  },
  {
   "cell_type": "code",
   "execution_count": 26,
   "metadata": {},
   "outputs": [
    {
     "name": "stdout",
     "output_type": "stream",
     "text": [
      "<__main__.Student object at 0x000001F967E35348> <__main__.Student object at 0x000001F969C1F208>\n"
     ]
    }
   ],
   "source": [
    "## Both are Same attributes and different address\n",
    "print(s1,s2)"
   ]
  },
  {
   "cell_type": "code",
   "execution_count": 3,
   "metadata": {},
   "outputs": [
    {
     "name": "stdout",
     "output_type": "stream",
     "text": [
      "{'name': 'Deepa', 'rollNumber': 181235}\n",
      "{'name': 'Aman', 'rollNumber': 182441}\n"
     ]
    }
   ],
   "source": [
    "# Now Let's take different eg. The use of __init__() function instead of passing\n",
    "# two values creating object we can use both arguement directly __init__() functipon\n",
    "\n",
    "class Student:\n",
    "    def __init__(self, name, rollNumber): # self object is must it's by default\n",
    "        #self.name = \"abc\"\n",
    "        #self.rollNumber = 12\n",
    "        self.name = name\n",
    "        self.rollNumber = rollNumber\n",
    "\n",
    "s1 = Student(\"Deepa\",181235)\n",
    "s2 = Student(\"Aman\", 182441)\n",
    "print(s1.__dict__)\n",
    "print(s2.__dict__)\n"
   ]
  },
  {
   "cell_type": "code",
   "execution_count": 9,
   "metadata": {},
   "outputs": [],
   "source": [
    "#Example\n",
    "#Following is the example of a simple Python class −\n",
    "class Employee:\n",
    "    empCount = 0\n",
    "    def __init__(self, name, salary):\n",
    "        self.name = name\n",
    "        self.salary = salary\n",
    "        Employee.empCount += 1\n",
    "    \n",
    "    def displayCount(self):\n",
    "        print(\"Total Employee %d\" % Employee.empCount)\n",
    "    \n",
    "    def displayEmployee(self):\n",
    "        print(\"Name : \", self.name,  \", Salary: \", self.salary)"
   ]
  },
  {
   "cell_type": "code",
   "execution_count": 10,
   "metadata": {},
   "outputs": [],
   "source": [
    "## Creating an Object of Emloyee Class\n",
    "#\"This would create first object of Employee class\"\n",
    "emp1 = Employee(\"Zara\", 2000)\n",
    "#\"This would create second object of Employee class\"\n",
    "emp2 = Employee(\"Manni\", 5000)"
   ]
  },
  {
   "cell_type": "code",
   "execution_count": 14,
   "metadata": {},
   "outputs": [
    {
     "name": "stdout",
     "output_type": "stream",
     "text": [
      "Total Employee 2\n",
      "Name :  Zara , Salary:  2000\n",
      "Total Employee 2\n",
      "Name :  Manni , Salary:  5000\n"
     ]
    }
   ],
   "source": [
    "# Display\n",
    "emp1.displayCount()\n",
    "emp1.displayEmployee()\n",
    "emp2.displayCount()\n",
    "emp2.displayEmployee()"
   ]
  },
  {
   "cell_type": "code",
   "execution_count": 15,
   "metadata": {},
   "outputs": [
    {
     "name": "stdout",
     "output_type": "stream",
     "text": [
      "Student is passed\n",
      "Name =  Parikh\n",
      "Age = 15\n",
      "Percentage =  80\n",
      "Name =  Varun\n",
      "Age = 26\n",
      "Percentage =  90\n",
      "Name =  Parikh\n",
      "Age = 15\n",
      "Percentage =  80\n",
      "Name =  Parikh\n",
      "Age = 15\n",
      "Percentage =  80\n",
      "Student is passed\n",
      "Hey! Welcome To School\n"
     ]
    }
   ],
   "source": [
    "## Student Class Example with __init__() Function\n",
    "class Student:\n",
    "    passingPercentage = 40\n",
    "    def __init__(self,name,age=15,percentage=80):\n",
    "        self.name = name\n",
    "        self.age = age\n",
    "        self.percentage = percentage\n",
    "\n",
    "    def studentDetails(self):\n",
    "        print(\"Name = \", self.name)\n",
    "        print(\"Age =\" , self.age)\n",
    "        print(\"Percentage = \", self.percentage)\n",
    "        pass\n",
    "\n",
    "    def isPassed(self):\n",
    "        if self.percentage > Student.passingPercentage:\n",
    "            print(\"Student is passed\")\n",
    "        else:\n",
    "            print(\"Student is not passed\")\n",
    "\n",
    "    @staticmethod\n",
    "    def welcomeToSchool():\n",
    "        print(\"Hey! Welcome To School\")\n",
    "\n",
    "s1 = Student(\"Parikh\")\n",
    "\n",
    "s1.isPassed()\n",
    "s2 = Student(\"Varun\",26,90)\n",
    "s1.studentDetails()\n",
    "s2.studentDetails()\n",
    "s1.studentDetails()\n",
    "Student.studentDetails(s1)\n",
    "s1.isPassed()\n",
    "s1.welcomeToSchool()\n",
    "\n",
    "\n",
    "#class_name.function(object_name)"
   ]
  },
  {
   "cell_type": "markdown",
   "metadata": {},
   "source": [
    "### Access Modifiers\n",
    "There are two types of access modifires that we have covered although it's three types\n",
    "- Public\n",
    "- Private\n",
    "<br>\n",
    "<b>Public Variables</b><br>\n",
    "Python doesn’t restrict us from accessing any variable or calling any member method in a python program.\n",
    "All python variables and methods are public by default in Python. So when we want to make any variable or method public, we just do nothing.\n",
    "<br>\n",
    "<b>Private</b><br>\n",
    "All the variables and the methods in the code are public by default.\n",
    "When we declare our data member private we mean, that nobody should be able to access it from outside the class. Here Python supports a technique called name mangling. This feature turns every member name prefixed with at least two underscores and suffixed with at most one underscore into \n",
    "<b>Syntex</b><br>\n",
    "<b>(_className)(memberName)</b> <br>. So to make our member private, let’s have a look at the example below −"
   ]
  },
  {
   "cell_type": "code",
   "execution_count": 18,
   "metadata": {},
   "outputs": [
    {
     "name": "stdout",
     "output_type": "stream",
     "text": [
      "None\n",
      "None\n",
      "brown\n",
      "tea\n"
     ]
    }
   ],
   "source": [
    "# Public class eg\n",
    "class Mug:\n",
    "    def __init__(self):\n",
    "        self.color = None\n",
    "        self.content = None\n",
    "\n",
    "    def fill(self, beverage):\n",
    "        self.content = beverage\n",
    "\n",
    "    def empty(self):\n",
    "        self.content = None\n",
    "        \n",
    "brownMug = Mug()\n",
    "brownMug.color = \"brown\"\n",
    "print(brownMug.empty())\n",
    "print(brownMug.fill('tea')) # access we are able to change outside the class\n",
    "print(brownMug.color)\n",
    "print(brownMug.content)\n"
   ]
  },
  {
   "cell_type": "code",
   "execution_count": 20,
   "metadata": {},
   "outputs": [
    {
     "ename": "AttributeError",
     "evalue": "'Student' object has no attribute '__name'",
     "output_type": "error",
     "traceback": [
      "\u001b[1;31m---------------------------------------------------------------------------\u001b[0m",
      "\u001b[1;31mAttributeError\u001b[0m                            Traceback (most recent call last)",
      "\u001b[1;32m<ipython-input-20-320f13cfc4f0>\u001b[0m in \u001b[0;36m<module>\u001b[1;34m\u001b[0m\n\u001b[0;32m     25\u001b[0m \u001b[1;33m\u001b[0m\u001b[0m\n\u001b[0;32m     26\u001b[0m \u001b[0ms1\u001b[0m \u001b[1;33m=\u001b[0m \u001b[0mStudent\u001b[0m\u001b[1;33m(\u001b[0m\u001b[1;34m\"Parikh\"\u001b[0m\u001b[1;33m)\u001b[0m\u001b[1;33m\u001b[0m\u001b[1;33m\u001b[0m\u001b[0m\n\u001b[1;32m---> 27\u001b[1;33m \u001b[0mprint\u001b[0m\u001b[1;33m(\u001b[0m\u001b[0ms1\u001b[0m\u001b[1;33m.\u001b[0m\u001b[0m__name\u001b[0m\u001b[1;33m)\u001b[0m\u001b[1;33m\u001b[0m\u001b[1;33m\u001b[0m\u001b[0m\n\u001b[0m\u001b[0;32m     28\u001b[0m \u001b[0mprint\u001b[0m\u001b[1;33m(\u001b[0m\u001b[0ms1\u001b[0m\u001b[1;33m.\u001b[0m\u001b[0mage\u001b[0m\u001b[1;33m)\u001b[0m\u001b[1;33m\u001b[0m\u001b[1;33m\u001b[0m\u001b[0m\n\u001b[0;32m     29\u001b[0m \u001b[0ms1\u001b[0m\u001b[1;33m.\u001b[0m\u001b[0mage\u001b[0m \u001b[1;33m=\u001b[0m \u001b[1;36m20\u001b[0m\u001b[1;33m\u001b[0m\u001b[1;33m\u001b[0m\u001b[0m\n",
      "\u001b[1;31mAttributeError\u001b[0m: 'Student' object has no attribute '__name'"
     ]
    }
   ],
   "source": [
    "\n",
    "class Student:\n",
    "\n",
    "    __passingPercentage = 40\n",
    "\n",
    "    def __init__(self,name,age=15,percentage=80):\n",
    "        self.__name = name\n",
    "        self.age = age\n",
    "        self.percentage = percentage\n",
    "\n",
    "    def studentDetails(self):\n",
    "        print(\"Name = \", self.__name)\n",
    "        print(\"Age =\" , self.age)\n",
    "        print(\"Percentage = \", self.percentage)\n",
    "        \n",
    "\n",
    "    def isPassed(self):\n",
    "        if self.percentage > Student.passingPercentage:\n",
    "            print(\"Student is passed\")\n",
    "        else:\n",
    "            print(\"Student is not passed\")\n",
    "\n",
    "    @staticmethod\n",
    "    def welcomeToSchool():\n",
    "        print(\"Hey! Welcome To School\")\n",
    "\n",
    "s1 = Student(\"Parikh\")\n",
    "print(s1.__name) # try to Private member access\n",
    "print(s1.age)\n",
    "s1.age = 20\n",
    "print(Student._Student__passingPercentage)\n",
    "s1.studentDetails()"
   ]
  },
  {
   "cell_type": "code",
   "execution_count": 21,
   "metadata": {},
   "outputs": [
    {
     "name": "stdout",
     "output_type": "stream",
     "text": [
      "40\n",
      "Name =  Parikh\n",
      "Age = 20\n",
      "Percentage =  80\n"
     ]
    }
   ],
   "source": [
    "\n",
    "class Student:\n",
    "\n",
    "    __passingPercentage = 40\n",
    "\n",
    "    def __init__(self,name,age=15,percentage=80):\n",
    "        self.__name = name\n",
    "        self.age = age\n",
    "        self.percentage = percentage\n",
    "\n",
    "    def studentDetails(self):\n",
    "        print(\"Name = \", self.__name)\n",
    "        print(\"Age =\" , self.age)\n",
    "        print(\"Percentage = \", self.percentage)\n",
    "        \n",
    "\n",
    "    def isPassed(self):\n",
    "        if self.percentage > Student.passingPercentage:\n",
    "            print(\"Student is passed\")\n",
    "        else:\n",
    "            print(\"Student is not passed\")\n",
    "\n",
    "    @staticmethod\n",
    "    def welcomeToSchool():\n",
    "        print(\"Hey! Welcome To School\")\n",
    "\n",
    "s1 = Student(\"Parikh\")\n",
    "#print(s1.__name) # try to Private member access\n",
    "#print(s1.age)\n",
    "s1.age = 20\n",
    "print(Student._Student__passingPercentage)\n",
    "s1.studentDetails()"
   ]
  }
 ],
 "metadata": {
  "kernelspec": {
   "display_name": "Python 3",
   "language": "python",
   "name": "python3"
  },
  "language_info": {
   "codemirror_mode": {
    "name": "ipython",
    "version": 3
   },
   "file_extension": ".py",
   "mimetype": "text/x-python",
   "name": "python",
   "nbconvert_exporter": "python",
   "pygments_lexer": "ipython3",
   "version": "3.7.6"
  }
 },
 "nbformat": 4,
 "nbformat_minor": 4
}
