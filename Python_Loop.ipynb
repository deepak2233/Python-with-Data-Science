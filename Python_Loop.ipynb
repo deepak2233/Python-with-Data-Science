{
 "cells": [
  {
   "cell_type": "markdown",
   "metadata": {},
   "source": [
    "### LOOPS"
   ]
  },
  {
   "cell_type": "markdown",
   "metadata": {},
   "source": [
    "In any programming language including C, loops are used to execute a set of \n",
    "statements repeatedly until a particular condition is satisfied.\n",
    "There are Three ttpes of loops\n",
    "* While Loops\n",
    "* For Loops\n",
    "* Do while Loops"
   ]
  },
  {
   "cell_type": "markdown",
   "metadata": {},
   "source": [
    "### While loop"
   ]
  },
  {
   "cell_type": "code",
   "execution_count": 1,
   "metadata": {},
   "outputs": [
    {
     "name": "stdout",
     "output_type": "stream",
     "text": [
      "2\n",
      "1\n",
      "1\n"
     ]
    }
   ],
   "source": [
    "n = int(input())\n",
    "count = 1\n",
    "while count <= n:\n",
    "    print(1)\n",
    "    count = count + 1"
   ]
  },
  {
   "cell_type": "code",
   "execution_count": 2,
   "metadata": {},
   "outputs": [
    {
     "name": "stdout",
     "output_type": "stream",
     "text": [
      "10\n",
      "1\n",
      "2\n",
      "3\n",
      "4\n",
      "5\n",
      "6\n",
      "7\n",
      "8\n",
      "9\n",
      "10\n"
     ]
    }
   ],
   "source": [
    "# print first n natural numbers\n",
    "n = int(input())\n",
    "count = 1\n",
    "while count <= n:\n",
    "    print(count)\n",
    "    count = count + 1"
   ]
  },
  {
   "cell_type": "code",
   "execution_count": 1,
   "metadata": {},
   "outputs": [
    {
     "name": "stdout",
     "output_type": "stream",
     "text": [
      "3\n",
      "Positive\n"
     ]
    }
   ],
   "source": [
    "# Read input as sepcified in the question\n",
    "# Print output as specified in the question\n",
    "# Check number\n",
    "n = int(input())\n",
    "if n > 0:\n",
    "    print(\"Positive\")\n",
    "elif n < 0:\n",
    "    print(\"Negative\")\n",
    "else:\n",
    "    print(\"Zero\")\n",
    "    "
   ]
  },
  {
   "cell_type": "code",
   "execution_count": 2,
   "metadata": {},
   "outputs": [
    {
     "name": "stdout",
     "output_type": "stream",
     "text": [
      "6\n",
      "21\n"
     ]
    }
   ],
   "source": [
    "# Read input as sepcified in the question\n",
    "# Print output as specified in the question\n",
    "# Sum of n numbers\n",
    "n = int(input())\n",
    "sum = 0\n",
    "i = 1\n",
    "while i <= n:\n",
    "    sum = sum + i\n",
    "    i = i + 1\n",
    "print(sum)    "
   ]
  },
  {
   "cell_type": "code",
   "execution_count": 3,
   "metadata": {},
   "outputs": [
    {
     "name": "stdout",
     "output_type": "stream",
     "text": [
      "6\n",
      "12\n"
     ]
    }
   ],
   "source": [
    "## Read input as specified in the question.\n",
    "## Print output as specified in the question.\n",
    "# Sum of Even Numbers\n",
    "N = int(input())\n",
    "i = 2\n",
    "sum = 0\n",
    "while i <= N:\n",
    "    if i % 2 == 0:\n",
    "        sum = sum + i\n",
    "    i = i + 2\n",
    "print(sum)    "
   ]
  },
  {
   "cell_type": "markdown",
   "metadata": {},
   "source": [
    "### Check Prime"
   ]
  },
  {
   "cell_type": "code",
   "execution_count": 6,
   "metadata": {},
   "outputs": [
    {
     "name": "stdout",
     "output_type": "stream",
     "text": [
      "5\n",
      "prime\n"
     ]
    }
   ],
   "source": [
    "n = int(input())\n",
    "d = 2\n",
    "flag = False\n",
    "while d < n:\n",
    "    if (n % d == 0):\n",
    "        flag = True\n",
    "    d = d + 1\n",
    "\n",
    "if flag:\n",
    "    print(\"not prime\")\n",
    "else:\n",
    "    print(\"prime\")"
   ]
  },
  {
   "cell_type": "code",
   "execution_count": 5,
   "metadata": {},
   "outputs": [
    {
     "name": "stdout",
     "output_type": "stream",
     "text": [
      "0\n",
      "100\n",
      "20\n",
      "0   -17\n",
      "20   -6\n",
      "40   4\n",
      "60   15\n",
      "80   26\n",
      "100   37\n"
     ]
    }
   ],
   "source": [
    "# Fahrenheit to Celsius\n",
    "# Read input as sepcified in the question\n",
    "# Print output as specified in the question\n",
    "## Note : For printing multiple values in one line, put them inside print separated by space.\n",
    "## You can follow this syntax for printing values of two variables val1 and val2 separaetd by space -\n",
    "##      print(val1, \" \", val2)\n",
    "S = int(input())\n",
    "E = int(input())\n",
    "W = int(input())\n",
    "i = S\n",
    "while i <= E:\n",
    "    ans = (5/9) * (i-32)\n",
    "    print(i, \" \", int(ans))\n",
    "    i = i + W"
   ]
  },
  {
   "cell_type": "markdown",
   "metadata": {},
   "source": [
    "### Nested Loop"
   ]
  },
  {
   "cell_type": "code",
   "execution_count": 3,
   "metadata": {},
   "outputs": [
    {
     "name": "stdout",
     "output_type": "stream",
     "text": [
      "100\n",
      "2\n",
      "3\n",
      "5\n",
      "7\n",
      "11\n",
      "13\n",
      "17\n",
      "19\n",
      "23\n",
      "29\n",
      "31\n",
      "37\n",
      "41\n",
      "43\n",
      "47\n",
      "53\n",
      "59\n",
      "61\n",
      "67\n",
      "71\n",
      "73\n",
      "79\n",
      "83\n",
      "89\n",
      "97\n"
     ]
    }
   ],
   "source": [
    "n = int(input())\n",
    "k = 2\n",
    "while k <= n:\n",
    "    d = 2\n",
    "    flag = False\n",
    "    while d < k:\n",
    "        if (k % d == 0):\n",
    "            flag = True\n",
    "        d = d + 1\n",
    "    if not(flag):\n",
    "        print(k)\n",
    "    k = k + 1"
   ]
  },
  {
   "cell_type": "markdown",
   "metadata": {},
   "source": [
    "### Practices in Loops"
   ]
  },
  {
   "cell_type": "code",
   "execution_count": 6,
   "metadata": {},
   "outputs": [
    {
     "name": "stdout",
     "output_type": "stream",
     "text": [
      "3\n",
      "1\n",
      "2\n",
      "2\n",
      "4\n",
      "4\n",
      "2\n",
      "2\n",
      "1\n",
      "3\n",
      "2\n",
      "5\n",
      "7\n",
      "Invalid Operation\n",
      "6\n"
     ]
    }
   ],
   "source": [
    "#Calculator\n",
    "# Write your code here\n",
    "n= int(input())\n",
    "while(n!=6):\n",
    "    if n<=5 and n>=1:\n",
    "        a=int(input())\n",
    "        b=int(input())\n",
    "    if n==1:\n",
    "        print(a+b)\n",
    "    if n==2:\n",
    "        print(a-b)\n",
    "    if n==3:\n",
    "        print(a*b)\n",
    "    if n==4:\n",
    "        print(a//b)\n",
    "    if n==5:\n",
    "        print(a%b)\n",
    "    elif n < 1 or n > 6:\n",
    "        print(\"Invalid Operation\")\n",
    "    n = int(input())"
   ]
  },
  {
   "cell_type": "code",
   "execution_count": 7,
   "metadata": {},
   "outputs": [
    {
     "name": "stdout",
     "output_type": "stream",
     "text": [
      "15234\n",
      "43251\n"
     ]
    }
   ],
   "source": [
    "# Reverse of a number\n",
    "## Read input as specified in the question.\n",
    "## Print output as specified in the question.\n",
    "\n",
    "n = int(input())\n",
    "res=0\n",
    "while n!=0:\n",
    "    rem = n%10\n",
    "    res = res*10+rem\n",
    "    n=n//10\n",
    "    \n",
    "print(res)"
   ]
  },
  {
   "cell_type": "code",
   "execution_count": 8,
   "metadata": {},
   "outputs": [
    {
     "name": "stdout",
     "output_type": "stream",
     "text": [
      "121\n",
      "true\n"
     ]
    }
   ],
   "source": [
    "# Palindrome number\n",
    "\n",
    "n=int(input())\n",
    "\n",
    "p=n\n",
    "res=0\n",
    "while p!=0:\n",
    "    rem = p%10\n",
    "    res = res*10+rem\n",
    "    p=p//10\n",
    "    \n",
    "if res==n:\n",
    "    print(\"true\")\n",
    "else:\n",
    "    print(\"false\")"
   ]
  },
  {
   "cell_type": "code",
   "execution_count": 14,
   "metadata": {},
   "outputs": [
    {
     "name": "stdout",
     "output_type": "stream",
     "text": [
      "1234\n",
      "6   4\n"
     ]
    }
   ],
   "source": [
    "# Sum of even & odd\n",
    "n=int(input())\n",
    "sum_e=0\n",
    "sum_o=0\n",
    "while n!=0:\n",
    "    rem=n%10\n",
    "    if rem%2==0:\n",
    "        sum_e=sum_e+rem\n",
    "    else:\n",
    "        sum_o=sum_o+rem\n",
    "    n=n//10\n",
    "    \n",
    "print(sum_e,\" \",sum_o)\n"
   ]
  },
  {
   "cell_type": "code",
   "execution_count": 12,
   "metadata": {},
   "outputs": [
    {
     "name": "stdout",
     "output_type": "stream",
     "text": [
      "8\n",
      "21\n"
     ]
    }
   ],
   "source": [
    "# Nth Fibonacci number\n",
    "## Read input as specified in the question.\n",
    "## Print output as specified in the question.\n",
    "n=int(input())\n",
    "d=0\n",
    "a=-1\n",
    "b=1\n",
    "while d<=n:\n",
    "    c=a+b\n",
    "    a=b\n",
    "    b=c\n",
    "    d=d+1\n",
    "    \n",
    "print(c)"
   ]
  },
  {
   "cell_type": "markdown",
   "metadata": {},
   "source": [
    "### Pattern"
   ]
  },
  {
   "cell_type": "code",
   "execution_count": 15,
   "metadata": {},
   "outputs": [
    {
     "name": "stdout",
     "output_type": "stream",
     "text": [
      "4\n",
      "4444\n",
      "4444\n",
      "4444\n",
      "4444\n"
     ]
    }
   ],
   "source": [
    "# Code : Square Pattern\n",
    "\"\"\" \n",
    "4444\n",
    "4444\n",
    "4444\n",
    "4444\n",
    "\"\"\"\n",
    "n = int(input())\n",
    "\n",
    "i=1\n",
    "while i<=n:\n",
    "    j=1\n",
    "    while j<=n:\n",
    "        print(n,end='')\n",
    "        j=j+1\n",
    "    print()\n",
    "    i = i+1\n",
    "    "
   ]
  },
  {
   "cell_type": "code",
   "execution_count": 16,
   "metadata": {},
   "outputs": [
    {
     "name": "stdout",
     "output_type": "stream",
     "text": [
      "4\n",
      "*\n",
      "**\n",
      "***\n",
      "****\n"
     ]
    }
   ],
   "source": [
    "# Code : Triangular Star Pattern\n",
    "\"\"\"\n",
    "*\n",
    "**\n",
    "***\n",
    "****\n",
    "\"\"\"\n",
    "n=int(input())\n",
    "\n",
    "i = 1\n",
    "\n",
    "while i<=n:\n",
    "    j=1\n",
    "    while j<=i:\n",
    "        print(\"*\",end=\"\")\n",
    "        j = j + 1\n",
    "    print()\n",
    "    i = i + 1\n",
    "    \n",
    "        "
   ]
  },
  {
   "cell_type": "code",
   "execution_count": 17,
   "metadata": {},
   "outputs": [
    {
     "name": "stdout",
     "output_type": "stream",
     "text": [
      "4\n",
      "1\n",
      "22\n",
      "333\n",
      "4444\n"
     ]
    }
   ],
   "source": [
    "#Code : Triangle Number Pattern\n",
    "\"\"\"\n",
    "1\n",
    "22\n",
    "333\n",
    "4444\n",
    "\"\"\"\n",
    "n=int(input())\n",
    "i = 1\n",
    "while i<=n:\n",
    "    j=1\n",
    "    while j<=i:\n",
    "       print(i, end=\"\")\n",
    "       j=j+1\n",
    "    print()\n",
    "    i=i+1"
   ]
  },
  {
   "cell_type": "code",
   "execution_count": 18,
   "metadata": {},
   "outputs": [
    {
     "name": "stdout",
     "output_type": "stream",
     "text": [
      "5\n",
      "1\n",
      "21\n",
      "321\n",
      "4321\n",
      "54321\n"
     ]
    }
   ],
   "source": [
    "# Code : Reverse Number Pattern\n",
    "\"\"\"\n",
    "1\n",
    "21\n",
    "321\n",
    "4321\n",
    "\"\"\"\n",
    "n=int(input())\n",
    "i = 1\n",
    "while i<=n:\n",
    "    p=i\n",
    "    j=1\n",
    "    while j<=i:\n",
    "       print(p, end=\"\")\n",
    "       p=p-1\t\n",
    "       j=j+1\n",
    "    print()\n",
    "    i=i+1"
   ]
  },
  {
   "cell_type": "code",
   "execution_count": 19,
   "metadata": {},
   "outputs": [
    {
     "name": "stdout",
     "output_type": "stream",
     "text": [
      "5\n",
      "A\n",
      "BC\n",
      "CDE\n",
      "DEFG\n",
      "EFGHI\n"
     ]
    }
   ],
   "source": [
    "# Code : Character Pattern\n",
    "\"\"\"\n",
    "A\n",
    "BC\n",
    "CDE\n",
    "DEFG\n",
    "\"\"\"\n",
    "n=int(input())\n",
    "i=1\n",
    "\n",
    "while i<=n:\n",
    "    ch=(ord('A'))+i-1    \n",
    "    j=1\n",
    "    while j<=i:\n",
    "        print(chr(ch+j-1), end=\"\")\n",
    "        j=j+1\n",
    "    print()\n",
    "    i=i+1\n"
   ]
  },
  {
   "cell_type": "code",
   "execution_count": 20,
   "metadata": {},
   "outputs": [
    {
     "name": "stdout",
     "output_type": "stream",
     "text": [
      "5\n",
      "E\n",
      "DE\n",
      "CDE\n",
      "BCDE\n",
      "ABCDE\n"
     ]
    }
   ],
   "source": [
    "# Code : Interesting Alphabets\n",
    "\"\"\"\n",
    "E\n",
    "DE\n",
    "CDE\n",
    "BCDE\n",
    "ABCDE\n",
    "\"\"\"\n",
    "n=int(input())\n",
    "i=1\n",
    "\n",
    "while i<=n:\n",
    "    ch=(ord('A'))+n-i    \n",
    "    j=1\n",
    "    while j<=i:\n",
    "        print(chr(ch+j-1), end=\"\")\n",
    "        j=j+1\n",
    "    print()\n",
    "    i=i+1\n"
   ]
  },
  {
   "cell_type": "code",
   "execution_count": 22,
   "metadata": {},
   "outputs": [
    {
     "name": "stdout",
     "output_type": "stream",
     "text": [
      "5\n",
      "1\n",
      "11\n",
      "111\n",
      "1111\n",
      "11111\n"
     ]
    }
   ],
   "source": [
    "# Number Pattern 1\n",
    "\"\"\"\n",
    "1\n",
    "11\n",
    "111\n",
    "1111\n",
    "\"\"\"\n",
    "\n",
    "n=int(input())\n",
    "i=1\n",
    "while i<=n:\n",
    "    j=1\n",
    "    while j<=i:\n",
    "        print(1,end=\"\")\n",
    "        j=j+1\n",
    "    print()\n",
    "    i=i+1\n",
    "    \n",
    "        "
   ]
  },
  {
   "cell_type": "code",
   "execution_count": 24,
   "metadata": {},
   "outputs": [
    {
     "name": "stdout",
     "output_type": "stream",
     "text": [
      "5\n",
      "1\n",
      "11\n",
      "202\n",
      "3003\n",
      "40004\n"
     ]
    }
   ],
   "source": [
    "# Number Pattern 2\n",
    "\"\"\"\n",
    "1\n",
    "11\n",
    "202\n",
    "3003\n",
    "\"\"\"\n",
    "n = int(input())\n",
    "for i in range(1,n+1):\n",
    " for j in range(1,i+1):\n",
    "  if i == 1:\n",
    "    print(1, end=\"\")\n",
    "  elif j == i or j == 1:\n",
    "   print(i-1, end=\"\")\n",
    "  else:\n",
    "   print(0, end=\"\")\n",
    " print()\n",
    "\n",
    "        "
   ]
  },
  {
   "cell_type": "code",
   "execution_count": 25,
   "metadata": {},
   "outputs": [
    {
     "name": "stdout",
     "output_type": "stream",
     "text": [
      "5\n",
      "1\n",
      "11\n",
      "121\n",
      "1221\n",
      "12221\n"
     ]
    }
   ],
   "source": [
    "# Number Pattern 3\n",
    "\"\"\"\n",
    "1\n",
    "11\n",
    "121\n",
    "1221\n",
    "\"\"\"\n",
    "n = int(input())\n",
    "for i in range(1,n+1):\n",
    " for j in range(1,i+1):\n",
    "  if i == 1:\n",
    "    print(1, end=\"\")\n",
    "  elif j == i or j == 1:\n",
    "   print(1, end=\"\")\n",
    "  else:\n",
    "   print(2, end=\"\")\n",
    " print()\n"
   ]
  },
  {
   "cell_type": "code",
   "execution_count": 27,
   "metadata": {},
   "outputs": [
    {
     "name": "stdout",
     "output_type": "stream",
     "text": [
      "5\n",
      "12345\n",
      "1234\n",
      "123\n",
      "12\n",
      "1\n"
     ]
    }
   ],
   "source": [
    "# Number Pattern\n",
    "\n",
    "\"\"\"\n",
    "1234\n",
    "123\n",
    "12\n",
    "1\n",
    "\"\"\"\n",
    "n = int(input())\n",
    "for i in range(n+1,1,-1):\n",
    " for j in range(1,i):\n",
    "  print(j,end = \"\")\n",
    " print()\n"
   ]
  },
  {
   "cell_type": "code",
   "execution_count": 28,
   "metadata": {},
   "outputs": [
    {
     "name": "stdout",
     "output_type": "stream",
     "text": [
      "3\n",
      "A\n",
      "BB\n",
      "CCC\n"
     ]
    }
   ],
   "source": [
    "# Alpha Pattern\n",
    "\"\"\"\n",
    " A\n",
    " BB\n",
    " CCC\n",
    "\"\"\"\n",
    "n = int(input())\n",
    "var = 65\n",
    "for i in range (1,n+1):\n",
    " for j in range(1,i+1):\n",
    "  print(chr(var), end=\"\")\n",
    " var+=1\n",
    " print()"
   ]
  },
  {
   "cell_type": "code",
   "execution_count": 29,
   "metadata": {},
   "outputs": [
    {
     "name": "stdout",
     "output_type": "stream",
     "text": [
      "5\n",
      "55555\n",
      "4444\n",
      "333\n",
      "22\n",
      "1\n"
     ]
    }
   ],
   "source": [
    "# Code : Inverted Number Pattern\n",
    "\"\"\"\n",
    "4444\n",
    "333\n",
    "22\n",
    "1\n",
    "\"\"\"\n",
    "n = int(input())\n",
    "\n",
    "i=1\n",
    "while i<=n:\n",
    "    j=1\n",
    "    while j<=n-i+1:\n",
    "        print(n-i+1,end=\"\")\n",
    "        j=j+1\n",
    "    print()\n",
    "    i=i+1"
   ]
  },
  {
   "cell_type": "code",
   "execution_count": 31,
   "metadata": {},
   "outputs": [
    {
     "name": "stdout",
     "output_type": "stream",
     "text": [
      "5\n",
      "    1\n",
      "   12\n",
      "  123\n",
      " 1234\n",
      "12345\n"
     ]
    }
   ],
   "source": [
    "# Code : Mirror Number Pattern\n",
    "\n",
    "\"\"\"\n",
    "  1\n",
    " 12\n",
    "123 \n",
    "\"\"\"\n",
    "\n",
    "n=int(input())\n",
    "\n",
    "i=1\n",
    "while i<=n:\n",
    "    s=1\n",
    "    while s<=n-i:\n",
    "        print(' ',end=\"\")\n",
    "        s=s+1\n",
    "    num=1\n",
    "    while num<=i:\n",
    "        print(num,end=\"\")\n",
    "        num=num+1\n",
    "    print()\n",
    "    i=i+1\n",
    "        "
   ]
  },
  {
   "cell_type": "code",
   "execution_count": 32,
   "metadata": {},
   "outputs": [
    {
     "name": "stdout",
     "output_type": "stream",
     "text": [
      "5\n",
      "    *   \n",
      "   ***  \n",
      "  ***** \n",
      " *******\n",
      "*********\n"
     ]
    }
   ],
   "source": [
    "# Code : Star Pattern\n",
    "\n",
    "\"\"\"\n",
    "  *\n",
    " ***\n",
    "*****\n",
    "\"\"\"\n",
    "n = int(input())\n",
    "for i in range(1,n+1):\n",
    " for j in range(1,n-i+1):\n",
    "  print(\" \",end=\"\")\n",
    " for k in range(1,2*i):\n",
    "  print(\"*\",end=\"\")\n",
    " for j in range(1,n-i):\n",
    "  print(\" \",end=\"\")\n",
    " print()\n"
   ]
  },
  {
   "cell_type": "code",
   "execution_count": 33,
   "metadata": {},
   "outputs": [
    {
     "name": "stdout",
     "output_type": "stream",
     "text": [
      "5\n",
      "    1    \n",
      "   232   \n",
      "  34543  \n",
      " 4567654 \n",
      "567898765\n"
     ]
    }
   ],
   "source": [
    "\"\"\"\n",
    "  1\n",
    " 232\n",
    "34543 \n",
    "\"\"\"\n",
    "n = int(input())\n",
    "\n",
    "for i in range(1,n+1):\n",
    " for j in range(1,n-i+1):\n",
    "  print(\" \",end=\"\")\n",
    " for k in range(i,2*i-1):\n",
    "  print(k,end=\"\")\n",
    " for k in range(2*i-1,i-1,-1):\n",
    "  print(k,end=\"\")\n",
    " for j in range(1,n-i+1):\n",
    "  print(\" \",end=\"\")\n",
    " print()"
   ]
  },
  {
   "cell_type": "code",
   "execution_count": 35,
   "metadata": {},
   "outputs": [
    {
     "name": "stdout",
     "output_type": "stream",
     "text": [
      "5\n",
      "  * \n",
      " ***\n",
      "*****\n",
      " ***\n",
      "  * \n"
     ]
    }
   ],
   "source": [
    "#Code : Diamond of stars \n",
    "n = int((int(input())+1)/2)\n",
    "\n",
    "for i in range(1,n+1):\n",
    " for j in range(1,n-i+1):\n",
    "  print(\" \",end=\"\")\n",
    " for k in range(1,i+1):\n",
    "  print(\"*\",end=\"\")\n",
    " for k in range(1,i):\n",
    "  print(\"*\",end=\"\")\n",
    " for j in range(1,n-i):\n",
    "  print(\" \",end=\"\")\n",
    " print()\n",
    "\n",
    "for i in range(n-1,0,-1):\n",
    " for j in range(n-i+1,1,-1):\n",
    "  print(\" \",end=\"\")\n",
    " for k in range(i,0,-1):\n",
    "  print(\"*\",end=\"\")\n",
    " for k in range(i,1,-1):\n",
    "  print(\"*\",end=\"\")\n",
    " for j in range(n-i,1,-1):\n",
    "  print(\" \",end=\"\")\n",
    " print()"
   ]
  },
  {
   "cell_type": "code",
   "execution_count": 36,
   "metadata": {},
   "outputs": [
    {
     "name": "stdout",
     "output_type": "stream",
     "text": [
      "5\n",
      "          \n",
      "1        1\n",
      "12      21\n",
      "123    321\n",
      "1234  4321\n",
      "1234554321\n"
     ]
    }
   ],
   "source": [
    "# Number Pattern\n",
    "\n",
    "\"\"\"\n",
    "1       1\n",
    "12     21\n",
    "123   321\n",
    "1234 4321\n",
    "1234554321\n",
    "\"\"\"\n",
    "\n",
    "n = int(input())\n",
    "\n",
    "for i in range(1,n+2):\n",
    " for j in range(1,i):\n",
    "  print(j,end=\"\")\n",
    " for k in range(2*n+1,2*i-1,-1):\n",
    "  print(\" \",end=\"\")\n",
    " for p in range(i-1,0,-1):\n",
    "  print(p,end=\"\")\n",
    " print()"
   ]
  },
  {
   "cell_type": "code",
   "execution_count": 37,
   "metadata": {},
   "outputs": [
    {
     "name": "stdout",
     "output_type": "stream",
     "text": [
      "5\n",
      "*0000*0000*\n",
      "0*000*000*0\n",
      "00*00*00*00\n",
      "000*0*0*000\n",
      "0000***0000\n"
     ]
    }
   ],
   "source": [
    "# Zeros and Stars Pattern\n",
    "\"\"\"\n",
    "*000*000*\n",
    "0*00*00*0\n",
    "00*0*0*00\n",
    "000***000\n",
    "\"\"\"\n",
    "n = int(input())\n",
    "x=1\n",
    "y=n+1\n",
    "z=2*n+1\n",
    "for i in range(1,n+1):\n",
    " for j in range(1,2*n+2):\n",
    "  if(j==x or y == j or j == z):\n",
    "   print(\"*\",end=\"\")\n",
    "  else:\n",
    "   print(0,end=\"\")\n",
    " x+=1\n",
    " z=z-1\n",
    " print()"
   ]
  },
  {
   "cell_type": "code",
   "execution_count": 38,
   "metadata": {},
   "outputs": [
    {
     "name": "stdout",
     "output_type": "stream",
     "text": [
      "5\n",
      "    1   \n",
      "   212  \n",
      "  32123 \n",
      " 4321234\n",
      "543212345\n"
     ]
    }
   ],
   "source": [
    "# Pyramid Number Pattern\n",
    "\"\"\" \n",
    "     1\n",
    "    212\n",
    "   32123\n",
    "  4321234\n",
    " 543212345\n",
    "\"\"\"\n",
    "n = int(input())\n",
    "for i in range(1,n+1):\n",
    " for j in range(1,n-i+1):\n",
    "  print(\" \",end=\"\")\n",
    " for k in range(i,0,-1):\n",
    "  print(k,end=\"\")\n",
    " for k in range(2,i+1):\n",
    "  print(k,end=\"\")\n",
    " for j in range(1,n-i):\n",
    "  print(\" \",end=\"\")\n",
    " print()"
   ]
  },
  {
   "cell_type": "markdown",
   "metadata": {},
   "source": [
    "### For Loops"
   ]
  },
  {
   "cell_type": "code",
   "execution_count": 42,
   "metadata": {},
   "outputs": [
    {
     "name": "stdout",
     "output_type": "stream",
     "text": [
      "5\n",
      "11111\n",
      "0000\n",
      "111\n",
      "00\n",
      "1\n"
     ]
    }
   ],
   "source": [
    "# in For loops here is range() function which tells the range\n",
    "#(start,end,step). and Also end is exclusive and start from 0 (by default and stepis 1 ( by default)\n",
    "# Binary Pattern\n",
    "\"\"\"\n",
    "1111\n",
    "000\n",
    "11\n",
    "0\n",
    "\"\"\"\n",
    "n=int(input())\n",
    "for i in range (1,n+1):\n",
    "    for j in range (1,n+1):\n",
    "        if j<=n+1-i:\n",
    "            if i%2==0:\n",
    "                print(\"0\",end='')\n",
    "            else:\n",
    "                print(\"1\",end='')\n",
    "    print()\n",
    "          "
   ]
  }
 ],
 "metadata": {
  "kernelspec": {
   "display_name": "Python 3",
   "language": "python",
   "name": "python3"
  },
  "language_info": {
   "codemirror_mode": {
    "name": "ipython",
    "version": 3
   },
   "file_extension": ".py",
   "mimetype": "text/x-python",
   "name": "python",
   "nbconvert_exporter": "python",
   "pygments_lexer": "ipython3",
   "version": "3.7.6"
  }
 },
 "nbformat": 4,
 "nbformat_minor": 2
}
