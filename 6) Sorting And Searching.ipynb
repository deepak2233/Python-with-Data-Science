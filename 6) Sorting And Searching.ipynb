{
 "cells": [
  {
   "cell_type": "markdown",
   "metadata": {},
   "source": [
    "### Sorting And Searching\n",
    "<b> Searching </b><br>\n",
    "Searching Algorithms are designed to check for an element or retrieve an element from any data structure where it is stored. Based on the type of search operation, these algorithms are generally classified into two categories:\n",
    "* Sequential Search: In this, the list or array is traversed sequentially and every element is checked. For example: <b>Linear Search</b>. Time Comlexity of Linear Search in O(n).\n",
    "\n",
    "* Interval Search: These algorithms are specifically designed for searching in sorted data-structures. These type of searching algorithms are much more efficient than Linear Search as they repeatedly target the center of the search structure and divide the search space in half. For Example: <b>Binary Search</b>. Time Complexity of Binary Search is O(logn)\n",
    "\n",
    "<b> Sorting </b><br>\n",
    "Sorting refers to arranging data in a particular format. Sorting algorithm specifies the way to arrange data in a particular order. Most common orders are in numerical or lexicographical order.\n",
    "\n",
    "* The importance of sorting lies in the fact that data searching can be optimized to a very high level, if data is stored in a sorted manner. Sorting is also used to represent data in more readable formats. Below we see five such implementations of sorting in python.\n",
    "\n",
    "* <b>Bubble Sort</b>\n",
    "* <b>Insertion Sort</b>\n",
    "* <b>Selection Sort</b>\n",
    "* <b>Merge Sort</b>\n",
    "\n"
   ]
  },
  {
   "cell_type": "markdown",
   "metadata": {},
   "source": [
    "<b>Linear Search</b>"
   ]
  },
  {
   "cell_type": "code",
   "execution_count": 8,
   "metadata": {},
   "outputs": [
    {
     "name": "stdout",
     "output_type": "stream",
     "text": [
      "1\n",
      "5\n",
      "2 3 1 4 3\n",
      "1\n",
      "2\n"
     ]
    }
   ],
   "source": [
    "def linerSearch(arr,n,x):\n",
    "    for i in range(0,n):\n",
    "        if arr[i] == x:\n",
    "            return i;\n",
    "    \n",
    "    return -1\n",
    "\n",
    "t = int(input())\n",
    "while t>0:\n",
    "    n = int(input())\n",
    "    arr = [int(i) for i in input().split()]\n",
    "    x = int(input())\n",
    "    print(linerSearch(arr,n,x))\n",
    "    t-=1\n",
    "    "
   ]
  },
  {
   "cell_type": "markdown",
   "metadata": {},
   "source": [
    "<b> Binary Search</b>"
   ]
  },
  {
   "cell_type": "code",
   "execution_count": 5,
   "metadata": {},
   "outputs": [
    {
     "name": "stdout",
     "output_type": "stream",
     "text": [
      "5\n",
      "2 3 6 7 8\n",
      "1\n",
      "3\n",
      "1\n"
     ]
    }
   ],
   "source": [
    "from sys import stdin\n",
    "def binarySearch(arr, n, x) :\n",
    "    start = 0;\n",
    "    end = n - 1\n",
    "    mid = start\n",
    "    while start <= end :\n",
    "        mid = start + (end - start) // 2\n",
    "        if arr[mid] > x :\n",
    "            end = mid - 1\n",
    "        elif arr[mid] < x :\n",
    "            start = mid + 1\n",
    "        else :\n",
    "            return mid\n",
    "    return -1\n",
    "\n",
    "\n",
    "\n",
    "\n",
    "\n",
    "#main\n",
    "n = int(input())\n",
    "arr = [int(i) for i in input().split()]\n",
    "t = int(input()) // \n",
    "while t > 0 :\n",
    "    x = int(input().strip())\n",
    "    print(binarySearch(arr, n, x))\n",
    "    t -= 1"
   ]
  },
  {
   "cell_type": "markdown",
   "metadata": {},
   "source": [
    "<b> Bubble Sort </b>"
   ]
  },
  {
   "cell_type": "code",
   "execution_count": 11,
   "metadata": {},
   "outputs": [
    {
     "name": "stdout",
     "output_type": "stream",
     "text": [
      "1\n",
      "6\n",
      "9 2 6 3 4 8\n",
      "[2, 3, 4, 6, 8, 9]\n"
     ]
    }
   ],
   "source": [
    "def bubbleSort(arr, n):\n",
    "    for i in range(n-1):\n",
    "        for j in range(n-i-1):\n",
    "            if arr[j]>arr[j+1]:\n",
    "                temp = arr[j]\n",
    "                arr[j] = arr[j+1]\n",
    "                arr[j+1] = temp\n",
    "\n",
    "t = int(input())\n",
    "while t>0:\n",
    "    n = int(input())\n",
    "    arr = [int(i) for i in input().split()]\n",
    "    bubbleSort(arr,n)\n",
    "    print(arr)\n",
    "    t-=1\n",
    "    "
   ]
  },
  {
   "cell_type": "markdown",
   "metadata": {},
   "source": [
    "<b> Insertion Sort</b>"
   ]
  },
  {
   "cell_type": "code",
   "execution_count": 17,
   "metadata": {},
   "outputs": [
    {
     "name": "stdout",
     "output_type": "stream",
     "text": [
      "1\n",
      "5\n",
      "3 2 6 4 1\n",
      "[1, 2, 3, 4, 6]\n"
     ]
    }
   ],
   "source": [
    "def insertionSort(arr, n) :\n",
    "    i = 1\n",
    "    while i < n :\n",
    "        temp = arr[i]\n",
    "        j = i - 1\n",
    "        while j >= 0 :\n",
    "            if arr[j] > temp :\n",
    "                arr[j + 1] = arr[j]\n",
    "            else :\n",
    "                break\n",
    "                \n",
    "            j -= 1\n",
    "            \n",
    "        arr[j + 1] = temp\n",
    "        i += 1\n",
    "        \n",
    "\n",
    "t = int(input())\n",
    "while t>0:\n",
    "    n = int(input())\n",
    "    arr = [int(i) for i in input().split()]\n",
    "    insertionSort(arr,n)\n",
    "    print(arr)\n",
    "    t-=1"
   ]
  },
  {
   "cell_type": "markdown",
   "metadata": {},
   "source": [
    "<b> Selection Sort</b>"
   ]
  },
  {
   "cell_type": "code",
   "execution_count": 18,
   "metadata": {},
   "outputs": [
    {
     "name": "stdout",
     "output_type": "stream",
     "text": [
      "1\n",
      "5\n",
      "6 3 2 8 1\n",
      "[1, 2, 3, 6, 8]\n"
     ]
    }
   ],
   "source": [
    "def selectionSort(arr):\n",
    "    length = len(arr)\n",
    "    for i in range(length-1):\n",
    "        minIndex = i\n",
    "        for j in range(i+1,length):\n",
    "            if(arr[j] < arr[minIndex]):\n",
    "                minIndex = j\n",
    "        temp = arr[i]\n",
    "        arr[i] = arr[minIndex]\n",
    "        arr[minIndex] = temp\n",
    "        \n",
    "t = int(input())\n",
    "while t>0:\n",
    "    n = int(input())\n",
    "    arr = [int(i) for i in input().split()]\n",
    "    insertionSort(arr,n)\n",
    "    print(arr)\n",
    "    t-=1"
   ]
  },
  {
   "cell_type": "markdown",
   "metadata": {},
   "source": [
    "<b> Merge Sort </b>"
   ]
  },
  {
   "cell_type": "code",
   "execution_count": 21,
   "metadata": {},
   "outputs": [
    {
     "name": "stdout",
     "output_type": "stream",
     "text": [
      "[1, 2, 3, 4, 6, 7, 8, 9, 10]\n"
     ]
    }
   ],
   "source": [
    "\n",
    "def mergeSortedArrays(arr1,arr2):\n",
    "    i=0\n",
    "    j=0\n",
    "    len1 = len(arr1)\n",
    "    len2 = len(arr2)\n",
    "    \n",
    "    arr = []\n",
    "    \n",
    "    while((i<len1) and (j < len2)):\n",
    "        if(arr1[i] < arr2[j]):\n",
    "            arr.append(arr1[i])\n",
    "            i = i + 1\n",
    "        else:\n",
    "            arr.append(arr2[j])\n",
    "            j = j + 1\n",
    "    while(i < len1):\n",
    "        arr.append(arr1[i])\n",
    "        i = i + 1\n",
    "        \n",
    "    while(j < len2):\n",
    "        arr.append(arr2[j])\n",
    "        j = j + 1\n",
    "    return arr\n",
    "\n",
    "arr1 = [1,4,9,10]\n",
    "arr2 = [2,3,6,7,8]\n",
    "arr = mergeSortedArrays(arr1,arr2)\n",
    "print(arr)"
   ]
  },
  {
   "cell_type": "markdown",
   "metadata": {},
   "source": [
    "<b> Some Extra Imp. Qus </b>"
   ]
  },
  {
   "cell_type": "code",
   "execution_count": 22,
   "metadata": {},
   "outputs": [
    {
     "name": "stdout",
     "output_type": "stream",
     "text": [
      "1\n",
      "6\n",
      "2 0 1 2 0 0\n",
      "[2, 1, 2, 0, 0, 0]\n"
     ]
    }
   ],
   "source": [
    "# Push Zero At the End\n",
    "def pushZerosAtEnd(arr, n) :\n",
    "    nonZero = 0\n",
    "    for i in range(n):\n",
    "        if arr[i]!=0:\n",
    "            temp = arr[i]\n",
    "            arr[i] = arr[nonZero]\n",
    "            arr[nonZero] =temp\n",
    "            nonZero+=1\n",
    "\n",
    "t = int(input())\n",
    "while t>0:\n",
    "    n = int(input())\n",
    "    arr = [int(i) for i in input().split()]\n",
    "    pushZerosAtEnd(arr,n)\n",
    "    print(arr)\n",
    "    t-=1"
   ]
  },
  {
   "cell_type": "code",
   "execution_count": 26,
   "metadata": {},
   "outputs": [
    {
     "name": "stdout",
     "output_type": "stream",
     "text": [
      "1\n",
      "5\n",
      "1 5 2 4 3\n",
      "2\n",
      "[2, 4, 3, 1, 5]\n"
     ]
    }
   ],
   "source": [
    "# Rotate array by K step\n",
    "def swapElements(arr, start, end) : \n",
    "    arr[start], arr[end] = arr[end], arr[start]\n",
    "\n",
    "def reverse(arr, start, end): \n",
    "    while(start < end): \n",
    "        swapElements(arr, start, end) \n",
    "        start += 1 \n",
    "        end -= 1 \n",
    "        \n",
    "def rotate(arr, n, d): \n",
    "    if n == 0 : \n",
    "        return \n",
    "    \n",
    "    if d >= n and n != 0 : \n",
    "        d = d % n \n",
    "    \n",
    "    reverse(arr, 0, n - 1) \n",
    "    reverse(arr, 0, n - d - 1) \n",
    "    reverse(arr, n - d, n - 1)\n",
    "\n",
    "t = int(input())\n",
    "while t>0:\n",
    "    n = int(input())\n",
    "    arr = [int(i) for i in input().split()]\n",
    "    d = int(input())\n",
    "    rotate(arr,n,d)\n",
    "    print(arr)\n",
    "    t-=1"
   ]
  },
  {
   "cell_type": "code",
   "execution_count": 28,
   "metadata": {},
   "outputs": [
    {
     "name": "stdout",
     "output_type": "stream",
     "text": [
      "1\n",
      "6\n",
      "2 3 5 1 4 4 \n",
      "4\n"
     ]
    }
   ],
   "source": [
    "# Second Largest Element In Array\n",
    "MIN_VALUE = -2147483648 \n",
    "def secondLargestElement(arr, n): \n",
    "    if n == 0 : \n",
    "        return MIN_VALUE\n",
    "    largest = arr[0]\n",
    "    secondLargest = MIN_VALUE\n",
    "    for i in range(n) : \n",
    "        if largest < arr[i] :\n",
    "            secondLargest = largest\n",
    "            largest = arr[i] \n",
    "        elif secondLargest < arr[i] and arr[i] != largest :\n",
    "            secondLargest = arr[i]\n",
    "    return secondLargest\n",
    "\n",
    "t = int(input())\n",
    "while t>0:\n",
    "    n = int(input())\n",
    "    arr = [int(i) for i in input().split()]\n",
    "    print(secondLargestElement(arr,n))    \n",
    "    t-=1"
   ]
  },
  {
   "cell_type": "code",
   "execution_count": 29,
   "metadata": {},
   "outputs": [
    {
     "name": "stdout",
     "output_type": "stream",
     "text": [
      "1\n",
      "5\n",
      "1 0 2 0 1 \n",
      "[0, 0, 1, 1, 2]\n"
     ]
    }
   ],
   "source": [
    "# Sort 0 1 2 \n",
    "def sort012(arr, n) :\n",
    "    nextZero = 0 \n",
    "    nextTwo = (n - 1) \n",
    "    i = 0\n",
    "    while i <= nextTwo : \n",
    "        if arr[i] == 0 : \n",
    "            temp = arr[nextZero] \n",
    "            arr[nextZero] = arr[i] \n",
    "            arr[i] = temp\n",
    "            i += 1 \n",
    "            nextZero += 1 \n",
    "        elif arr[i] == 2 :\n",
    "            temp = arr[nextTwo]\n",
    "            arr[nextTwo] = arr[i]\n",
    "            arr[i] = temp\n",
    "            nextTwo -= 1 \n",
    "        else :\n",
    "            i += 1\n",
    "\n",
    "t = int(input())\n",
    "while t>0:\n",
    "    n = int(input())\n",
    "    arr = [int(i) for i in input().split()]\n",
    "    sort012(arr,n)\n",
    "    print(arr)\n",
    "    t-=1"
   ]
  },
  {
   "cell_type": "code",
   "execution_count": 43,
   "metadata": {},
   "outputs": [
    {
     "name": "stdout",
     "output_type": "stream",
     "text": [
      "1\n",
      "3\n",
      "6 2 4\n",
      "3\n",
      "7 5 6\n",
      "1 3 8 0 \n"
     ]
    }
   ],
   "source": [
    " from sys import stdin\n",
    "def sumOfTwoArrays(arr1,n,arr2, m, output) :\n",
    "    i = n - 1\n",
    "    j = m - 1\n",
    "    carry = 0 \n",
    "    \n",
    "    k = max(n, m) #k is the current index output array \n",
    "    \n",
    "    while i >= 0 and j >= 0 :\n",
    "        SUM = arr1[i] + arr2[j] + carry \n",
    "        output[k] = SUM % 10 \n",
    "        carry = SUM // 10\n",
    "        \n",
    "        i -= 1 \n",
    "        j -= 1 \n",
    "        k -= 1 \n",
    "        \n",
    "    while i >= 0 :\n",
    "        SUM = arr1[i] + carry \n",
    "        output[k] = SUM % 10\n",
    "        carry = SUM // 10\n",
    "        i -= 1\n",
    "        k -= 1\n",
    "        \n",
    "    while j >= 0 :\n",
    "        SUM = arr2[j] + carry \n",
    "        output[k] = SUM % 10 \n",
    "        carry = SUM // 10\n",
    "        j -= 1\n",
    "        k -= 1\n",
    "    \n",
    "    output[0] = carry\n",
    "\n",
    "\n",
    "#Taking Input Using Fast I/O\n",
    "def takeInput() :\n",
    "    n = int(input())\n",
    "    if n == 0 :\n",
    "        return list(), 0\n",
    "    \n",
    "    arr = [int(x) for x in input().split()]\n",
    "    return arr, n\n",
    "\n",
    "\n",
    "#to print the array/list\n",
    "def printList(arr, n) :\n",
    "    for i in range(n) :\n",
    "        print(arr[i], end = \" \")\n",
    "    \n",
    "    print()\n",
    "\n",
    "\n",
    "#main\n",
    "t = int(input())\n",
    "\n",
    "while t > 0 :\n",
    "    arr1, n = takeInput()\n",
    "    arr2, m = takeInput()\n",
    "    \n",
    "    outputSize = (1 + max(n, m))\n",
    "    output = outputSize * [0]\n",
    "    \n",
    "    sumOfTwoArrays(arr1, n, arr2, m, output)\n",
    "    printList(output, outputSize)\n",
    "    \n",
    "    t -= 1"
   ]
  }
 ],
 "metadata": {
  "kernelspec": {
   "display_name": "Python 3",
   "language": "python",
   "name": "python3"
  },
  "language_info": {
   "codemirror_mode": {
    "name": "ipython",
    "version": 3
   },
   "file_extension": ".py",
   "mimetype": "text/x-python",
   "name": "python",
   "nbconvert_exporter": "python",
   "pygments_lexer": "ipython3",
   "version"T: "3.7.6"
  }
 },
 "nbformat": 4,
 "nbformat_minor": 4
}
