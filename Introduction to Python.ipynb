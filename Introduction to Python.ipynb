{
 "cells": [
  {
   "cell_type": "markdown",
   "metadata": {},
   "source": [
    "### Hello World"
   ]
  },
  {
   "cell_type": "code",
   "execution_count": 2,
   "metadata": {},
   "outputs": [
    {
     "name": "stdout",
     "output_type": "stream",
     "text": [
      "Hello World\n",
      "This is my first programming language\n"
     ]
    }
   ],
   "source": [
    "# print(' ') or print(\" \") command which will print statement within ' ' or \" \"\n",
    "# Also it will add new line command automatically i.e \"\\n\"\n",
    "print(\"Hello World\")\n",
    "print('This is my first programming language')"
   ]
  },
  {
   "cell_type": "markdown",
   "metadata": {},
   "source": [
    "### Variables"
   ]
  },
  {
   "cell_type": "code",
   "execution_count": 4,
   "metadata": {},
   "outputs": [
    {
     "name": "stdout",
     "output_type": "stream",
     "text": [
      "30\n"
     ]
    }
   ],
   "source": [
    "# Variables are the names you give to computer memory locations which are used \n",
    "# to store values in a computer program.\n",
    "\n",
    "a = 10\n",
    "b = 20\n",
    "# It will show only output beacuse you have note used print command.\n",
    "a + b\n",
    "# Now By using *print()* It will Print the output\n",
    "print(a + b)"
   ]
  },
  {
   "cell_type": "markdown",
   "metadata": {},
   "source": [
    "### Rules of Variables name"
   ]
  },
  {
   "cell_type": "code",
   "execution_count": 7,
   "metadata": {},
   "outputs": [],
   "source": [
    "# Variables name must be alphabet(a to z and A-Z),\n",
    "# numarical(1,2,3..), and underscore ('_').\n",
    "ab1 = 10 #(Valid)\n",
    "_A = 20 # (Valid)\n",
    "# 12A = 30 # (Not Valid)"
   ]
  },
  {
   "cell_type": "markdown",
   "metadata": {},
   "source": [
    "### assigning different type of data to a variable"
   ]
  },
  {
   "cell_type": "code",
   "execution_count": 2,
   "metadata": {},
   "outputs": [
    {
     "name": "stdout",
     "output_type": "stream",
     "text": [
      "hthths\n"
     ]
    }
   ],
   "source": [
    "a = 10\n",
    "a = 20\n",
    "a = \"hthths\"\n",
    "print(a)"
   ]
  },
  {
   "cell_type": "markdown",
   "metadata": {},
   "source": [
    "### Variables Declartion "
   ]
  },
  {
   "cell_type": "markdown",
   "metadata": {},
   "source": [
    "Python does not require you to declare variables because Python is a Dynamically Typed language.\n",
    "\n",
    "C and C++ are statically typed language. That means you have to declare the data types of variables. Where as in python, you directly assign the values to variables and it automatically adapts the data type based on your assignment."
   ]
  },
  {
   "cell_type": "markdown",
   "metadata": {},
   "source": [
    "### Type Check of Data"
   ]
  },
  {
   "cell_type": "code",
   "execution_count": 9,
   "metadata": {},
   "outputs": [
    {
     "name": "stdout",
     "output_type": "stream",
     "text": [
      "<class 'int'>\n",
      "<class 'float'>\n",
      "<class 'str'>\n",
      "<class 'bool'>\n"
     ]
    }
   ],
   "source": [
    "# type(variables) this function will tell type of Data\n",
    "a = 10\n",
    "b = 2.14\n",
    "c = \"Hello\"\n",
    "d = True\n",
    "print(type(a));\n",
    "print(type(b));\n",
    "print(type(c));\n",
    "print(type(d));"
   ]
  },
  {
   "cell_type": "code",
   "execution_count": 10,
   "metadata": {},
   "outputs": [
    {
     "name": "stdout",
     "output_type": "stream",
     "text": [
      "<class 'complex'>\n"
     ]
    }
   ],
   "source": [
    "# Apart from all these we have one more type of data i.e Complex which is combination \n",
    "# of Real and imagenerory part.\n",
    "a = 5+9j\n",
    "print(type(a))"
   ]
  },
  {
   "cell_type": "markdown",
   "metadata": {},
   "source": [
    "### To Find address of the variables "
   ]
  },
  {
   "cell_type": "code",
   "execution_count": 12,
   "metadata": {},
   "outputs": [
    {
     "name": "stdout",
     "output_type": "stream",
     "text": [
      "140734932623888\n",
      "140734932624048\n"
     ]
    }
   ],
   "source": [
    "# (-5 to 256) numbes are same address for same number in meamory\n",
    "a = 5\n",
    "b = 10\n",
    "print(id(a))\n",
    "print(id(b))"
   ]
  },
  {
   "cell_type": "code",
   "execution_count": 13,
   "metadata": {},
   "outputs": [
    {
     "name": "stdout",
     "output_type": "stream",
     "text": [
      "140734932623888\n",
      "140734932623888\n"
     ]
    }
   ],
   "source": [
    "a = 5\n",
    "b = 5\n",
    "print(id(a))\n",
    "print(id(b))"
   ]
  },
  {
   "cell_type": "markdown",
   "metadata": {},
   "source": [
    "### Arithmatic Operators"
   ]
  },
  {
   "cell_type": "code",
   "execution_count": 2,
   "metadata": {},
   "outputs": [
    {
     "name": "stdout",
     "output_type": "stream",
     "text": [
      "16\n",
      "24\n"
     ]
    }
   ],
   "source": [
    "a = 20a * b\n",
    "b = 4\n",
    "print(a - b)\n",
    "print(a + b)"
   ]
  },
  {
   "cell_type": "code",
   "execution_count": 3,
   "metadata": {},
   "outputs": [
    {
     "name": "stdout",
     "output_type": "stream",
     "text": [
      "80\n"
     ]
    }
   ],
   "source": [
    "print(a * b)"
   ]
  },
  {
   "cell_type": "code",
   "execution_count": 4,
   "metadata": {},
   "outputs": [
    {
     "name": "stdout",
     "output_type": "stream",
     "text": [
      "5.0\n"
     ]
    }
   ],
   "source": [
    "print(a / b) # floating point division"
   ]
  },
  {
   "cell_type": "code",
   "execution_count": 5,
   "metadata": {},
   "outputs": [
    {
     "name": "stdout",
     "output_type": "stream",
     "text": [
      "5\n"
     ]
    }
   ],
   "source": [
    "print(a//b) # integer division"
   ]
  },
  {
   "cell_type": "code",
   "execution_count": 6,
   "metadata": {},
   "outputs": [
    {
     "name": "stdout",
     "output_type": "stream",
     "text": [
      "160000\n"
     ]
    }
   ],
   "source": [
    "print(a**b) # exponentiation"
   ]
  },
  {
   "cell_type": "code",
   "execution_count": 7,
   "metadata": {},
   "outputs": [
    {
     "name": "stdout",
     "output_type": "stream",
     "text": [
      "0\n"
     ]
    }
   ],
   "source": [
    "print(a % b)"
   ]
  },
  {
   "cell_type": "code",
   "execution_count": 17,
   "metadata": {},
   "outputs": [
    {
     "name": "stdout",
     "output_type": "stream",
     "text": [
      "14\n"
     ]
    }
   ],
   "source": [
    "print(2 + 3 * 4) # 14 or 20"
   ]
  },
  {
   "cell_type": "code",
   "execution_count": 16,
   "metadata": {},
   "outputs": [
    {
     "name": "stdout",
     "output_type": "stream",
     "text": [
      "1.5\n"
     ]
    }
   ],
   "source": [
    "print(2 * 3 / 4) # doesn't matter what operation is done first"
   ]
  },
  {
   "cell_type": "code",
   "execution_count": 15,
   "metadata": {},
   "outputs": [
    {
     "name": "stdout",
     "output_type": "stream",
     "text": [
      "1\n"
     ]
    }
   ],
   "source": [
    "print((2 * 3) // 4)"
   ]
  },
  {
   "cell_type": "code",
   "execution_count": 14,
   "metadata": {},
   "outputs": [
    {
     "name": "stdout",
     "output_type": "stream",
     "text": [
      "26\n"
     ]
    }
   ],
   "source": [
    "# simple interest to lower integer\n",
    "p = 110\n",
    "r = 12\n",
    "t = 2\n",
    "# si = p * r * t // 100\n",
    "#si = t//100 * r * p\n",
    "si = (p * r * t)//100\n",
    "print(si)"
   ]
  },
  {
   "cell_type": "code",
   "execution_count": 13,
   "metadata": {},
   "outputs": [
    {
     "name": "stdout",
     "output_type": "stream",
     "text": [
      "37.77777777777778\n",
      "37\n"
     ]
    }
   ],
   "source": [
    "# fah to celcium conversion\n",
    "f = 100\n",
    "c = (f - 32) * 5/9\n",
    "print(c)\n",
    "ci = (f - 32) * 5//9\n",
    "print(ci)"
   ]
  },
  {
   "cell_type": "markdown",
   "metadata": {},
   "source": [
    "### Input"
   ]
  },
  {
   "cell_type": "code",
   "execution_count": 5,
   "metadata": {},
   "outputs": [
    {
     "name": "stdout",
     "output_type": "stream",
     "text": [
      "6\n",
      "<class 'str'>\n",
      "3\n",
      "2\n",
      "32\n",
      "<class 'str'>\n"
     ]
    }
   ],
   "source": [
    "# For taking input in Python we have use sinple input() command.\n",
    "# By default it will give string \n",
    "a = (input())\n",
    "print(type(a))\n",
    "\n",
    "# For exmple\n",
    "# To convert in desire data write ahed it\n",
    "a = input()\n",
    "b = input()\n",
    "print(a+b)\n",
    "print(type(a+b))"
   ]
  },
  {
   "cell_type": "code",
   "execution_count": 3,
   "metadata": {},
   "outputs": [
    {
     "name": "stdout",
     "output_type": "stream",
     "text": [
      "5\n",
      "6\n",
      "11\n"
     ]
    }
   ],
   "source": [
    "# To convert in desire data write ahed it\n",
    "a = int(input())\n",
    "b = int(input())\n",
    "print(a+b)"
   ]
  },
  {
   "cell_type": "code",
   "execution_count": 1,
   "metadata": {},
   "outputs": [
    {
     "name": "stdout",
     "output_type": "stream",
     "text": [
      "6\n",
      "3\n",
      "9.0\n"
     ]
    }
   ],
   "source": [
    "# For Float\n",
    "a = float(input())\n",
    "b = float(input())\n",
    "print(a+b)"
   ]
  },
  {
   "cell_type": "markdown",
   "metadata": {},
   "source": [
    "### Extra Ques for Practices "
   ]
  },
  {
   "cell_type": "code",
   "execution_count": 2,
   "metadata": {},
   "outputs": [
    {
     "name": "stdout",
     "output_type": "stream",
     "text": [
      "100\n",
      "2\n",
      "3\n",
      "6\n"
     ]
    }
   ],
   "source": [
    "# simple interest to lower integer\n",
    "p = int(input())\n",
    "r = int(input())\n",
    "t = int(input())\n",
    "# si = p * r * t // 100\n",
    "#si = t//100 * r * p\n",
    "si = (p * r * t)//100\n",
    "print(si)"
   ]
  },
  {
   "cell_type": "code",
   "execution_count": 3,
   "metadata": {},
   "outputs": [
    {
     "name": "stdout",
     "output_type": "stream",
     "text": [
      "60\n",
      "15.555555555555555\n",
      "15\n"
     ]
    }
   ],
   "source": [
    "# fah to celcius conversion\n",
    "f = int(input())\n",
    "c = (f - 32) * 5/9\n",
    "print(c)\n",
    "ci = (f - 32) * 5//9\n",
    "print(ci)"
   ]
  },
  {
   "cell_type": "code",
   "execution_count": 4,
   "metadata": {},
   "outputs": [
    {
     "name": "stdout",
     "output_type": "stream",
     "text": [
      "90\n",
      "75\n",
      "85\n",
      "83.33333333333333\n"
     ]
    }
   ],
   "source": [
    "# Find average Marks\n",
    "a = int(input())\n",
    "b = int(input())\n",
    "c = int(input())\n",
    "avg = (a + b + c) / 3\n",
    "print(avg)"
   ]
  },
  {
   "cell_type": "code",
   "execution_count": 6,
   "metadata": {},
   "outputs": [
    {
     "name": "stdout",
     "output_type": "stream",
     "text": [
      "10\n",
      "3\n",
      "1000\n"
     ]
    }
   ],
   "source": [
    "# Find X raised to power N\n",
    "X = int(input())\n",
    "N = int(input())\n",
    "Z = X**N\n",
    "print(Z)"
   ]
  },
  {
   "cell_type": "code",
   "execution_count": 7,
   "metadata": {},
   "outputs": [
    {
     "name": "stdout",
     "output_type": "stream",
     "text": [
      "10\n",
      "20\n",
      "30\n",
      "10\n"
     ]
    }
   ],
   "source": [
    "# Arithmetic Progression\n",
    "b = int(input())\n",
    "b = int(input())\n",
    "c = int(input())\n",
    "d = c - b\n",
    "print(d)\n"
   ]
  },
  {
   "cell_type": "code",
   "execution_count": 8,
   "metadata": {},
   "outputs": [
    {
     "name": "stdout",
     "output_type": "stream",
     "text": [
      "10\n",
      "20\n",
      "30\n",
      "40\n",
      "400\n"
     ]
    }
   ],
   "source": [
    "# Rectangular Area\n",
    "x1 = int(input())\n",
    "y1 = int(input())\n",
    "x2 = int(input())\n",
    "y2 = int(input())\n",
    "A = (x2 - x1) * (y2 - y1)\n",
    "print(A)"
   ]
  }
 ],
 "metadata": {
  "kernelspec": {
   "display_name": "Python 3",
   "language": "python",
   "name": "python3"
  },
  "language_info": {
   "codemirror_mode": {
    "name": "ipython",
    "version": 3
   },
   "file_extension": ".py",
   "mimetype": "text/x-python",
   "name": "python",
   "nbconvert_exporter": "python",
   "pygments_lexer": "ipython3",
   "version": "3.7.6"
  }
 },
 "nbformat": 4,
 "nbformat_minor": 4
}
