{
 "cells": [
  {
   "cell_type": "markdown",
   "metadata": {},
   "source": [
    "### Two Dimensionla Array\n",
    "Two dimensional array is an array within an array. It is an array of arrays. In this type of array the position of an data element is referred by two indices instead of one. So it represents a table with rows an dcolumns of data. In the below example of a two dimensional array, observer that each array element itself is also an array."
   ]
  },
  {
   "cell_type": "markdown",
   "metadata": {},
   "source": [
    "<b>Consider the example of recording temperatures 4 times a day, every day. Some times the recording instrument may be faulty and we fail to record data. Such data for 4 days can be presented as a two dimensional array as below</b>\n",
    "\n",
    "Day 1 - 11 12 5 2<br>\n",
    "Day 2 - 15 6 10 <br>\n",
    "Day 3 - 10 8 12 5 <br>\n",
    "Day 4 - 12 15 8 6<br>"
   ]
  },
  {
   "cell_type": "markdown",
   "metadata": {},
   "source": [
    "<b>The above data can be represented as a two dimensional array as below.</b><br>"
   ]
  },
  {
   "cell_type": "code",
   "execution_count": 1,
   "metadata": {},
   "outputs": [],
   "source": [
    "arr_2d = [[11, 12, 5, 2], [15, 6,10], [10, 8, 12, 5], [12,15,8,6]]"
   ]
  },
  {
   "cell_type": "code",
   "execution_count": 2,
   "metadata": {},
   "outputs": [
    {
     "name": "stdout",
     "output_type": "stream",
     "text": [
      "[[11, 12, 5, 2], [15, 6, 10], [10, 8, 12, 5], [12, 15, 8, 6]]\n"
     ]
    }
   ],
   "source": [
    "print(arr_2d)"
   ]
  },
  {
   "cell_type": "code",
   "execution_count": 3,
   "metadata": {},
   "outputs": [
    {
     "name": "stdout",
     "output_type": "stream",
     "text": [
      "[11, 12, 5, 2]\n"
     ]
    }
   ],
   "source": [
    "# Row access\n",
    "print(arr_2d[0])"
   ]
  },
  {
   "cell_type": "code",
   "execution_count": 4,
   "metadata": {},
   "outputs": [
    {
     "name": "stdout",
     "output_type": "stream",
     "text": [
      "[15, 6, 10]\n"
     ]
    }
   ],
   "source": [
    "print(arr_2d[1])"
   ]
  },
  {
   "cell_type": "code",
   "execution_count": 5,
   "metadata": {},
   "outputs": [
    {
     "name": "stdout",
     "output_type": "stream",
     "text": [
      "[12, 15, 8, 6]\n"
     ]
    }
   ],
   "source": [
    "print(arr_2d[3])"
   ]
  },
  {
   "cell_type": "code",
   "execution_count": 6,
   "metadata": {},
   "outputs": [
    {
     "name": "stdout",
     "output_type": "stream",
     "text": [
      "11\n"
     ]
    }
   ],
   "source": [
    "# prinr elenment\n",
    "print(arr_2d[0][0]) # [R][C] R->Row and C->column"
   ]
  },
  {
   "cell_type": "code",
   "execution_count": 8,
   "metadata": {},
   "outputs": [
    {
     "name": "stdout",
     "output_type": "stream",
     "text": [
      "12\n"
     ]
    }
   ],
   "source": [
    "# prinr elenment\n",
    "print(arr_2d[0][1]) #[R][C] R->Row and C->column"
   ]
  },
  {
   "cell_type": "code",
   "execution_count": 9,
   "metadata": {},
   "outputs": [
    {
     "name": "stdout",
     "output_type": "stream",
     "text": [
      "15\n"
     ]
    }
   ],
   "source": [
    "# prinr elenment\n",
    "print(arr_2d[1][0]) # [R][C] R->Row and C->column"
   ]
  },
  {
   "cell_type": "code",
   "execution_count": 11,
   "metadata": {},
   "outputs": [
    {
     "name": "stdout",
     "output_type": "stream",
     "text": [
      "11 12 5 2 \n",
      "15 6 10 \n",
      "10 8 12 5 \n",
      "12 15 8 6 \n"
     ]
    }
   ],
   "source": [
    "# Prinr whole arr_2d in 2D form\n",
    "for row in arr_2d:\n",
    "    for col in row:\n",
    "        print(col, end = \" \")\n",
    "    print()"
   ]
  },
  {
   "cell_type": "markdown",
   "metadata": {},
   "source": [
    "<b>Declare 2D List taking Input by user</b>"
   ]
  },
  {
   "cell_type": "code",
   "execution_count": 31,
   "metadata": {},
   "outputs": [
    {
     "name": "stdout",
     "output_type": "stream",
     "text": [
      "3\n",
      "3\n",
      "1\n",
      "2\n",
      "3\n",
      "4\n",
      "5\n",
      "6\n",
      "7\n",
      "8\n",
      "9\n",
      "1 2 3 \n",
      "4 5 6 \n",
      "7 8 9 \n"
     ]
    }
   ],
   "source": [
    "row = int(input())\n",
    "col = int(input())\n",
    "li_2d = []\n",
    "for r in range(row):\n",
    "    a = []\n",
    "    for c in range(col):\n",
    "        a.append(int(input()))\n",
    "    li_2d.append(a)\n",
    "    \n",
    "for r in range(row):\n",
    "    for c in range(col):\n",
    "        print(li_2d[r][c], end = \" \")\n",
    "    print()"
   ]
  },
  {
   "cell_type": "markdown",
   "metadata": {},
   "source": [
    "<b> Access an element in 2D array </b>"
   ]
  },
  {
   "cell_type": "code",
   "execution_count": 32,
   "metadata": {},
   "outputs": [
    {
     "name": "stdout",
     "output_type": "stream",
     "text": [
      "3\n"
     ]
    }
   ],
   "source": [
    "print(li_2d[0][2])"
   ]
  },
  {
   "cell_type": "code",
   "execution_count": 33,
   "metadata": {},
   "outputs": [
    {
     "name": "stdout",
     "output_type": "stream",
     "text": [
      "9\n"
     ]
    }
   ],
   "source": [
    "print(li_2d[2][2])"
   ]
  },
  {
   "cell_type": "code",
   "execution_count": 34,
   "metadata": {},
   "outputs": [],
   "source": [
    "li_2d[0][0]=3"
   ]
  },
  {
   "cell_type": "code",
   "execution_count": 35,
   "metadata": {},
   "outputs": [
    {
     "name": "stdout",
     "output_type": "stream",
     "text": [
      "3 2 3 \n",
      "4 5 6 \n",
      "7 8 9 \n"
     ]
    }
   ],
   "source": [
    "for r in range(row):\n",
    "    for c in range(col):\n",
    "        print(li_2d[r][c], end = \" \")\n",
    "    print()"
   ]
  },
  {
   "cell_type": "code",
   "execution_count": 37,
   "metadata": {},
   "outputs": [
    {
     "name": "stdout",
     "output_type": "stream",
     "text": [
      "47\n"
     ]
    }
   ],
   "source": [
    "sum = 0\n",
    "for r in range(row):\n",
    "    for c in range(col):\n",
    "        sum+=li_2d[r][c]\n",
    "print(sum)"
   ]
  },
  {
   "cell_type": "markdown",
   "metadata": {},
   "source": [
    "<b> Another way to inetialization of an 2D array</b>"
   ]
  },
  {
   "cell_type": "code",
   "execution_count": 43,
   "metadata": {},
   "outputs": [
    {
     "name": "stdout",
     "output_type": "stream",
     "text": [
      "3\n",
      "3\n",
      "1 2 3 4 5 6 7 8 9\n",
      "[[1 2 3]\n",
      " [4 5 6]\n",
      " [7 8 9]]\n"
     ]
    }
   ],
   "source": [
    "import numpy as np\n",
    "row = int(input())\n",
    "col = int(input())\n",
    "\n",
    "ele = list(map(int,input().split()))\n",
    "matrix = np.array(ele).reshape(row,col)\n",
    "print(matrix)"
   ]
  },
  {
   "cell_type": "markdown",
   "metadata": {},
   "source": [
    "<b> Access an element in 2D array </b>"
   ]
  },
  {
   "cell_type": "code",
   "execution_count": 44,
   "metadata": {},
   "outputs": [
    {
     "name": "stdout",
     "output_type": "stream",
     "text": [
      "2\n"
     ]
    }
   ],
   "source": [
    "print(ele[1])"
   ]
  },
  {
   "cell_type": "code",
   "execution_count": 45,
   "metadata": {},
   "outputs": [
    {
     "name": "stdout",
     "output_type": "stream",
     "text": [
      "4\n"
     ]
    }
   ],
   "source": [
    "print(ele[3])"
   ]
  },
  {
   "cell_type": "code",
   "execution_count": 46,
   "metadata": {},
   "outputs": [],
   "source": [
    "ele[1] = 10\n",
    "ele[3] = 21"
   ]
  },
  {
   "cell_type": "code",
   "execution_count": 48,
   "metadata": {},
   "outputs": [
    {
     "name": "stdout",
     "output_type": "stream",
     "text": [
      "[[ 1 10  3]\n",
      " [21  5  6]\n",
      " [ 7  8  9]]\n"
     ]
    }
   ],
   "source": [
    "matrix = np.array(ele).reshape(row,col)\n",
    "print(matrix)"
   ]
  },
  {
   "cell_type": "markdown",
   "metadata": {},
   "source": [
    "### List Comprehension\n",
    "Python provides compact syntax for deriving one list from another. These expressions are called list comprehensions.List comprehensions are one of the most powerful tools in Python. Python’s list comprehension is an example of the language’s support for functional programming concepts.\n",
    "The Python list comprehensions are a very easy way to apply a function or filter to a list of items. List comprehensions can be very useful if used correctly but very unreadable if you're not careful.\n",
    "\n",
    "<b>Syntax</b>\n",
    "The general syntax of list comprehensions is −\n",
    "\n",
    "<b>[expr for element in iterable if condition]</b>"
   ]
  },
  {
   "cell_type": "code",
   "execution_count": 60,
   "metadata": {},
   "outputs": [
    {
     "name": "stdout",
     "output_type": "stream",
     "text": [
      "[1, 4, 9, 16]\n"
     ]
    }
   ],
   "source": [
    "# for eg. we have to find squre of ele\n",
    "li = [1,2,3,4]\n",
    "li_new = []\n",
    "for ele in li:\n",
    "    li_new.append(ele**2)\n",
    "print(li_new)"
   ]
  },
  {
   "cell_type": "code",
   "execution_count": 63,
   "metadata": {},
   "outputs": [
    {
     "name": "stdout",
     "output_type": "stream",
     "text": [
      "[1, 4, 9, 16]\n"
     ]
    }
   ],
   "source": [
    "# Apply List Comprehension in one line\n",
    "li_new_c = [ele**2 for ele in li]\n",
    "print(li_new_c)"
   ]
  },
  {
   "cell_type": "code",
   "execution_count": 66,
   "metadata": {},
   "outputs": [
    {
     "name": "stdout",
     "output_type": "stream",
     "text": [
      "[4, 16]\n"
     ]
    }
   ],
   "source": [
    "# Let's find square on an even ele\n",
    "li_even_square = [ele**2 for ele in li if ele%2==0]\n",
    "print(li_even_square)"
   ]
  },
  {
   "cell_type": "code",
   "execution_count": 68,
   "metadata": {},
   "outputs": [
    {
     "name": "stdout",
     "output_type": "stream",
     "text": [
      "[4, 16]\n"
     ]
    }
   ],
   "source": [
    "# without List comprehention \n",
    "li_even_sq = []\n",
    "for ele in li:\n",
    "    if ele%2==0:\n",
    "        li_even_sq.append(ele**2)\n",
    "print(li_even_sq)"
   ]
  },
  {
   "cell_type": "code",
   "execution_count": 74,
   "metadata": {},
   "outputs": [
    {
     "name": "stdout",
     "output_type": "stream",
     "text": [
      "[6]\n"
     ]
    }
   ],
   "source": [
    "# without using list comprehension \n",
    "li_c = [1,2,3,4,5,6,7,8,9,]\n",
    "li_n = []\n",
    "for ele in li_c:\n",
    "    if ele%2==0:\n",
    "        if ele%3==0:\n",
    "            li_n.append(ele)\n",
    "print(li_n)\n",
    "            "
   ]
  },
  {
   "cell_type": "code",
   "execution_count": 75,
   "metadata": {},
   "outputs": [
    {
     "name": "stdout",
     "output_type": "stream",
     "text": [
      "[6]\n"
     ]
    }
   ],
   "source": [
    "# append the element which is mutiple of 2 and 3 \n",
    "li = [1,2,3,4,5,6,7,8,9]\n",
    "li_new = [ele for ele in li if ele%2==0 if ele%3==0]\n",
    "print(li_new)"
   ]
  },
  {
   "cell_type": "code",
   "execution_count": 78,
   "metadata": {},
   "outputs": [
    {
     "name": "stdout",
     "output_type": "stream",
     "text": [
      "[2, 4]\n"
     ]
    }
   ],
   "source": [
    "# let's find Intersection\n",
    "li1 = [1,2,3,4,5]\n",
    "li2 = [2,4,6,7]\n",
    "li_inter = []\n",
    "for ele1 in li1:\n",
    "    for ele2 in li2:\n",
    "        if ele1==ele2:\n",
    "            li_inter.append(ele1)   \n",
    "print(li_inter)"
   ]
  },
  {
   "cell_type": "code",
   "execution_count": 82,
   "metadata": {},
   "outputs": [
    {
     "name": "stdout",
     "output_type": "stream",
     "text": [
      "[2, 4]\n"
     ]
    }
   ],
   "source": [
    "# Let'd do same tjing by using List comprehention\n",
    "li1 = [1,2,3,4,5]\n",
    "li2 = [2,4,6,7]\n",
    "li_inter = [ele1 for ele1 in li1 for ele2 in li2 if ele1==ele2]\n",
    "print(li_inter)"
   ]
  },
  {
   "cell_type": "code",
   "execution_count": 85,
   "metadata": {},
   "outputs": [
    {
     "name": "stdout",
     "output_type": "stream",
     "text": [
      "[1, 4, 3, 16, 5, 36]\n"
     ]
    }
   ],
   "source": [
    "# if multiple of 2 the do square if not do nothing\n",
    "li = [1,2,3,4,5,6]\n",
    "li_n =[]\n",
    "for ele in li:\n",
    "    if ele%2==0:\n",
    "        li_n.append(ele**2)\n",
    "    else:\n",
    "        li_n.append(ele)\n",
    "        \n",
    "print(li_n)"
   ]
  },
  {
   "cell_type": "code",
   "execution_count": 87,
   "metadata": {},
   "outputs": [
    {
     "name": "stdout",
     "output_type": "stream",
     "text": [
      "[1, 4, 3, 16, 5, 36]\n"
     ]
    }
   ],
   "source": [
    "# let's do same thing using list comprehension\n",
    "li = [1,2,3,4,5,6]\n",
    "li_n = [ele**2 if ele%2==0 else ele for ele in li]\n",
    "print(li_n)"
   ]
  },
  {
   "cell_type": "code",
   "execution_count": 88,
   "metadata": {},
   "outputs": [
    {
     "name": "stdout",
     "output_type": "stream",
     "text": [
      "['D', 'e', 'e', 'p', 'a', 'k']\n"
     ]
    }
   ],
   "source": [
    "# List comprehension in string\n",
    "s = \"Deepak\"\n",
    "li = [ele for ele in s]\n",
    "print(li)"
   ]
  },
  {
   "cell_type": "code",
   "execution_count": 90,
   "metadata": {},
   "outputs": [
    {
     "name": "stdout",
     "output_type": "stream",
     "text": [
      "[['D', 'e', 'e', 'p', 'a', 'k'], ['G', 'y', 'a', 'n'], ['A', 'm', 'a', 'n']]\n"
     ]
    }
   ],
   "source": [
    "li = [\"Deepak\", \"Gyan\", \"Aman\"]\n",
    "li_2d = [[s for s in ele] for ele in li]\n",
    "print(li_2d)"
   ]
  },
  {
   "cell_type": "markdown",
   "metadata": {},
   "source": [
    "<b> Taking Input an Array unig List Comprehension</b>"
   ]
  },
  {
   "cell_type": "code",
   "execution_count": 91,
   "metadata": {
    "scrolled": false
   },
   "outputs": [
    {
     "name": "stdout",
     "output_type": "stream",
     "text": [
      "3 3\n",
      "1 2 3\n",
      "4 5 6\n",
      "7 8 9\n"
     ]
    }
   ],
   "source": [
    "str = input().split()\n",
    "n,m = int(str[0]),int(str[1])\n",
    "li_2d = [[int(j) for j in  input().split()] for i in range(n)]"
   ]
  },
  {
   "cell_type": "markdown",
   "metadata": {},
   "source": [
    "<b> Jagged List</b><br>\n",
    "A jagged array in Python is pretty much a list of lists as you stduied. in which coloumn size is not fixed"
   ]
  },
  {
   "cell_type": "code",
   "execution_count": 92,
   "metadata": {},
   "outputs": [
    {
     "name": "stdout",
     "output_type": "stream",
     "text": [
      "3\n",
      "1 2 3\n",
      "2 3\n",
      "7 8 9 6\n"
     ]
    }
   ],
   "source": [
    "n = int(input())\n",
    "li_2d = [[int(j) for j in  input().split()] for i in range(n)]"
   ]
  },
  {
   "cell_type": "markdown",
   "metadata": {},
   "source": [
    "<b> Some Qus for peactices </b>"
   ]
  },
  {
   "cell_type": "code",
   "execution_count": 8,
   "metadata": {},
   "outputs": [
    {
     "name": "stdout",
     "output_type": "stream",
     "text": [
      "3 3\n",
      "1 2 3\n",
      "4 5 6\n",
      "7 8 9\n",
      "6 15 24 "
     ]
    }
   ],
   "source": [
    "# Find Row wise sum\n",
    "str = input().split()\n",
    "n,m = int(str[0]),int(str[1])\n",
    "li_2d = [[int(j) for j in  input().split()] for i in range(n)]\n",
    "    \n",
    "for r in range(n):\n",
    "    sum = 0\n",
    "    for c in range(m):\n",
    "        sum+=li_2d[r][c]\n",
    "    print(sum, end =\" \")\n",
    "   "
   ]
  },
  {
   "cell_type": "code",
   "execution_count": 9,
   "metadata": {},
   "outputs": [
    {
     "name": "stdout",
     "output_type": "stream",
     "text": [
      "3 3\n",
      "1 2 3\n",
      "4 5 6\n",
      "7 8 9\n",
      "\n",
      "24\n"
     ]
    }
   ],
   "source": [
    "# Find column wise max sum\n",
    "str = input().split()\n",
    "n,m = int(str[0]),int(str[1])\n",
    "li_2d = [[int(j) for j in  input().split()] for i in range(n)]\n",
    "print()\n",
    "max = -1\n",
    "for c in range(m):\n",
    "    sum = 0\n",
    "    for r in range(n):\n",
    "        sum+=li_2d[r][c]\n",
    "        if sum>max:\n",
    "            max = sum\n",
    "print(max)\n",
    "   "
   ]
  },
  {
   "cell_type": "code",
   "execution_count": 12,
   "metadata": {},
   "outputs": [
    {
     "name": "stdout",
     "output_type": "stream",
     "text": [
      "3 3\n",
      "10 20 30\n",
      "40 50 60\n",
      "70 80 90\n",
      "\n",
      "10 40 70 80 50 20 30 60 90 "
     ]
    }
   ],
   "source": [
    "# Wave form\n",
    "str = input().split()\n",
    "n,m = int(str[0]),int(str[1])\n",
    "li_2d = [[int(j) for j in  input().split()] for i in range(n)]\n",
    "print()\n",
    "\n",
    "for c in range(m):\n",
    "    if c%2==0:\n",
    "        for r in range(n):\n",
    "            print(li_2d[r][c], end= \" \")\n",
    "    else:\n",
    "        for r in range((n-1),-1,-1):\n",
    "            print(li_2d[r][c],end= \" \")\n",
    "   "
   ]
  }
 ],
 "metadata": {
  "kernelspec": {
   "display_name": "Python 3",
   "language": "python",
   "name": "python3"
  },
  "language_info": {
   "codemirror_mode": {
    "name": "ipython",
    "version": 3
   },
   "file_extension": ".py",
   "mimetype": "text/x-python",
   "name": "python",
   "nbconvert_exporter": "python",
   "pygments_lexer": "ipython3",
   "version": "3.7.6"
  }
 },
 "nbformat": 4,
 "nbformat_minor": 4
}
