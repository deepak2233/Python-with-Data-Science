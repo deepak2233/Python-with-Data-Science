{
 "cells": [
  {
   "cell_type": "markdown",
   "metadata": {},
   "source": [
    "### Abstract class\n",
    "- A class is called an Abstract class if it contains one or more abstract methods. An abstract method is a method that is declared, but contains no implementation. Abstract classes may not be instantiated, and its abstract methods must be implemented by its subclasses."
   ]
  },
  {
   "cell_type": "markdown",
   "metadata": {},
   "source": [
    "### Why use Abstract Base Classes :\n",
    "- By defining an abstract base class, you can define a common Application Program Interface(API) for a set of subclasses. This capability is especially useful in situations where a third-party is going to provide implementations, such as with plugins, but can also help you when working in a large team or with a large code-base where keeping all classes in your mind is difficult or not possible."
   ]
  },
  {
   "cell_type": "markdown",
   "metadata": {},
   "source": [
    "### Example\n",
    "- <b>How Abstract Base classes work</b><br>\n",
    "- By default, Python does not provide abstract classes. Python comes with a module which provides the base for defining Abstract Base classes(ABC) and that module name is ABC. ABC works by decorating methods of the base class as abstract and then registering concrete classes as implementations of the abstract base. A method becomes abstract when decorated with the keyword @abstractmethod. For Example –\n"
   ]
  },
  {
   "cell_type": "code",
   "execution_count": 17,
   "metadata": {},
   "outputs": [
    {
     "name": "stdout",
     "output_type": "stream",
     "text": [
      "I have 3 sides\n",
      "I have 4 sides\n",
      "I have 5 sides\n",
      "I have 6 sides\n"
     ]
    }
   ],
   "source": [
    "# Python program showing \n",
    "# abstract base class work \n",
    "\n",
    "from abc import ABC, abstractmethod \n",
    "\n",
    "class Polygon(ABC): \n",
    "\n",
    "    # abstract method \n",
    "    def noofsides(self): \n",
    "        pass\n",
    "\n",
    "class Triangle(Polygon): \n",
    "\n",
    "    # overriding abstract method \n",
    "    def noofsides(self): \n",
    "        print(\"I have 3 sides\") \n",
    "\n",
    "class Pentagon(Polygon): \n",
    "\n",
    "    # overriding abstract method \n",
    "    def noofsides(self): \n",
    "        print(\"I have 5 sides\") \n",
    "\n",
    "class Hexagon(Polygon): \n",
    "\n",
    "    # overriding abstract method \n",
    "    def noofsides(self): \n",
    "        print(\"I have 6 sides\") \n",
    "\n",
    "class Quadrilateral(Polygon): \n",
    "\n",
    "    # overriding abstract method \n",
    "    def noofsides(self): \n",
    "        print(\"I have 4 sides\") \n",
    "\n",
    "# Driver code \n",
    "R = Triangle() \n",
    "R.noofsides() \n",
    "\n",
    "K = Quadrilateral() \n",
    "K.noofsides() \n",
    "\n",
    "R = Pentagon() \n",
    "R.noofsides() \n",
    "\n",
    "K = Hexagon() \n",
    "K.noofsides() \n"
   ]
  },
  {
   "cell_type": "code",
   "execution_count": 18,
   "metadata": {},
   "outputs": [
    {
     "name": "stdout",
     "output_type": "stream",
     "text": [
      "Automobile created\n",
      "Automobile created\n",
      "4\n"
     ]
    }
   ],
   "source": [
    "\n",
    "from abc import ABC,abstractmethod\n",
    "\n",
    "class Automobile(ABC):\n",
    "\n",
    "    def __init__(self,no_of_wheels):\n",
    "        self.no_of_wheels = no_of_wheels\n",
    "        print(\"Automobile created\")\n",
    "\n",
    "    @abstractmethod\n",
    "    def start(self):\n",
    "        print(\"start of Automobile called\")\n",
    "    @abstractmethod\n",
    "    def stop(self):\n",
    "        pass\n",
    "\n",
    "    @abstractmethod\n",
    "    def drive(self):\n",
    "        pass\n",
    "    @abstractmethod\n",
    "    def get_no_of_wheels(self):\n",
    "        return self.no_of_wheels\n",
    "\n",
    "class Car(Automobile):\n",
    "\n",
    "\n",
    "    def start(self):\n",
    "        super().start()\n",
    "        print(\"start of Car called\")\n",
    "\n",
    "    def stop(self):\n",
    "        pass\n",
    "\n",
    "    def drive(self):\n",
    "        pass\n",
    "    def get_no_of_wheels(self):\n",
    "        return super().get_no_of_wheels()\n",
    "\n",
    "class Bus(Automobile):\n",
    "\n",
    "    def start(self):\n",
    "        pass\n",
    "\n",
    "    def stop(self):\n",
    "        pass\n",
    "\n",
    "    def drive(self):\n",
    "        pass\n",
    "    def get_no_of_wheels(self):\n",
    "        return super().get_no_of_wheels()\n",
    "\n",
    "c = Car(4)\n",
    "b = Bus(8)\n",
    "print(c.get_no_of_wheels())\n",
    "# c = Car(\"Honda\")\n",
    "# c.start()\n",
    "# b = Bus(\"Delhi Metro Bus\")"
   ]
  },
  {
   "cell_type": "markdown",
   "metadata": {},
   "source": [
    "### Errors And Exceptions"
   ]
  },
  {
   "cell_type": "code",
   "execution_count": 19,
   "metadata": {
    "scrolled": true
   },
   "outputs": [
    {
     "ename": "TypeError",
     "evalue": "can only concatenate str (not \"int\") to str",
     "output_type": "error",
     "traceback": [
      "\u001b[1;31m---------------------------------------------------------------------------\u001b[0m",
      "\u001b[1;31mTypeError\u001b[0m                                 Traceback (most recent call last)",
      "\u001b[1;32m<ipython-input-19-5f1d1a556357>\u001b[0m in \u001b[0;36m<module>\u001b[1;34m\u001b[0m\n\u001b[0;32m      4\u001b[0m \u001b[1;31m# a = b*4\u001b[0m\u001b[1;33m\u001b[0m\u001b[1;33m\u001b[0m\u001b[1;33m\u001b[0m\u001b[0m\n\u001b[0;32m      5\u001b[0m \u001b[1;33m\u001b[0m\u001b[0m\n\u001b[1;32m----> 6\u001b[1;33m \u001b[0ma\u001b[0m \u001b[1;33m=\u001b[0m \u001b[1;34m'1'\u001b[0m \u001b[1;33m+\u001b[0m \u001b[1;36m2\u001b[0m\u001b[1;33m\u001b[0m\u001b[1;33m\u001b[0m\u001b[0m\n\u001b[0m",
      "\u001b[1;31mTypeError\u001b[0m: can only concatenate str (not \"int\") to str"
     ]
    }
   ],
   "source": [
    "a = \"abc\"\n",
    "# a = 10/0\n",
    "# a = b*4\n",
    "a = '1' + 2"
   ]
  },
  {
   "cell_type": "markdown",
   "metadata": {},
   "source": [
    "### Intro To Exception Handling\n",
    "An Exception is an abnormal condition that arises in the code sequence at run time. Java provides a mechanism to handle the Exception that occurs that run time so that you can have your code run smoothly instead of situations that might cause your code to break at run- time"
   ]
  },
  {
   "cell_type": "code",
   "execution_count": 21,
   "metadata": {},
   "outputs": [
    {
     "ename": "ZeroDivisionError",
     "evalue": "division by zero",
     "output_type": "error",
     "traceback": [
      "\u001b[1;31m---------------------------------------------------------------------------\u001b[0m",
      "\u001b[1;31mZeroDivisionError\u001b[0m                         Traceback (most recent call last)",
      "\u001b[1;32m<ipython-input-21-88fdb464b483>\u001b[0m in \u001b[0;36m<module>\u001b[1;34m\u001b[0m\n\u001b[0;32m      3\u001b[0m \u001b[1;33m\u001b[0m\u001b[0m\n\u001b[0;32m      4\u001b[0m \u001b[1;31m# perform division with 0\u001b[0m\u001b[1;33m\u001b[0m\u001b[1;33m\u001b[0m\u001b[1;33m\u001b[0m\u001b[0m\n\u001b[1;32m----> 5\u001b[1;33m \u001b[0ma\u001b[0m \u001b[1;33m=\u001b[0m \u001b[0mmarks\u001b[0m \u001b[1;33m/\u001b[0m \u001b[1;36m0\u001b[0m\u001b[1;33m\u001b[0m\u001b[1;33m\u001b[0m\u001b[0m\n\u001b[0m\u001b[0;32m      6\u001b[0m \u001b[0mprint\u001b[0m\u001b[1;33m(\u001b[0m\u001b[0ma\u001b[0m\u001b[1;33m)\u001b[0m\u001b[1;33m\u001b[0m\u001b[1;33m\u001b[0m\u001b[0m\n",
      "\u001b[1;31mZeroDivisionError\u001b[0m: division by zero"
     ]
    }
   ],
   "source": [
    "# initialize the amount variable \n",
    "marks = 10000\n",
    "\n",
    "# perform division with 0 \n",
    "a = marks / 0\n",
    "print(a) \n"
   ]
  },
  {
   "cell_type": "code",
   "execution_count": 22,
   "metadata": {},
   "outputs": [
    {
     "name": "stdout",
     "output_type": "stream",
     "text": [
      "Enter the numerator :25\n",
      "Enter the denominator :6\n",
      "4.166666666666667\n",
      "25\n",
      "6\n",
      "4.166666666666667\n",
      "exception may or may not be raised\n"
     ]
    }
   ],
   "source": [
    "class ZeroDenominatorError(ZeroDivisionError):\n",
    "    pass\n",
    "while True:\n",
    "    try:\n",
    "        n = input('Enter the numerator :')\n",
    "        num = int(n)\n",
    "        n = input('Enter the denominator :')\n",
    "        denom = int(n)\n",
    "        if denom == 0:\n",
    "            raise ZeroDenominatorError('Denominator should not be zero')\n",
    "        value = num/denom\n",
    "    except ValueError:\n",
    "        print(\"Numerator and Denominator should be integers\")\n",
    "    except ZeroDenominatorError:\n",
    "        print(\"ZeroDenominatorError is raised\")\n",
    "    except ZeroDivisionError:\n",
    "        print(\"Division by zero is not allowed\")\n",
    "    except :\n",
    "        print(\"some exception is raised\") \n",
    "    else:\n",
    "        print(value)\n",
    "        break\n",
    "    finally:\n",
    "        print(num)\n",
    "        print(denom)\n",
    "        print(value)\n",
    "        print('exception may or may not be raised')"
   ]
  },
  {
   "cell_type": "markdown",
   "metadata": {},
   "source": [
    "### Handling Multiple Exceptions"
   ]
  },
  {
   "cell_type": "code",
   "execution_count": 23,
   "metadata": {},
   "outputs": [
    {
     "name": "stdout",
     "output_type": "stream",
     "text": [
      "Enter the numerator :16\n",
      "Enter the denominator :0\n",
      "ZeroDenominatorError is raised\n",
      "16\n",
      "0\n",
      "4.166666666666667\n",
      "exception may or may not be raised\n",
      "Enter the numerator :-2\n",
      "Enter the denominator :2\n",
      "-1.0\n",
      "-2\n",
      "2\n",
      "-1.0\n",
      "exception may or may not be raised\n"
     ]
    }
   ],
   "source": [
    "class ZeroDenominatorError(ZeroDivisionError):\n",
    "    pass\n",
    "while True:\n",
    "    try:\n",
    "        n = input('Enter the numerator :')\n",
    "        num = int(n)\n",
    "        n = input('Enter the denominator :')\n",
    "        denom = int(n)\n",
    "        if denom == 0:\n",
    "            raise ZeroDenominatorError('Denominator should not be zero')\n",
    "        value = num/denom\n",
    "    except ValueError:\n",
    "        print(\"Numerator and Denominator should be integers\")\n",
    "    except ZeroDenominatorError:\n",
    "        print(\"ZeroDenominatorError is raised\")\n",
    "    except ZeroDivisionError:\n",
    "        print(\"Division by zero is not allowed\")\n",
    "    except :\n",
    "        print(\"some exception is raised\") \n",
    "    else:\n",
    "        print(value)\n",
    "        break\n",
    "    finally:\n",
    "        print(num)\n",
    "        print(denom)\n",
    "        print(value)\n",
    "        print('exception may or may not be raised')"
   ]
  },
  {
   "cell_type": "markdown",
   "metadata": {},
   "source": [
    "### Custom Exceptions"
   ]
  },
  {
   "cell_type": "code",
   "execution_count": 25,
   "metadata": {},
   "outputs": [
    {
     "name": "stdout",
     "output_type": "stream",
     "text": [
      "Enter the numerator :5\n",
      "Enter the denominator :0\n",
      "ZeroDenominatorError is raised\n",
      "5\n",
      "0\n",
      "2.5\n",
      "exception may or may not be raised\n",
      "Enter the numerator :-1\n",
      "Enter the denominator :0\n",
      "ZeroDenominatorError is raised\n",
      "-1\n",
      "0\n",
      "2.5\n",
      "exception may or may not be raised\n",
      "Enter the numerator :0\n",
      "Enter the denominator :0\n",
      "ZeroDenominatorError is raised\n",
      "0\n",
      "0\n",
      "2.5\n",
      "exception may or may not be raised\n",
      "Enter the numerator :5\n",
      "Enter the denominator :3\n",
      "1.6666666666666667\n",
      "5\n",
      "3\n",
      "1.6666666666666667\n",
      "exception may or may not be raised\n"
     ]
    }
   ],
   "source": [
    "\n",
    "class ZeroDenominatorError(ZeroDivisionError):\n",
    "    pass\n",
    "while True:\n",
    "    try:\n",
    "        n = input('Enter the numerator :')\n",
    "        num = int(n)\n",
    "        n = input('Enter the denominator :')\n",
    "        denom = int(n)\n",
    "        if denom == 0:\n",
    "            raise ZeroDenominatorError('Denominator should not be zero')\n",
    "        value = num/denom\n",
    "    except ValueError:\n",
    "        print(\"Numerator and Denominator should be integers\")\n",
    "    except ZeroDenominatorError:\n",
    "        print(\"ZeroDenominatorError is raised\")\n",
    "    except ZeroDivisionError:\n",
    "        print(\"Division by zero is not allowed\")\n",
    "    except :\n",
    "        print(\"some exception is raised\") \n",
    "    else:\n",
    "        print(value)\n",
    "        break\n",
    "    finally:\n",
    "        print(num)\n",
    "        print(denom)\n",
    "        print(value)\n",
    "        print('exception may or may not be raised')"
   ]
  },
  {
   "cell_type": "markdown",
   "metadata": {},
   "source": [
    "### Except Functionailty"
   ]
  },
  {
   "cell_type": "code",
   "execution_count": 27,
   "metadata": {},
   "outputs": [
    {
     "name": "stdout",
     "output_type": "stream",
     "text": [
      "Enter the numerator :4\n",
      "Enter the denominator :16\n",
      "0.25\n",
      "4\n",
      "16\n",
      "0.25\n",
      "exception may or may not be raised\n"
     ]
    }
   ],
   "source": [
    "class ZeroDenominatorError(ZeroDivisionError):\n",
    "    pass\n",
    "while True:\n",
    "    try:\n",
    "        n = input('Enter the numerator :')\n",
    "        num = int(n)\n",
    "        n = input('Enter the denominator :')\n",
    "        denom = int(n)\n",
    "        if denom == 0:\n",
    "            raise ZeroDenominatorError('Denominator should not be zero')\n",
    "        value = num/denom\n",
    "    except ValueError:\n",
    "        print(\"Numerator and Denominator should be integers\")\n",
    "    except ZeroDenominatorError:\n",
    "        print(\"ZeroDenominatorError is raised\")\n",
    "    except ZeroDivisionError:\n",
    "        print(\"Division by zero is not allowed\")\n",
    "    except :\n",
    "        print(\"some exception is raised\") \n",
    "    else:\n",
    "        print(value)\n",
    "        break\n",
    "    finally:\n",
    "        print(num)\n",
    "        print(denom)\n",
    "        print(value)\n",
    "        print('exception may or may not be raised')"
   ]
  }
 ],
 "metadata": {
  "kernelspec": {
   "display_name": "Python 3",
   "language": "python",
   "name": "python3"
  },
  "language_info": {
   "codemirror_mode": {
    "name": "ipython",
    "version": 3
   },
   "file_extension": ".py",
   "mimetype": "text/x-python",
   "name": "python",
   "nbconvert_exporter": "python",
   "pygments_lexer": "ipython3",
   "version": "3.7.6"
  }
 },
 "nbformat": 4,
 "nbformat_minor": 4
}
