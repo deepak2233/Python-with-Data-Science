{
 "cells": [
  {
   "cell_type": "markdown",
   "metadata": {},
   "source": [
    "### Inheritance \n",
    "- Inheritance is an important aspect of the object-oriented paradigm. Inheritance provides code reusability to the program because we can use an existing class to create a new class instead of creating it from scratch.\n",
    "\n",
    "- In inheritance, the child class acquires the properties and can access all the data members and functions defined in the parent class. A child class can also provide its specific implementation to the functions of the parent class. In this section of the tutorial, we will discuss inheritance in detail.\n",
    "\n",
    "- In python, a derived class can inherit base class by just mentioning the base in the bracket after the derived class name. Consider the following syntax to inherit a base class into the derived class."
   ]
  },
  {
   "cell_type": "code",
   "execution_count": 1,
   "metadata": {},
   "outputs": [],
   "source": [
    "# Syntex\n",
    "#class derived-class(base class):  \n",
    "#    <class-suite>\n",
    "# Syntex\n",
    "#class derive-class(<base class 1>, <base class 2>, ..... <base class n>):  \n",
    "#   <class - suite>   "
   ]
  },
  {
   "cell_type": "markdown",
   "metadata": {},
   "source": [
    "<b> Example </b>"
   ]
  },
  {
   "cell_type": "code",
   "execution_count": 2,
   "metadata": {},
   "outputs": [
    {
     "name": "stdout",
     "output_type": "stream",
     "text": [
      "dog barking\n",
      "Animal Speaking\n"
     ]
    }
   ],
   "source": [
    "class Animal:  \n",
    "    def speak(self):  \n",
    "        print(\"Animal Speaking\")  \n",
    "#child class Dog inherits the base class Animal  \n",
    "class Dog(Animal):  \n",
    "    def bark(self):  \n",
    "        print(\"dog barking\")  \n",
    "d = Dog()  \n",
    "d.bark()  \n",
    "d.speak()  "
   ]
  },
  {
   "cell_type": "code",
   "execution_count": null,
   "metadata": {},
   "outputs": [],
   "source": [
    "class Vehicle:\n",
    "\n",
    "    def __init__(self,color,maxSpeed):\n",
    "        self.color = color\n",
    "        self.maxSpeed = maxSpeed\n",
    "\n",
    "class Car(Vehicle):\n",
    "\n",
    "    def __init__(self,color,maxSpeed,numGears,isConvertible):\n",
    "\n",
    "        super().__init__(color,maxSpeed)\n",
    "        self.numGears = numGears\n",
    "        self.isConvertible = isConvertible\n",
    "\n",
    "    def printCar(self):\n",
    "        print(\"Color :\" ,self.color)\n",
    "        print(\"MaxSpeed :\",self.maxSpeed)\n",
    "        print(\"NumGears :\",self.numGears)\n",
    "        print(\"IsConvertible :\", self.isConvertible)\n",
    "\n",
    "\n",
    "c = Car(\"red\",15,3,False)\n",
    "c.printCar()"
   ]
  },
  {
   "cell_type": "markdown",
   "metadata": {},
   "source": [
    "### Inheritance and Private member"
   ]
  },
  {
   "cell_type": "code",
   "execution_count": 1,
   "metadata": {},
   "outputs": [
    {
     "name": "stdout",
     "output_type": "stream",
     "text": [
      "Color : red\n",
      "MaxSpeed : 15\n",
      "NumGears : 3\n",
      "IsConvertible : False\n"
     ]
    }
   ],
   "source": [
    "\n",
    "class Vehicle:\n",
    "\n",
    "    def __init__(self,color,maxSpeed):\n",
    "        self.color = color\n",
    "        self.__maxSpeed = maxSpeed\n",
    "\n",
    "    def getMaxSpeed(self):\n",
    "        return self.__maxSpeed\n",
    "\n",
    "    def setMaxSpeed(self,maxSpeed):\n",
    "        self.__maxSpeed = maxSpeed\n",
    "\n",
    "class Car(Vehicle):\n",
    "\n",
    "    def __init__(self,color,maxSpeed,numGears,isConvertible):\n",
    "\n",
    "        super().__init__(color,maxSpeed)\n",
    "        self.numGears = numGears\n",
    "        self.isConvertible = isConvertible\n",
    "\n",
    "    def printCar(self):\n",
    "        print(\"Color :\" ,self.color)\n",
    "        print(\"MaxSpeed :\",self.getMaxSpeed())\n",
    "        print(\"NumGears :\",self.numGears)\n",
    "        print(\"IsConvertible :\", self.isConvertible)\n",
    "\n",
    "\n",
    "c = Car(\"red\",15,3,False)\n",
    "c.printCar()"
   ]
  },
  {
   "cell_type": "code",
   "execution_count": 3,
   "metadata": {},
   "outputs": [
    {
     "name": "stdout",
     "output_type": "stream",
     "text": [
      "Color : red\n",
      "MaxSpeed : 15\n",
      "NumGears : 3\n",
      "IsConvertible : False\n"
     ]
    }
   ],
   "source": [
    "class Vehicle:\n",
    "\n",
    "    def __init__(self,color,maxSpeed):\n",
    "        self.color = color\n",
    "        self.__maxSpeed = maxSpeed\n",
    "\n",
    "    def getMaxSpeed(self):\n",
    "        return self.__maxSpeed\n",
    "\n",
    "    def setMaxSpeed(self,maxSpeed):\n",
    "        self.__maxSpeed = maxSpeed\n",
    "\n",
    "    def print(self):\n",
    "        print(\"Color :\" ,self.color)\n",
    "        print(\"MaxSpeed :\",self.__maxSpeed)\n",
    "\n",
    "class Car(Vehicle):\n",
    "\n",
    "    def __init__(self,color,maxSpeed,numGears,isConvertible):\n",
    "\n",
    "        super().__init__(color,maxSpeed)\n",
    "        self.numGears = numGears\n",
    "        self.isConvertible = isConvertible\n",
    "\n",
    "    def printCar(self):\n",
    "        self.print()\n",
    "        print(\"NumGears :\",self.numGears)\n",
    "        print(\"IsConvertible :\", self.isConvertible)\n",
    "\n",
    "\n",
    "c = Car(\"red\",15,3,False)\n",
    "c.printCar()"
   ]
  },
  {
   "cell_type": "markdown",
   "metadata": {},
   "source": [
    "### Polymorphism\n",
    "- Polymorphism is an important feature of class definition in Python that is utilized when you have commonly named methods across classes or subclasses. This permits functions to use entities of different types at different times. So, it provides flexibility and loose coupling so that code can be extended and easily maintained over time.\n",
    "\n",
    "- This allows functions to use objects of any of these polymorphic classes without needing to be aware of distinctions across the classes.\n",
    "\n",
    "- Polymorphism can be carried out through inheritance, with subclasses making use of base class methods or overriding them.\n",
    "\n",
    "- Let understand the concept of polymorphism with our previous inheritance example and add one common method called show_affection in both subclasses −\n",
    "\n",
    "- From the example we can see, it refers to a design in which object of dissimilar type can be treated in the same manner or more specifically two or more classes with method of the same name or common interface because same method(show_affection in below example) is called with either type of objects."
   ]
  },
  {
   "cell_type": "code",
   "execution_count": 5,
   "metadata": {},
   "outputs": [
    {
     "name": "stdout",
     "output_type": "stream",
     "text": [
      "Color : red\n",
      "MaxSpeed : 18\n",
      "\n",
      "15\n"
     ]
    }
   ],
   "source": [
    "class Vehicle:\n",
    "\n",
    "    def __init__(self,color,maxSpeed):\n",
    "        self.color = color\n",
    "        self._maxSpeed = maxSpeed\n",
    "\n",
    "    @classmethod\n",
    "    def getMaxSpeed(cls):\n",
    "        return 15\n",
    "\n",
    "    def setMaxSpeed(self,maxSpeed):\n",
    "        self._maxSpeed = maxSpeed\n",
    "\n",
    "    def print(self):\n",
    "        print(\"Color :\" ,self.color)\n",
    "        print(\"MaxSpeed :\",self._maxSpeed)\n",
    "\n",
    "class Car(Vehicle):\n",
    "\n",
    "    def __init__(self,color,maxSpeed,numGears,isConvertible):\n",
    "\n",
    "        super().__init__(color,maxSpeed)\n",
    "        self.numGears = numGears\n",
    "        self.isConvertible = isConvertible\n",
    "\n",
    "    def print(self):\n",
    "        # super().print()\n",
    "        print(\"Color :\" ,self.color)\n",
    "        print(\"MaxSpeed :\",self._maxSpeed)\n",
    "        print(\"NumGears :\",self.numGears)\n",
    "        print(\"IsConvertible :\", self.isConvertible)\n",
    "\n",
    "\n",
    "# c = Car(\"red\",15,3,False)\n",
    "# c.print()\n",
    "#print()\n",
    "v = Vehicle(\"red\",18)\n",
    "v.print()\n",
    "print()\n",
    "v._maxSpeed = 19\n",
    "get = v.getMaxSpeed()\n",
    "print(get)"
   ]
  },
  {
   "cell_type": "markdown",
   "metadata": {},
   "source": [
    "### Protected Members"
   ]
  },
  {
   "cell_type": "code",
   "execution_count": 7,
   "metadata": {},
   "outputs": [
    {
     "name": "stdout",
     "output_type": "stream",
     "text": [
      "Color : red\n",
      "MaxSpeed : 18\n",
      "\n",
      "15\n"
     ]
    }
   ],
   "source": [
    "\n",
    "class Vehicle:\n",
    "\n",
    "    def __init__(self,color,maxSpeed):\n",
    "        self.color = color\n",
    "        self._maxSpeed = maxSpeed\n",
    "\n",
    "    @classmethod\n",
    "    def getMaxSpeed(cls):\n",
    "        return 15\n",
    "\n",
    "    def setMaxSpeed(self,maxSpeed):\n",
    "        self._maxSpeed = maxSpeed\n",
    "\n",
    "    def print(self):\n",
    "        print(\"Color :\" ,self.color)\n",
    "        print(\"MaxSpeed :\",self._maxSpeed)\n",
    "\n",
    "class Car(Vehicle):\n",
    "\n",
    "    def __init__(self,color,maxSpeed,numGears,isConvertible):\n",
    "\n",
    "        super().__init__(color,maxSpeed)\n",
    "        self.numGears = numGears\n",
    "        self.isConvertible = isConvertible\n",
    "\n",
    "    def print(self):\n",
    "        # super().print()\n",
    "        print(\"Color :\" ,self.color)\n",
    "        print(\"MaxSpeed :\",self._maxSpeed)\n",
    "        print(\"NumGears :\",self.numGears)\n",
    "        print(\"IsConvertible :\", self.isConvertible)\n",
    "\n",
    "\n",
    "# c = Car(\"red\",15,3,False)\n",
    "# c.print()\n",
    "#print()\n",
    "v = Vehicle(\"red\",18)\n",
    "v.print()\n",
    "print()\n",
    "v._maxSpeed = 19\n",
    "get = v.getMaxSpeed()\n",
    "print(get)"
   ]
  },
  {
   "cell_type": "code",
   "execution_count": 8,
   "metadata": {},
   "outputs": [
    {
     "name": "stdout",
     "output_type": "stream",
     "text": [
      "This is a Circle class which takes radius as an argument.\n"
     ]
    }
   ],
   "source": [
    "class Circle(object):\n",
    "\n",
    "    def __init__(self,radius):\n",
    "        self.__radius = radius\n",
    "\n",
    "    def __str__(self):\n",
    "        return \"This is a Circle class which takes radius as an argument.\"\n",
    "\n",
    "c = Circle(3)\n",
    "print(c)"
   ]
  },
  {
   "cell_type": "markdown",
   "metadata": {},
   "source": [
    "### Multiple Inheritance\n",
    "- A class can be derived from more than one base class in Python, similar to C++. This is called multiple inheritance.\n",
    "\n",
    "- In multiple inheritance, the features of all the base classes are inherited into the derived class. The syntax for multiple inheritance is similar to single inheritance."
   ]
  },
  {
   "cell_type": "code",
   "execution_count": 13,
   "metadata": {},
   "outputs": [
    {
     "name": "stdout",
     "output_type": "stream",
     "text": [
      "Name of child is Ajay\n",
      "[<class '__main__.Child'>, <class '__main__.Mother'>, <class '__main__.Father'>, <class 'object'>]\n"
     ]
    }
   ],
   "source": [
    "class Mother:\n",
    "\n",
    "    def __init__(self):\n",
    "        self.name = \"Manju\"\n",
    "        super().__init__()\n",
    "\n",
    "    def print(self):\n",
    "\n",
    "        print(\"Print Of Mother called\")\n",
    "\n",
    "class Father:\n",
    "\n",
    "    def __init__(self):\n",
    "        self.name = \"Ajay\"\n",
    "        super().__init__()\n",
    "    def print(self):\n",
    "\n",
    "        print(\"Print Of Father called\")\n",
    "\n",
    "class Child(Mother,Father):\n",
    "\n",
    "    def __init__(self):\n",
    "        super().__init__()\n",
    "\n",
    "    def print(self):\n",
    "        print(\"Name of child is\", self.name)\n",
    "\n",
    "c = Child()\n",
    "c.print()\n",
    "print(Child.mro())"
   ]
  },
  {
   "cell_type": "markdown",
   "metadata": {},
   "source": [
    "### Operator Overloading\n",
    "- You can change the meaning of an operator in Python depending upon the operands used. In this tutorial, you will learn how to use operator overloading in Python Object Oriented Programming.<br>\n",
    "<b>Python Operator Overloading</b><br>\n",
    "- Python operators work for built-in classes. But the same operator behaves differently with different types. For example, the + operator will perform arithmetic addition on two numbers, merge two lists, or concatenate two strings.\n",
    "\n",
    "- This feature in Python that allows the same operator to have different meaning according to the context is called operator overloading.\n",
    "\n",
    "- So what happens when we use them with objects of a user-defined class? Let us consider the following class, which tries to simulate a point in 2-D coordinate system"
   ]
  },
  {
   "cell_type": "code",
   "execution_count": 12,
   "metadata": {},
   "outputs": [
    {
     "name": "stdout",
     "output_type": "stream",
     "text": [
      "This point is at (4,6)\n",
      "False\n"
     ]
    }
   ],
   "source": [
    "\n",
    "import math\n",
    "class Point:\n",
    "\n",
    "    def __init__(self,x,y):\n",
    "        self.__x = x\n",
    "        self.__y = y\n",
    "\n",
    "\n",
    "    def __str__(self):\n",
    "\n",
    "        return \"This point is at (\" + str(self.__x) + \",\" + str(self.__y) + \")\"\n",
    "\n",
    "    def __add__(self,point_object):\n",
    "        return Point(self.__x + point_object.__x,self.__y + point_object.__y)\n",
    "\n",
    "    def __lt__(self,point_object):\n",
    "        return math.sqrt(self.__x**2 + self.__y**2) < math.sqrt(point_object.__x**2 + point_object.__y**2)\n",
    "\n",
    "\n",
    "p1 = Point(1,2)\n",
    "p2 = Point(3,4)\n",
    "p3 = p1 + p2\n",
    "print(p3)\n",
    "print(p2<p1)"
   ]
  }
 ],
 "metadata": {
  "kernelspec": {
   "display_name": "Python 3",
   "language": "python",
   "name": "python3"
  },
  "language_info": {
   "codemirror_mode": {
    "name": "ipython",
    "version": 3
   },
   "file_extension": ".py",
   "mimetype": "text/x-python",
   "name": "python",
   "nbconvert_exporter": "python",
   "pygments_lexer": "ipython3",
   "version": "3.7.6"
  }
 },
 "nbformat": 4,
 "nbformat_minor": 4
}
