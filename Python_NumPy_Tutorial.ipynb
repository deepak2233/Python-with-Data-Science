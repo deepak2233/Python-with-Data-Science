{
 "cells": [
  {
   "cell_type": "markdown",
   "metadata": {},
   "source": [
    "### NumPy"
   ]
  },
  {
   "cell_type": "markdown",
   "metadata": {},
   "source": [
    "* The NumPy library is the core library for scientific computing in Python. It provides a high-performance multidimensional array object, and tools for working with these arrays.\n",
    "* Support large number of data in the form of multi-dimensional array and matrix\n",
    "* Use for mathematics calculation like Linear Algebra, Fourier treanform, and random number capabilities, etc"
   ]
  },
  {
   "cell_type": "markdown",
   "metadata": {},
   "source": [
    "### Import the Library"
   ]
  },
  {
   "cell_type": "code",
   "execution_count": 1,
   "metadata": {},
   "outputs": [],
   "source": [
    "import numpy as np"
   ]
  },  
  {
   "cell_type": "markdown",
   "metadata": {},
   "source": [
    "### Inputs and Outputs"
   ]
  },
  {
   "cell_type": "code",
   "execution_count": 2,
   "metadata": {},
   "outputs": [
    {
     "name": "stdout",
     "output_type": "stream",
     "text": [
      "[1 2 3 4 5]\n"
     ]
    }
   ],
   "source": [
    "# Taking Input in 1-d Array\n",
    "arr_1d = np.array([1,2,3,4,5])\n",
    "print(arr_1d)"
   ]
  },
  {
   "cell_type": "code",
   "execution_count": 3,
   "metadata": {},
   "outputs": [
    {
     "name": "stdout",
     "output_type": "stream",
     "text": [
      "[[1 2 3]\n",
      " [4 5 6]]\n"
     ]
    }
   ],
   "source": [
    "# Taking Input in 2-d Array i.e 2 X 2\n",
    "arr_2d = np.array([[1,2,3],[4,5,6]])\n",
    "print(arr_2d)"
   ]
  },
  {
   "cell_type": "code",
   "execution_count": 4,
   "metadata": {},
   "outputs": [
    {
     "name": "stdout",
     "output_type": "stream",
     "text": [
      "[[1 2 3]\n",
      " [4 5 6]\n",
      " [7 8 9]]\n"
     ]
    }
   ],
   "source": [
    "# Taking Input in 2-d Array i.e 3 X 3\n",
    "arr_3d = np.array([[1,2,3],[4,5,6],[7,8,9]])\n",
    "print(arr_3d)"
   ]
  },
  {
   "cell_type": "code",
   "execution_count": 5,
   "metadata": {},
   "outputs": [
    {
     "name": "stdout",
     "output_type": "stream",
     "text": [
      "[[ 1  2  3]\n",
      " [ 4  5  6]\n",
      " [ 7  8  9]\n",
      " [10 11 12]]\n"
     ]
    }
   ],
   "source": [
    "# Taking Input in 2-d Array i.e 4 X 4\n",
    "arr_4d = np.array([[1,2,3],[4,5,6],[7,8,9],[10,11,12]])\n",
    "print(arr_4d)"
   ]
  },
  {
   "cell_type": "markdown",
   "metadata": {},
   "source": [
    "### Some basic functions on NumPy"
   ]
  },
  {
   "cell_type": "code",
   "execution_count": 6,
   "metadata": {},
   "outputs": [
    {
     "name": "stdout",
     "output_type": "stream",
     "text": [
      "<class 'numpy.ndarray'>\n",
      "<class 'numpy.ndarray'>\n",
      "<class 'numpy.ndarray'>\n",
      "<class 'numpy.ndarray'>\n"
     ]
    }
   ],
   "source": [
    "# Check the Type of Array\n",
    "print(type(arr_1d))\n",
    "print(type(arr_2d))\n",
    "print(type(arr_3d))\n",
    "print(type(arr_4d))"
   ]
  },
  {
   "cell_type": "code",
   "execution_count": 7,
   "metadata": {},
   "outputs": [
    {
     "name": "stdout",
     "output_type": "stream",
     "text": [
      "1\n",
      "2\n",
      "2\n",
      "2\n"
     ]
    }
   ],
   "source": [
    "# Check the Dimensions of Array\n",
    "print(arr_1d.ndim)\n",
    "print(arr_2d.ndim)\n",
    "print(arr_3d.ndim)\n",
    "print(arr_4d.ndim)"
   ]
  },
  {
   "cell_type": "code",
   "execution_count": 8,
   "metadata": {},
   "outputs": [
    {
     "name": "stdout",
     "output_type": "stream",
     "text": [
      "5\n",
      "6\n",
      "9\n",
      "12\n"
     ]
    }
   ],
   "source": [
    "# Check Size of the Array i.e Totle Element Present in Array\n",
    "print(arr_1d.size)\n",
    "print(arr_2d.size)\n",
    "print(arr_3d.size)\n",
    "print(arr_4d.size)"
   ]
  },
  {
   "cell_type": "code",
   "execution_count": 9,
   "metadata": {},
   "outputs": [
    {
     "name": "stdout",
     "output_type": "stream",
     "text": [
      "(5,)\n",
      "(2, 3)\n",
      "(3, 3)\n",
      "(4, 3)\n"
     ]
    }
   ],
   "source": [
    "# Check Shape of the array which tell how man Rows and Columns are Present in our Array i.e It gives touple(row,coloumn)\n",
    "print(arr_1d.shape)\n",
    "print(arr_2d.shape)\n",
    "print(arr_3d.shape)\n",
    "print(arr_4d.shape)"
   ]
  },
  {
   "cell_type": "code",
   "execution_count": 10,
   "metadata": {},
   "outputs": [
    {
     "name": "stdout",
     "output_type": "stream",
     "text": [
      "int32\n",
      "int32\n",
      "int32\n",
      "int32\n"
     ]
    }
   ],
   "source": [
    "# Check the Data Type of Array with Fun. dtype which tells int,float,char etc.\n",
    "print(arr_1d.dtype)\n",
    "print(arr_2d.dtype)\n",
    "print(arr_3d.dtype)\n",
    "print(arr_4d.dtype)"
   ]
  },
  {
   "cell_type": "markdown",
   "metadata": {},
   "source": [
    "### Some basic Oprations / functions on NumPy\n"
   ]
  },
  {
   "cell_type": "code",
   "execution_count": 11,
   "metadata": {},
   "outputs": [
    {
     "name": "stdout",
     "output_type": "stream",
     "text": [
      "[1. 1. 1. 1. 1. 1.]\n",
      "\n",
      "[[1. 1.]\n",
      " [1. 1.]]\n",
      "\n",
      "[[1. 1. 1.]\n",
      " [1. 1. 1.]]\n"
     ]
    }
   ],
   "source": [
    "# Ones((row,columns),datatype=\"By defalt in float\"(you can change as per requirment)) Array fun which give an Array with all values 1's\n",
    "# It will gives all elements in float types.\n",
    "# Take Input in 1-d Array, For 1-d you have to give only columns names.\n",
    "arr_1s_1d = np.ones(6)\n",
    "print(arr_1s_1d)\n",
    "print()\n",
    "# Take all 1's Input in 2-d Array using one() fun\n",
    "arr_1s_2d = np.ones((2,2))\n",
    "print(arr_1s_2d)\n",
    "print()\n",
    "arr_1s_2d = np.ones((2,3))\n",
    "print(arr_1s_2d)\n"
   ]
  },
  {
   "cell_type": "code",
   "execution_count": 12,
   "metadata": {},
   "outputs": [
    {
     "name": "stdout",
     "output_type": "stream",
     "text": [
      "[1 1 1 1 1 1]\n",
      "\n",
      "[[1 1]\n",
      " [1 1]]\n",
      "\n",
      "[[1 1 1]\n",
      " [1 1 1]]\n"
     ]
    }
   ],
   "source": [
    "# Creat 1s Matrix with desire Data i.e ones((row,column),dtype=\"Desire Data type\")\n",
    "arr_1s_1d = np.ones(6, dtype = int)\n",
    "print(arr_1s_1d)\n",
    "print()\n",
    "# Take all 1's Input in 2-d Array using one() fun\n",
    "arr_1s_2d = np.ones((2,2),dtype = int)\n",
    "print(arr_1s_2d)\n",
    "print()\n",
    "arr_1s_2d = np.ones((2,3), dtype = int)\n",
    "print(arr_1s_2d)\n"
   ]
  },
  {
   "cell_type": "code",
   "execution_count": 13,
   "metadata": {},
   "outputs": [
    {
     "name": "stdout",
     "output_type": "stream",
     "text": [
      "['1' '1' '1' '1' '1' '1']\n",
      "\n",
      "[['1' '1']\n",
      " ['1' '1']]\n",
      "\n",
      "[['1' '1' '1']\n",
      " ['1' '1' '1']]\n"
     ]
    }
   ],
   "source": [
    "# Creat 1s Matrix with desire Data i.e ones((row,column),dtype=\"Desire Data type\")\n",
    "arr_1s_1d = np.ones(6, dtype = str)\n",
    "print(arr_1s_1d)\n",
    "print()\n",
    "# Take all 1's Input in 2-d Array using one() fun\n",
    "arr_1s_2d = np.ones((2,2), dtype = str)\n",
    "print(arr_1s_2d)\n",
    "print()\n",
    "arr_1s_2d = np.ones((2,3), dtype = str)\n",
    "print(arr_1s_2d)"
   ]
  },
  {
   "cell_type": "code",
   "execution_count": 14,
   "metadata": {},
   "outputs": [
    {
     "name": "stdout",
     "output_type": "stream",
     "text": [
      "[ True  True  True  True  True  True]\n",
      "\n",
      "[[ True  True]\n",
      " [ True  True]]\n",
      "\n",
      "[[ True  True  True]\n",
      " [ True  True  True]]\n"
     ]
    }
   ],
   "source": [
    "# Creat 1s Matrix with desire Data i.e ones((row,column),dtype=\"Desire Data type\")\n",
    "arr_1s_1d = np.ones(6, dtype = bool)\n",
    "print(arr_1s_1d)\n",
    "print()\n",
    "# Take all 1's Input in 2-d Array using one() fun\n",
    "arr_1s_2d = np.ones((2,2),dtype = bool)\n",
    "print(arr_1s_2d)\n",
    "print()\n",
    "arr_1s_2d = np.ones((2,3), dtype = bool)\n",
    "print(arr_1s_2d)"
   ]
  },
  {
   "cell_type": "code",
   "execution_count": 15,
   "metadata": {},
   "outputs": [
    {
     "name": "stdout",
     "output_type": "stream",
     "text": [
      "[0. 0. 0. 0. 0. 0.]\n",
      "\n",
      "[[0. 0.]\n",
      " [0. 0.]]\n",
      "\n",
      "[[0. 0. 0.]\n",
      " [0. 0. 0.]]\n"
     ]
    }
   ],
   "source": [
    "# Creat 0s Matrix with default Data i.e ones((row,column),dtype=\"Default is float\")\n",
    "arr_0s_1d = np.zeros(6)\n",
    "print(arr_0s_1d)\n",
    "print()\n",
    "# Take all 0's Input in 2-d Array using one() fun\n",
    "arr_0s_2d = np.zeros((2,2))\n",
    "print(arr_0s_2d)\n",
    "print()\n",
    "arr_0s_2d = np.zeros((2,3))\n",
    "print(arr_0s_2d)"
   ]
  },
  {
   "cell_type": "code",
   "execution_count": 16,
   "metadata": {},
   "outputs": [
    {
     "name": "stdout",
     "output_type": "stream",
     "text": [
      "[0 0 0 0 0 0]\n",
      "\n",
      "[[0 0]\n",
      " [0 0]]\n",
      "\n",
      "[[0 0 0]\n",
      " [0 0 0]]\n"
     ]
    }
   ],
   "source": [
    "# Creat 0s Matrix with desire Data i.e ones((row,column),dtype=\"Desire Data type\")\n",
    "arr_0s_1d = np.zeros(6, dtype = int)\n",
    "print(arr_0s_1d)\n",
    "print()\n",
    "# Take all 0's Input in 2-d Array using one() fun\n",
    "arr_0s_2d = np.zeros((2,2),dtype = int)\n",
    "print(arr_0s_2d)\n",
    "print()\n",
    "arr_0s_2d = np.zeros((2,3), dtype = int)\n",
    "print(arr_0s_2d)"
   ]
  },
  {
   "cell_type": "code",
   "execution_count": 17,
   "metadata": {},
   "outputs": [
    {
     "name": "stdout",
     "output_type": "stream",
     "text": [
      "[False False False False False False]\n",
      "\n",
      "[[False False]\n",
      " [False False]]\n",
      "\n",
      "[[False False False]\n",
      " [False False False]]\n"
     ]
    }
   ],
   "source": [
    "# Creat 0s Matrix with desire Data i.e ones((row,column),dtype=\"Desire Data type\")\n",
    "arr_0s_1d = np.zeros(6, dtype = bool)\n",
    "print(arr_0s_1d)\n",
    "print()\n",
    "# Take all 0's Input in 2-d Array using one() fun\n",
    "arr_0s_2d = np.zeros((2,2),dtype = bool)\n",
    "print(arr_0s_2d)\n",
    "print()\n",
    "arr_0s_2d = np.zeros((2,3), dtype = bool)\n",
    "print(arr_0s_2d)"
   ]
  },
  {
   "cell_type": "code",
   "execution_count": 18,
   "metadata": {},
   "outputs": [
    {
     "name": "stdout",
     "output_type": "stream",
     "text": [
      "['' '' '' '' '' '']\n",
      "\n",
      "[['' '']\n",
      " ['' '']]\n",
      "\n",
      "[['' '' '']\n",
      " ['' '' '']]\n"
     ]
    }
   ],
   "source": [
    "# Creat 0s Matrix with desire Data i.e ones((row,column),dtype=\"Desire Data type\")\n",
    "arr_0s_1d = np.zeros(6, dtype = str)\n",
    "print(arr_0s_1d)\n",
    "print()\n",
    "# Take all 0's Input in 2-d Array using one() fun\n",
    "arr_0s_2d = np.zeros((2,2),dtype = str)\n",
    "print(arr_0s_2d)\n",
    "print()\n",
    "arr_0s_2d = np.zeros((2,3), dtype = str)\n",
    "print(arr_0s_2d)"
   ]
  },
  {
   "cell_type": "markdown",
   "metadata": {},
   "source": [
    "### Numpy Advance Functions"
   ]
  },
  {
   "cell_type": "markdown",
   "metadata": {},
   "source": [
    "### arange()"
   ]
  },
  {
   "cell_type": "code",
   "execution_count": 19,
   "metadata": {},
   "outputs": [
    {
     "name": "stdout",
     "output_type": "stream",
     "text": [
      "[ 1  2  3  4  5  6  7  8  9 10 11 12 13 14]\n",
      "\n",
      "[ 2  4  6  8 10 12 14]\n",
      "\n",
      "[ 1  3  5  7  9 11 13]\n"
     ]
    }
   ],
   "source": [
    "# arange functions gives all value from starting point to ending point (exclusive).\n",
    "# Syntex np.arange(start,end,step(by default it id 1))\n",
    "\n",
    "arr_1d = np.arange(1,15)\n",
    "print(arr_1d)\n",
    "print() # just for new line\n",
    "\n",
    "# EVEN Num arange list\n",
    "arr_1d = np.arange(2,15,2)\n",
    "print(arr_1d)\n",
    "print()\n",
    "\n",
    "# ODD Num arange list\n",
    "arr_1d = np.arange(1,15,2)\n",
    "print(arr_1d)\n"
   ]
  },
  {
   "cell_type": "markdown",
   "metadata": {},
   "source": [
    "### linspace()"
   ]
  },
  {
   "cell_type": "code",
   "execution_count": 20,
   "metadata": {},
   "outputs": [
    {
     "name": "stdout",
     "output_type": "stream",
     "text": [
      "[1. 3. 5.]\n"
     ]
    }
   ],
   "source": [
    "# linespaces() gives any value in between the range \n",
    "# Syntex np.linspaces(start,end,num_value(how many values do you want)).\n",
    "\n",
    "arr = np.linspace(1,5,3)\n",
    "print(arr)"
   ]
  },
  {
   "cell_type": "markdown",
   "metadata": {},
   "source": [
    "### reshape()"
   ]
  },
  {
   "cell_type": "code",
   "execution_count": 21,
   "metadata": {},
   "outputs": [
    {
     "name": "stdout",
     "output_type": "stream",
     "text": [
      "[ 1  2  3  4  5  6  7  8  9 10 11 12]\n",
      "\n",
      "[[ 1  2  3  4]\n",
      " [ 5  6  7  8]\n",
      " [ 9 10 11 12]]\n",
      "\n",
      "[[ 1  2]\n",
      " [ 3  4]\n",
      " [ 5  6]\n",
      " [ 7  8]\n",
      " [ 9 10]\n",
      " [11 12]]\n"
     ]
    }
   ],
   "source": [
    "# reshape() functions converts from 1-d array to 2-d array.\n",
    "# Syntex - reshape(row,column)\n",
    "\n",
    "arr_1d = np.arange(1,13)\n",
    "print(arr_1d)\n",
    "\n",
    "print()\n",
    "arr_reshape = arr_1d.reshape(3,4)\n",
    "print(arr_reshape)\n",
    "\n",
    "print()\n",
    "arr_reshape = arr_1d.reshape(6,2)\n",
    "print(arr_reshape)\n",
    "\n"
   ]
  },
  {
   "cell_type": "markdown",
   "metadata": {},
   "source": [
    "### ravel()"
   ]
  },
  {
   "cell_type": "code",
   "execution_count": 22,
   "metadata": {},
   "outputs": [
    {
     "name": "stdout",
     "output_type": "stream",
     "text": [
      "[ 1  2  3  4  5  6  7  8  9 10 11 12]\n"
     ]
    }
   ],
   "source": [
    "# ravel() function is used to convert from 2-D Array to 1-D Array.\n",
    "# Syntex: name_of_2dArray.ravel()\n",
    "arr = np.arange(1,13).reshape(2,6)\n",
    "print(arr.ravel())\n"
   ]
  },
  {
   "cell_type": "markdown",
   "metadata": {},
   "source": [
    "### flatten()"
   ]
  },
  {
   "cell_type": "code",
   "execution_count": 23,
   "metadata": {},
   "outputs": [
    {
     "name": "stdout",
     "output_type": "stream",
     "text": [
      "[ 1  2  3  4  5  6  7  8  9 10 11 12]\n"
     ]
    }
   ],
   "source": [
    "# flatten() function is also used to convert from 2-D Array to 1-D Array.\n",
    "# Syntex: name_of_2dArray.flatten().\n",
    "arr = np.arange(1,13).reshape(2,6)\n",
    "print(arr.flatten())"
   ]
  },
  {
   "cell_type": "markdown",
   "metadata": {},
   "source": [
    "### arr.ravel()\n",
    "* Return the only reference of original array\n",
    "\n",
    "* On modifying the above array(arr), we can see that the value of the original array also changes.\n",
    "\n",
    "* Because ravel method does occupy any memory, ravel is faster than flatten()\n",
    "\n",
    "* Ravel is a library level function\n",
    "\n",
    "### arr.flatten()\n",
    "* Returns an original copy of array(arr).\n",
    "\n",
    "* On modifying the above array(arr), the value original array will not change.\n",
    "\n",
    "* Because flatten() occupies memory, flatten() is little-bit slower than ravel()\n",
    "\n",
    "* It’s a method of a ndarray object."
   ]
  },
  {
   "cell_type": "markdown",
   "metadata": {},
   "source": [
    "### tranpose()"
   ]
  },
  {
   "cell_type": "code",
   "execution_count": 24,
   "metadata": {},
   "outputs": [
    {
     "name": "stdout",
     "output_type": "stream",
     "text": [
      "[[ 1  2  3  4  5  6]\n",
      " [ 7  8  9 10 11 12]]\n",
      "\n",
      "[[ 1  7]\n",
      " [ 2  8]\n",
      " [ 3  9]\n",
      " [ 4 10]\n",
      " [ 5 11]\n",
      " [ 6 12]]\n",
      "\n",
      "[[ 1  7]\n",
      " [ 2  8]\n",
      " [ 3  9]\n",
      " [ 4 10]\n",
      " [ 5 11]\n",
      " [ 6 12]]\n"
     ]
    }
   ],
   "source": [
    "# transpose() is used to convert correspondings Row to Colums and Column to Row.\n",
    "# Syntex : array.transpose() or arr.T\n",
    "arr = np.arange(1,13).reshape(2,6)\n",
    "print(arr)\n",
    "print()\n",
    "\n",
    "# Apply transpose() on Array\n",
    "print(arr.transpose())\n",
    "print()\n",
    "\n",
    "# OR you apply arr.T.\n",
    "print(arr.T)\n"
   ]
  },
  {
   "cell_type": "markdown",
   "metadata": {},
   "source": [
    "### full()"
   ]
  },
  {
   "cell_type": "code",
   "execution_count": 25,
   "metadata": {},
   "outputs": [
    {
     "name": "stdout",
     "output_type": "stream",
     "text": [
      "[[5 5]\n",
      " [5 5]]\n",
      "\n",
      "[[5 5 5]\n",
      " [5 5 5]]\n",
      "\n",
      "[5 5]\n"
     ]
    }
   ],
   "source": [
    "# full() function is used to create 2-D array with constant number.\n",
    "# Syntex: np.full((row,column),constant) or for 1-D np.full((row),constant)\n",
    "\n",
    "arr = np.full((2,2),5)\n",
    "print(arr)\n",
    "print()\n",
    "\n",
    "arr = np.full((2,3),5)\n",
    "print(arr)\n",
    "print()\n",
    "\n",
    "arr = np.full((2),5)\n",
    "print(arr)"
   ]
  },
  {
   "cell_type": "markdown",
   "metadata": {},
   "source": [
    "### eye()"
   ]
  },
  {
   "cell_type": "code",
   "execution_count": 26,
   "metadata": {},
   "outputs": [
    {
     "name": "stdout",
     "output_type": "stream",
     "text": [
      "[[1. 0.]\n",
      " [0. 1.]]\n",
      "\n",
      "[[1. 0. 0.]\n",
      " [0. 1. 0.]\n",
      " [0. 0. 1.]]\n",
      "\n",
      "[[1 0]\n",
      " [0 1]]\n",
      "\n",
      "[[1 0 0 0]\n",
      " [0 1 0 0]\n",
      " [0 0 1 0]\n",
      " [0 0 0 1]]\n"
     ]
    }
   ],
   "source": [
    "# eye() function give identety natrix.\n",
    "# it accept the single argument, Sytex : np.eye(size of the matrix, dtype= \"by default \"Float).\n",
    "\n",
    "arr = np.eye(2)\n",
    "print(arr)\n",
    "print()\n",
    "\n",
    "arr = np.eye(3)\n",
    "print(arr)\n",
    "print()\n",
    "\n",
    "arr = np.eye(2, dtype = int)\n",
    "print(arr)\n",
    "print()\n",
    "\n",
    "arr = np.eye(4, dtype = int)\n",
    "print(arr)"
   ]
  },
  {
   "cell_type": "markdown",
   "metadata": {},
   "source": [
    "### empty()"
   ]
  },
  {
   "cell_type": "code",
   "execution_count": 27,
   "metadata": {},
   "outputs": [
    {
     "name": "stdout",
     "output_type": "stream",
     "text": [
      "[[4.24399158e-314 8.48798317e-314 1.27319747e-313]\n",
      " [1.69759663e-313 2.12199579e-313 2.54639495e-313]]\n",
      "\n",
      "[[4.24399158e-314 8.48798317e-314]\n",
      " [1.27319747e-313 1.69759663e-313]\n",
      " [2.12199579e-313 2.54639495e-313]]\n",
      "\n",
      "[[0]\n",
      " [0]\n",
      " [0]]\n",
      "\n"
     ]
    }
   ],
   "source": [
    "# empty() function give any rendom array with by default float elements.\n",
    "# Sytex : np.empy((row,column), dtype= \"by default \"Float).\n",
    "\n",
    "arr = np.empty((2,3))\n",
    "print(arr)\n",
    "print()\n",
    "\n",
    "arr = np.empty((3,2))\n",
    "print(arr)\n",
    "print()\n",
    "\n",
    "arr = np.empty((3,1), dtype = int)\n",
    "print(arr)\n",
    "print()"
   ]
  },
  {
   "cell_type": "markdown",
   "metadata": {},
   "source": [
    "### Arithmetic Operations on Numpy Array"
   ]
  },
  {
   "cell_type": "markdown",
   "metadata": {},
   "source": [
    "### Sum of two Array"
   ]
  },
  {
   "cell_type": "code",
   "execution_count": 28,
   "metadata": {},
   "outputs": [
    {
     "name": "stdout",
     "output_type": "stream",
     "text": [
      "[[1 2 3]\n",
      " [4 5 6]\n",
      " [7 8 9]]\n",
      "\n",
      "[[1 2 3]\n",
      " [4 5 6]\n",
      " [7 8 9]]\n",
      "\n",
      "[[ 2  4  6]\n",
      " [ 8 10 12]\n",
      " [14 16 18]]\n",
      "\n",
      "[[ 2  4  6]\n",
      " [ 8 10 12]\n",
      " [14 16 18]]\n"
     ]
    }
   ],
   "source": [
    "# Create two Arrays\n",
    "arr1 = np.arange(1,10).reshape(3,3)\n",
    "arr2 = np.arange(1,10).reshape(3,3)\n",
    "print(arr1)\n",
    "print()\n",
    "print(arr2)\n",
    "print()\n",
    "\n",
    "# sum of two array \n",
    "print(arr1+arr2)\n",
    "print()  # just for new line\n",
    "\n",
    "# Here, One more functon which give sum of two Array\n",
    "# Syntex : np.sum(First Array, Second Array)\n",
    "\n",
    "print(np.add(arr1,arr2))"
   ]
  },
  {
   "cell_type": "markdown",
   "metadata": {},
   "source": [
    "### Subtractions of two Array"
   ]
  },
  {
   "cell_type": "code",
   "execution_count": 29,
   "metadata": {},
   "outputs": [
    {
     "name": "stdout",
     "output_type": "stream",
     "text": [
      "[[1 2 3]\n",
      " [4 5 6]\n",
      " [7 8 9]]\n",
      "\n",
      "[[1 2 3]\n",
      " [4 5 6]\n",
      " [7 8 9]]\n",
      "\n",
      "[[0 0 0]\n",
      " [0 0 0]\n",
      " [0 0 0]]\n",
      "\n",
      "[[0 0 0]\n",
      " [0 0 0]\n",
      " [0 0 0]]\n"
     ]
    }
   ],
   "source": [
    "# Create two Arrays\n",
    "arr1 = np.arange(1,10).reshape(3,3)\n",
    "arr2 = np.arange(1,10).reshape(3,3)\n",
    "print(arr1)\n",
    "print()\n",
    "print(arr2)\n",
    "print()\n",
    "\n",
    "# subtract of two array \n",
    "print(arr1-arr2)\n",
    "print()  # just for new line\n",
    "\n",
    "# Here, One more functon which subtract of two Array\n",
    "# Syntex : np.subtract(First Array, Second Array)\n",
    "\n",
    "print(np.subtract(arr1,arr2))"
   ]
  },
  {
   "cell_type": "markdown",
   "metadata": {},
   "source": [
    "### Divides of two Array"
   ]
  },
  {
   "cell_type": "code",
   "execution_count": 30,
   "metadata": {},
   "outputs": [
    {
     "name": "stdout",
     "output_type": "stream",
     "text": [
      "[[1 2 3]\n",
      " [4 5 6]\n",
      " [7 8 9]]\n",
      "\n",
      "[[1 2 3]\n",
      " [4 5 6]\n",
      " [7 8 9]]\n",
      "\n",
      "[[1. 1. 1.]\n",
      " [1. 1. 1.]\n",
      " [1. 1. 1.]]\n",
      "\n",
      "[[1. 1. 1.]\n",
      " [1. 1. 1.]\n",
      " [1. 1. 1.]]\n"
     ]
    }
   ],
   "source": [
    "# Create two Arrays\n",
    "arr1 = np.arange(1,10).reshape(3,3)\n",
    "arr2 = np.arange(1,10).reshape(3,3)\n",
    "print(arr1)\n",
    "print()\n",
    "print(arr2)\n",
    "print()\n",
    "\n",
    "# divide of two array \n",
    "print(arr1/arr2)\n",
    "print()  # just for new line\n",
    "\n",
    "# Here, One more functon which divide of two Array\n",
    "# Syntex : np.divide(First Array, Second Array)\n",
    "\n",
    "print(np.divide(arr1,arr2))"
   ]
  },
  {
   "cell_type": "markdown",
   "metadata": {},
   "source": [
    "### Multiply of two Array elements wise"
   ]
  },
  {
   "cell_type": "code",
   "execution_count": 31,
   "metadata": {},
   "outputs": [
    {
     "name": "stdout",
     "output_type": "stream",
     "text": [
      "[[1 2 3]\n",
      " [4 5 6]\n",
      " [7 8 9]]\n",
      "\n",
      "[[1 2 3]\n",
      " [4 5 6]\n",
      " [7 8 9]]\n",
      "\n",
      "[[ 1  4  9]\n",
      " [16 25 36]\n",
      " [49 64 81]]\n",
      "\n",
      "[[ 1  4  9]\n",
      " [16 25 36]\n",
      " [49 64 81]]\n"
     ]
    }
   ],
   "source": [
    "# Create two Arrays\n",
    "arr1 = np.arange(1,10).reshape(3,3)\n",
    "arr2 = np.arange(1,10).reshape(3,3)\n",
    "print(arr1)\n",
    "print()\n",
    "print(arr2)\n",
    "print()\n",
    "\n",
    "# Multiply of two array \n",
    "print(arr1 * arr2)\n",
    "print()  # just for new line\n",
    "\n",
    "# Here, One more functon which give mutiplications of two Array\n",
    "# Syntex : np.multiply(First Array, Second Array)\n",
    "\n",
    "print(np.multiply(arr1,arr2))"
   ]
  },
  {
   "cell_type": "markdown",
   "metadata": {},
   "source": [
    "### Mulrtiply two Array in matrix wise "
   ]
  },
  {
   "cell_type": "code",
   "execution_count": 32,
   "metadata": {},
   "outputs": [
    {
     "name": "stdout",
     "output_type": "stream",
     "text": [
      "[[1 2 3]\n",
      " [4 5 6]\n",
      " [7 8 9]]\n",
      "\n",
      "[[1 2 3]\n",
      " [4 5 6]\n",
      " [7 8 9]]\n",
      "\n",
      "[[ 30  36  42]\n",
      " [ 66  81  96]\n",
      " [102 126 150]]\n",
      "\n",
      "[[ 30  36  42]\n",
      " [ 66  81  96]\n",
      " [102 126 150]]\n"
     ]
    }
   ],
   "source": [
    "# Create two Arrays\n",
    "arr1 = np.arange(1,10).reshape(3,3)\n",
    "arr2 = np.arange(1,10).reshape(3,3)\n",
    "print(arr1)\n",
    "print()\n",
    "print(arr2)\n",
    "print()\n",
    "\n",
    "# Multiply of two array row and column wise like in mathematics\n",
    "print(arr1 @ arr2)\n",
    "print()  # just for new line\n",
    "\n",
    "# Here, One more functon which give matrix wise multiplications of two Array with dot() fun.\n",
    "# Syntex : arr1.dot(arr2)\n",
    "\n",
    "print(arr1.dot(arr2))"
   ]
  },
  {
   "cell_type": "markdown",
   "metadata": {},
   "source": [
    "### max()"
   ]
  },
  {
   "cell_type": "code",
   "execution_count": 33,
   "metadata": {},
   "outputs": [
    {
     "name": "stdout",
     "output_type": "stream",
     "text": [
      "[[11 12 13]\n",
      " [14 15 16]\n",
      " [17 18 19]]\n",
      "\n",
      "[[1 2 3]\n",
      " [4 5 6]\n",
      " [7 8 9]]\n",
      "\n",
      "19\n",
      "\n",
      "9\n"
     ]
    }
   ],
   "source": [
    "# max() function give maximum value of matrix.\n",
    "# Syntex : array.max()\n",
    "# For Eg We have two matrix\n",
    "arr1 = np.arange(11,20).reshape(3,3)\n",
    "arr2 = np.arange(1,10).reshape(3,3)\n",
    "print(arr1)\n",
    "print()\n",
    "print(arr2)\n",
    "print()\n",
    "\n",
    "# Apply function on matrix\n",
    "print(arr1.max())\n",
    "print()\n",
    "print(arr2.max())\n"
   ]
  },
  {
   "cell_type": "markdown",
   "metadata": {},
   "source": [
    "### argmax()"
   ]
  },
  {
   "cell_type": "code",
   "execution_count": 34,
   "metadata": {},
   "outputs": [
    {
     "name": "stdout",
     "output_type": "stream",
     "text": [
      "[[11 12 13]\n",
      " [14 15 16]\n",
      " [17 18 19]]\n",
      "\n",
      "[[1 2 3]\n",
      " [4 5 6]\n",
      " [7 8 9]]\n",
      "\n",
      "8\n",
      "\n",
      "8\n"
     ]
    }
   ],
   "source": [
    "# argmax() function give index of the maximum value in matrix\n",
    "# Syntex : array.argmax()\n",
    "# For Eg We have two matrix\n",
    "arr1 = np.arange(11,20).reshape(3,3)\n",
    "arr2 = np.arange(1,10).reshape(3,3)\n",
    "print(arr1)\n",
    "print()\n",
    "print(arr2)\n",
    "print()\n",
    "\n",
    "# Apply function on matrix\n",
    "print(arr1.argmax())\n",
    "print()\n",
    "print(arr2.argmax())\n"
   ]
  },
  {
   "cell_type": "markdown",
   "metadata": {},
   "source": [
    "### Find max value in each column"
   ]
  },
  {
   "cell_type": "code",
   "execution_count": 35,
   "metadata": {},
   "outputs": [
    {
     "name": "stdout",
     "output_type": "stream",
     "text": [
      "[[11 12 13]\n",
      " [14 15 16]\n",
      " [17 18 19]]\n",
      "\n",
      "[[1 2 3]\n",
      " [4 5 6]\n",
      " [7 8 9]]\n",
      "\n",
      "[17 18 19]\n",
      "\n",
      "[13 16 19]\n",
      "\n",
      "[7 8 9]\n",
      "\n",
      "[3 6 9]\n"
     ]
    }
   ],
   "source": [
    "#Create two matrix\n",
    "arr1 = np.arange(11,20).reshape(3,3)\n",
    "arr2 = np.arange(1,10).reshape(3,3)\n",
    "print(arr1)\n",
    "print()\n",
    "print(arr2)\n",
    "print()\n",
    "\n",
    "# For Find max value in each row and column We have to give axis. Here axis = 0 means Columns and axix = 1 means Row.                     \n",
    "print(arr1.max(axis= 0))\n",
    "print()\n",
    "\n",
    "# For Row axis will be 1.\n",
    "print(arr1.max(axis = 1))\n",
    "print()\n",
    "\n",
    "#For Array 2\n",
    "print(arr2.max(axis= 0))\n",
    "print()\n",
    "\n",
    "# For Row axis will be 1.\n",
    "print(arr2.max(axis = 1))\n"
   ]
  },
  {
   "cell_type": "markdown",
   "metadata": {},
   "source": [
    "### min()"
   ]
  },
  {
   "cell_type": "code",
   "execution_count": 36,
   "metadata": {},
   "outputs": [
    {
     "name": "stdout",
     "output_type": "stream",
     "text": [
      "[[11 12 13]\n",
      " [14 15 16]\n",
      " [17 18 19]]\n",
      "\n",
      "[[1 2 3]\n",
      " [4 5 6]\n",
      " [7 8 9]]\n",
      "\n",
      "11\n",
      "\n",
      "1\n"
     ]
    }
   ],
   "source": [
    "# min() function give minimum value of matrix.\n",
    "# Syntex : array.mix()\n",
    "# For Eg We have two matrix\n",
    "arr1 = np.arange(11,20).reshape(3,3)\n",
    "arr2 = np.arange(1,10).reshape(3,3)\n",
    "print(arr1)\n",
    "print()\n",
    "print(arr2)\n",
    "print()\n",
    "\n",
    "# Apply function on matrix\n",
    "print(arr1.min())\n",
    "print()\n",
    "print(arr2.min())\n"
   ]
  },
  {
   "cell_type": "markdown",
   "metadata": {},
   "source": [
    "### argmin()"
   ]
  },
  {
   "cell_type": "code",
   "execution_count": 37,
   "metadata": {},
   "outputs": [
    {
     "name": "stdout",
     "output_type": "stream",
     "text": [
      "[[11 12 13]\n",
      " [14 15 16]\n",
      " [17 18 19]]\n",
      "\n",
      "[[1 2 3]\n",
      " [4 5 6]\n",
      " [7 8 9]]\n",
      "\n",
      "0\n",
      "\n",
      "0\n"
     ]
    }
   ],
   "source": [
    "# argmax() function give index of the minimum value in matrix\n",
    "# Syntex : array.argmax()\n",
    "# For Eg We have two matrix\n",
    "arr1 = np.arange(11,20).reshape(3,3)\n",
    "arr2 = np.arange(1,10).reshape(3,3)\n",
    "print(arr1)\n",
    "print()\n",
    "print(arr2)\n",
    "print()\n",
    "\n",
    "# Apply function on matrix\n",
    "print(arr1.argmin())\n",
    "print()\n",
    "print(arr2.argmin())\n"
   ]
  },
  {
   "cell_type": "markdown",
   "metadata": {},
   "source": [
    "### Find min value in each column"
   ]
  },
  {
   "cell_type": "code",
   "execution_count": 38,
   "metadata": {
    "scrolled": true
   },
   "outputs": [
    {
     "name": "stdout",
     "output_type": "stream",
     "text": [
      "[[11 12 13]\n",
      " [14 15 16]\n",
      " [17 18 19]]\n",
      "\n",
      "[[1 2 3]\n",
      " [4 5 6]\n",
      " [7 8 9]]\n",
      "\n",
      "[17 18 19]\n",
      "\n",
      "[11 14 17]\n",
      "\n",
      "[1 2 3]\n",
      "\n",
      "[1 4 7]\n"
     ]
    }
   ],
   "source": [
    "#Create two matrix\n",
    "arr1 = np.arange(11,20).reshape(3,3)\n",
    "arr2 = np.arange(1,10).reshape(3,3)\n",
    "print(arr1)\n",
    "print()\n",
    "print(arr2)\n",
    "print()\n",
    "\n",
    "# For Find min value in each row and column We have to give axis. Here axis = 0 means Columns and axix = 1 means Row.                       \n",
    "print(arr1.max(axis= 0))\n",
    "print()\n",
    "\n",
    "# For Row axis will be 1.\n",
    "print(arr1.min(axis = 1))\n",
    "print()\n",
    "\n",
    "#For Array 2\n",
    "print(arr2.min(axis= 0))\n",
    "print()\n",
    "\n",
    "# For Row axis will be 1.\n",
    "print(arr2.min(axis = 1))\n"
   ]
  },
  {
   "cell_type": "markdown",
   "metadata": {},
   "source": [
    "### sum()"
   ]
  },
  {
   "cell_type": "code",
   "execution_count": 39,
   "metadata": {},
   "outputs": [
    {
     "name": "stdout",
     "output_type": "stream",
     "text": [
      "[[11 12 13]\n",
      " [14 15 16]\n",
      " [17 18 19]]\n",
      "\n",
      "[[1 2 3]\n",
      " [4 5 6]\n",
      " [7 8 9]]\n",
      "\n",
      "135\n",
      "45\n"
     ]
    }
   ],
   "source": [
    "# sum() function give sum of all element in matrix.\n",
    "# Syntex : np.sum(array)\n",
    "#Create two matrix\n",
    "arr1 = np.arange(11,20).reshape(3,3)\n",
    "arr2 = np.arange(1,10).reshape(3,3)\n",
    "print(arr1)\n",
    "print()\n",
    "print(arr2)\n",
    "print()\n",
    "\n",
    "print(np.sum(arr1))\n",
    "print(np.sum(arr2))\n"
   ]
  },
  {
   "cell_type": "markdown",
   "metadata": {},
   "source": [
    "### Sum of all element in column and Row Wise"
   ]
  },
  {
   "cell_type": "code",
   "execution_count": 40,
   "metadata": {},
   "outputs": [
    {
     "name": "stdout",
     "output_type": "stream",
     "text": [
      "[[11 12 13]\n",
      " [14 15 16]\n",
      " [17 18 19]]\n",
      "\n",
      "[[1 2 3]\n",
      " [4 5 6]\n",
      " [7 8 9]]\n",
      "\n",
      "[42 45 48]\n",
      "\n",
      "[36 45 54]\n",
      "\n",
      "[12 15 18]\n",
      "\n",
      "[ 6 15 24]\n",
      "\n"
     ]
    }
   ],
   "source": [
    "# sum() function give sum of all element in matrix.\n",
    "# Syntex : np.sum(array,axis = 0 or 1). ie. 0 = For Column and 1 = For Row\n",
    "#Create two matrix\n",
    "arr1 = np.arange(11,20).reshape(3,3)\n",
    "arr2 = np.arange(1,10).reshape(3,3)\n",
    "print(arr1)\n",
    "print()\n",
    "print(arr2)\n",
    "print()\n",
    "\n",
    "# Apply on Array\n",
    "print(np.sum(arr1, axis= 0))\n",
    "print()\n",
    "\n",
    "# For Row axis will be 1.\n",
    "print(np.sum(arr1, axis= 1))\n",
    "print()\n",
    "\n",
    "#For Array 2\n",
    "print(np.sum(arr2, axis= 0))\n",
    "print()\n",
    "\n",
    "# For Row axis will be 1.\n",
    "print(np.sum(arr2, axis= 1))\n",
    "print()"
   ]
  },
  {
   "cell_type": "markdown",
   "metadata": {},
   "source": [
    "### Find Mean of an Array"
   ]
  },
  {
   "cell_type": "code",
   "execution_count": 41,
   "metadata": {},
   "outputs": [
    {
     "name": "stdout",
     "output_type": "stream",
     "text": [
      "[[11 12 13]\n",
      " [14 15 16]\n",
      " [17 18 19]]\n",
      "\n",
      "[[1 2 3]\n",
      " [4 5 6]\n",
      " [7 8 9]]\n",
      "\n",
      "15.0\n",
      "\n",
      "5.0\n"
     ]
    }
   ],
   "source": [
    "arr1 = np.arange(11,20).reshape(3,3)\n",
    "arr2 = np.arange(1,10).reshape(3,3)\n",
    "print(arr1)\n",
    "print()\n",
    "print(arr2)\n",
    "print()\n",
    "\n",
    "# Syntex : np.mean(array)\n",
    "print(np.mean(arr1))\n",
    "print()\n",
    "print(np.mean(arr2))\n"
   ]
  },
  {
   "cell_type": "markdown",
   "metadata": {},
   "source": [
    "### Find Squarroot of an Array"
   ]
  },
  {
   "cell_type": "code",
   "execution_count": 42,
   "metadata": {},
   "outputs": [
    {
     "name": "stdout",
     "output_type": "stream",
     "text": [
      "[[11 12 13]\n",
      " [14 15 16]\n",
      " [17 18 19]]\n",
      "\n",
      "[[1 2 3]\n",
      " [4 5 6]\n",
      " [7 8 9]]\n",
      "\n",
      "[[3.31662479 3.46410162 3.60555128]\n",
      " [3.74165739 3.87298335 4.        ]\n",
      " [4.12310563 4.24264069 4.35889894]]\n",
      "\n",
      "[[1.         1.41421356 1.73205081]\n",
      " [2.         2.23606798 2.44948974]\n",
      " [2.64575131 2.82842712 3.        ]]\n"
     ]
    }
   ],
   "source": [
    "arr1 = np.arange(11,20).reshape(3,3)\n",
    "arr2 = np.arange(1,10).reshape(3,3)\n",
    "print(arr1)\n",
    "print()\n",
    "print(arr2)\n",
    "print()\n",
    "\n",
    "# Syntex : np.sqrt(array)\n",
    "print(np.sqrt(arr1))\n",
    "print()\n",
    "print(np.sqrt(arr2))\n"
   ]
  },
  {
   "cell_type": "markdown",
   "metadata": {},
   "source": [
    "### Find Standerd deviations of an Array"
   ]
  },
  {
   "cell_type": "code",
   "execution_count": 43,
   "metadata": {},
   "outputs": [
    {
     "name": "stdout",
     "output_type": "stream",
     "text": [
      "[[11 12 13]\n",
      " [14 15 16]\n",
      " [17 18 19]]\n",
      "\n",
      "[[1 2 3]\n",
      " [4 5 6]\n",
      " [7 8 9]]\n",
      "\n",
      "2.581988897471611\n",
      "\n",
      "2.581988897471611\n"
     ]
    }
   ],
   "source": [
    "arr1 = np.arange(11,20).reshape(3,3)\n",
    "arr2 = np.arange(1,10).reshape(3,3)\n",
    "print(arr1)\n",
    "print()\n",
    "print(arr2)\n",
    "print()\n",
    "\n",
    "# Syntex : np.std(array)\n",
    "print(np.std(arr1))\n",
    "print()\n",
    "print(np.std(arr2))"
   ]
  },
  {
   "cell_type": "markdown",
   "metadata": {},
   "source": [
    "### Find exp of an array"
   ]
  },
  {
   "cell_type": "code",
   "execution_count": 44,
   "metadata": {},
   "outputs": [
    {
     "name": "stdout",
     "output_type": "stream",
     "text": [
      "[[11 12 13]\n",
      " [14 15 16]\n",
      " [17 18 19]]\n",
      "\n",
      "[[1 2 3]\n",
      " [4 5 6]\n",
      " [7 8 9]]\n",
      "\n",
      "[[5.98741417e+04 1.62754791e+05 4.42413392e+05]\n",
      " [1.20260428e+06 3.26901737e+06 8.88611052e+06]\n",
      " [2.41549528e+07 6.56599691e+07 1.78482301e+08]]\n",
      "\n",
      "[[2.71828183e+00 7.38905610e+00 2.00855369e+01]\n",
      " [5.45981500e+01 1.48413159e+02 4.03428793e+02]\n",
      " [1.09663316e+03 2.98095799e+03 8.10308393e+03]]\n"
     ]
    }
   ],
   "source": [
    "arr1 = np.arange(11,20).reshape(3,3)\n",
    "arr2 = np.arange(1,10).reshape(3,3)\n",
    "print(arr1)\n",
    "print()\n",
    "print(arr2)\n",
    "print()\n",
    "\n",
    "# Syntex : np.exp(array)\n",
    "print(np.exp(arr1))\n",
    "print()\n",
    "print(np.exp(arr2))"
   ]
  },
  {
   "cell_type": "markdown",
   "metadata": {},
   "source": [
    "### Find Natural Log of an Array"
   ]
  },
  {
   "cell_type": "code",
   "execution_count": 45,
   "metadata": {},
   "outputs": [
    {
     "name": "stdout",
     "output_type": "stream",
     "text": [
      "[[11 12 13]\n",
      " [14 15 16]\n",
      " [17 18 19]]\n",
      "\n",
      "[[1 2 3]\n",
      " [4 5 6]\n",
      " [7 8 9]]\n",
      "\n",
      "[[2.39789527 2.48490665 2.56494936]\n",
      " [2.63905733 2.7080502  2.77258872]\n",
      " [2.83321334 2.89037176 2.94443898]]\n",
      "\n",
      "[[0.         0.69314718 1.09861229]\n",
      " [1.38629436 1.60943791 1.79175947]\n",
      " [1.94591015 2.07944154 2.19722458]]\n"
     ]
    }
   ],
   "source": [
    "arr1 = np.arange(11,20).reshape(3,3)\n",
    "arr2 = np.arange(1,10).reshape(3,3)\n",
    "print(arr1)\n",
    "print()\n",
    "print(arr2)\n",
    "print()\n",
    "\n",
    "# Syntex : np.log(array)\n",
    "print(np.log(arr1))\n",
    "print()\n",
    "print(np.log(arr2))"
   ]
  },
  {
   "cell_type": "markdown",
   "metadata": {},
   "source": [
    "### Find the Log10 of an Array"
   ]
  },
  {
   "cell_type": "code",
   "execution_count": 46,
   "metadata": {},
   "outputs": [
    {
     "name": "stdout",
     "output_type": "stream",
     "text": [
      "[[11 12 13]\n",
      " [14 15 16]\n",
      " [17 18 19]]\n",
      "\n",
      "[[1 2 3]\n",
      " [4 5 6]\n",
      " [7 8 9]]\n",
      "\n",
      "[[1.04139269 1.07918125 1.11394335]\n",
      " [1.14612804 1.17609126 1.20411998]\n",
      " [1.23044892 1.25527251 1.2787536 ]]\n",
      "\n",
      "[[0.         0.30103    0.47712125]\n",
      " [0.60205999 0.69897    0.77815125]\n",
      " [0.84509804 0.90308999 0.95424251]]\n"
     ]
    }
   ],
   "source": [
    "arr1 = np.arange(11,20).reshape(3,3)\n",
    "arr2 = np.arange(1,10).reshape(3,3)\n",
    "print(arr1)\n",
    "print()\n",
    "print(arr2)\n",
    "print()\n",
    "\n",
    "# Syntex : np.log10(array)\n",
    "print(np.log10(arr1))\n",
    "print()\n",
    "print(np.log10(arr2))"
   ]
  },
  {
   "cell_type": "markdown",
   "metadata": {},
   "source": [
    "### Slicing of Array"
   ]
  },
  {
   "cell_type": "code",
   "execution_count": 47,
   "metadata": {},
   "outputs": [
    {
     "name": "stdout",
     "output_type": "stream",
     "text": [
      "[[  1   2   3   4   5   6   7   8   9  10]\n",
      " [ 11  12  13  14  15  16  17  18  19  20]\n",
      " [ 21  22  23  24  25  26  27  28  29  30]\n",
      " [ 31  32  33  34  35  36  37  38  39  40]\n",
      " [ 41  42  43  44  45  46  47  48  49  50]\n",
      " [ 51  52  53  54  55  56  57  58  59  60]\n",
      " [ 61  62  63  64  65  66  67  68  69  70]\n",
      " [ 71  72  73  74  75  76  77  78  79  80]\n",
      " [ 81  82  83  84  85  86  87  88  89  90]\n",
      " [ 91  92  93  94  95  96  97  98  99 100]]\n"
     ]
    }
   ],
   "source": [
    "arr = np.arange(1,101).reshape(10,10)\n",
    "print(arr)"
   ]
  },
  {
   "cell_type": "code",
   "execution_count": 48,
   "metadata": {},
   "outputs": [
    {
     "name": "stdout",
     "output_type": "stream",
     "text": [
      "1\n"
     ]
    }
   ],
   "source": [
    "# if you want to access single element \n",
    "print(arr[0,0])"
   ]
  },
  {
   "cell_type": "code",
   "execution_count": 49,
   "metadata": {},
   "outputs": [
    {
     "name": "stdout",
     "output_type": "stream",
     "text": [
      "[ 1  2  3  4  5  6  7  8  9 10]\n"
     ]
    }
   ],
   "source": [
    "# if We want Single Row\n",
    "print(arr[0])"
   ]
  },
  {
   "cell_type": "code",
   "execution_count": 50,
   "metadata": {},
   "outputs": [
    {
     "name": "stdout",
     "output_type": "stream",
     "text": [
      "[ 1 11 21 31 41 51 61 71 81 91]\n"
     ]
    }
   ],
   "source": [
    "# if We want Single Column\n",
    "print(arr[:,0])"
   ]
  },
  {
   "cell_type": "code",
   "execution_count": 51,
   "metadata": {},
   "outputs": [
    {
     "name": "stdout",
     "output_type": "stream",
     "text": [
      "[[ 1  2]\n",
      " [11 12]\n",
      " [21 22]\n",
      " [31 32]\n",
      " [41 42]\n",
      " [51 52]\n",
      " [61 62]\n",
      " [71 72]\n",
      " [81 82]\n",
      " [91 92]]\n",
      "\n",
      "[[ 2  3]\n",
      " [12 13]\n",
      " [22 23]\n",
      " [32 33]\n",
      " [42 43]\n",
      " [52 53]\n",
      " [62 63]\n",
      " [72 73]\n",
      " [82 83]\n",
      " [92 93]]\n"
     ]
    }
   ],
   "source": [
    "# if We want to access column within the range\n",
    "print(arr[:,0:2])\n",
    "print()\n",
    "print(arr[:,1:3])"
   ]
  },
  {
   "cell_type": "code",
   "execution_count": 52,
   "metadata": {},
   "outputs": [
    {
     "name": "stdout",
     "output_type": "stream",
     "text": [
      "[[12 13 14]\n",
      " [22 23 24]\n",
      " [32 33 34]]\n"
     ]
    }
   ],
   "source": [
    "# if We want access perticular row and column two dimensional row and column\n",
    "print(arr[1:4,1:4])"
   ]
  },
  {
   "cell_type": "code",
   "execution_count": 53,
   "metadata": {},
   "outputs": [
    {
     "name": "stdout",
     "output_type": "stream",
     "text": [
      "[[ 2  3]\n",
      " [12 13]\n",
      " [22 23]\n",
      " [32 33]\n",
      " [42 43]\n",
      " [52 53]\n",
      " [62 63]\n",
      " [72 73]\n",
      " [82 83]\n",
      " [92 93]]\n"
     ]
    }
   ],
   "source": [
    "print(arr[:,1:3])"
   ]
  },
  {
   "cell_type": "code",
   "execution_count": 54,
   "metadata": {},
   "outputs": [
    {
     "name": "stdout",
     "output_type": "stream",
     "text": [
      "[[  1   2   3   4   5   6   7   8   9  10]\n",
      " [ 11  12  13  14  15  16  17  18  19  20]\n",
      " [ 21  22  23  24  25  26  27  28  29  30]\n",
      " [ 31  32  33  34  35  36  37  38  39  40]\n",
      " [ 41  42  43  44  45  46  47  48  49  50]\n",
      " [ 51  52  53  54  55  56  57  58  59  60]\n",
      " [ 61  62  63  64  65  66  67  68  69  70]\n",
      " [ 71  72  73  74  75  76  77  78  79  80]\n",
      " [ 81  82  83  84  85  86  87  88  89  90]\n",
      " [ 91  92  93  94  95  96  97  98  99 100]]\n"
     ]
    }
   ],
   "source": [
    "# if you want to print all array\n",
    "print(arr[:])"
   ]
  },
  {
   "cell_type": "code",
   "execution_count": 55,
   "metadata": {
    "scrolled": true
   },
   "outputs": [
    {
     "name": "stdout",
     "output_type": "stream",
     "text": [
      "4\n"
     ]
    }
   ],
   "source": [
    "# itemsize() give size of an element eg. int will give 4 byte\n",
    "print(arr.itemsize)"
   ]
  },
  {
   "cell_type": "code",
   "execution_count": 56,
   "metadata": {},
   "outputs": [
    {
     "name": "stdout",
     "output_type": "stream",
     "text": [
      "int32\n"
     ]
    }
   ],
   "source": [
    "# Just for checking\n",
    "print(arr.dtype)"
   ]
  },
  {
   "cell_type": "code",
   "execution_count": 57,
   "metadata": {
    "scrolled": true
   },
   "outputs": [
    {
     "name": "stdout",
     "output_type": "stream",
     "text": [
      "[[ 91  92  93  94  95  96  97  98  99 100]\n",
      " [ 81  82  83  84  85  86  87  88  89  90]\n",
      " [ 71  72  73  74  75  76  77  78  79  80]\n",
      " [ 61  62  63  64  65  66  67  68  69  70]\n",
      " [ 51  52  53  54  55  56  57  58  59  60]\n",
      " [ 41  42  43  44  45  46  47  48  49  50]\n",
      " [ 31  32  33  34  35  36  37  38  39  40]\n",
      " [ 21  22  23  24  25  26  27  28  29  30]\n",
      " [ 11  12  13  14  15  16  17  18  19  20]\n",
      " [  1   2   3   4   5   6   7   8   9  10]]\n"
     ]
    }
   ],
   "source": [
    "# Reverse of an Array\n",
    "print(arr[::-1])"
   ]
  },
  {
   "cell_type": "markdown",
   "metadata": {},
   "source": [
    "### NumPy Array Concatenation and Split"
   ]
  },
  {
   "cell_type": "markdown",
   "metadata": {},
   "source": [
    "### Concatenations two Array"
   ]
  },
  {
   "cell_type": "code",
   "execution_count": 58,
   "metadata": {},
   "outputs": [
    {
     "name": "stdout",
     "output_type": "stream",
     "text": [
      "[[ 1  2  3  4]\n",
      " [ 5  6  7  8]\n",
      " [ 9 10 11 12]\n",
      " [13 14 15 16]]\n",
      "\n",
      "[[17 18 19 20]\n",
      " [21 22 23 24]\n",
      " [25 26 27 28]\n",
      " [29 30 31 32]]\n",
      "\n",
      "[[ 1  2  3  4]\n",
      " [ 5  6  7  8]\n",
      " [ 9 10 11 12]\n",
      " [13 14 15 16]\n",
      " [17 18 19 20]\n",
      " [21 22 23 24]\n",
      " [25 26 27 28]\n",
      " [29 30 31 32]]\n",
      "\n",
      "[[ 1  2  3  4 17 18 19 20]\n",
      " [ 5  6  7  8 21 22 23 24]\n",
      " [ 9 10 11 12 25 26 27 28]\n",
      " [13 14 15 16 29 30 31 32]]\n"
     ]
    }
   ],
   "source": [
    "# Take an Array\n",
    "arr1 = np.arange(1,17).reshape(4,4)\n",
    "print(arr1)\n",
    "print()\n",
    "\n",
    "# Take an another Array\n",
    "arr2 = np.arange(17,33).reshape(4,4)\n",
    "print(arr2)\n",
    "print()\n",
    "\n",
    "# Apply Concatinations() functions this functions concatinate column wise\n",
    "# Syntex : Concatenate((array1,array2), axis = \"by default 0\"), which concatenation done by column wise \n",
    "print(np.concatenate((arr1,arr2)))\n",
    "print()\n",
    "\n",
    "# For row wise put axis = 1\n",
    "print(np.concatenate((arr1,arr2),axis=1))"
   ]
  },
  {
   "cell_type": "markdown",
   "metadata": {},
   "source": [
    "### vstack()"
   ]
  },
  {
   "cell_type": "code",
   "execution_count": 59,
   "metadata": {},
   "outputs": [
    {
     "name": "stdout",
     "output_type": "stream",
     "text": [
      "[[ 1  2  3  4]\n",
      " [ 5  6  7  8]\n",
      " [ 9 10 11 12]\n",
      " [13 14 15 16]]\n",
      "\n",
      "[[17 18 19 20]\n",
      " [21 22 23 24]\n",
      " [25 26 27 28]\n",
      " [29 30 31 32]]\n",
      "\n",
      "[[ 1  2  3  4]\n",
      " [ 5  6  7  8]\n",
      " [ 9 10 11 12]\n",
      " [13 14 15 16]\n",
      " [17 18 19 20]\n",
      " [21 22 23 24]\n",
      " [25 26 27 28]\n",
      " [29 30 31 32]]\n",
      "\n"
     ]
    }
   ],
   "source": [
    "# This is another way to concatenate in Column wise\n",
    "# Take an Array\n",
    "arr1 = np.arange(1,17).reshape(4,4)\n",
    "print(arr1)\n",
    "print()\n",
    "\n",
    "# Take an another Array\n",
    "arr2 = np.arange(17,33).reshape(4,4)\n",
    "print(arr2)\n",
    "print()\n",
    "\n",
    "# Apply Concatinations() functions this functions concatinate column wise\n",
    "# Syntex : Concatenate((array1,array2), axis = \"by default 0\"), which concatenation done by column wise \n",
    "print(np.vstack((arr1,arr2)))\n",
    "print()\n"
   ]
  },
  {
   "cell_type": "markdown",
   "metadata": {},
   "source": [
    "### hstack()"
   ]
  },
  {
   "cell_type": "code",
   "execution_count": 60,
   "metadata": {},
   "outputs": [
    {
     "name": "stdout",
     "output_type": "stream",
     "text": [
      "[[ 1  2  3  4]\n",
      " [ 5  6  7  8]\n",
      " [ 9 10 11 12]\n",
      " [13 14 15 16]]\n",
      "\n",
      "[[17 18 19 20]\n",
      " [21 22 23 24]\n",
      " [25 26 27 28]\n",
      " [29 30 31 32]]\n",
      "\n",
      "[[ 1  2  3  4 17 18 19 20]\n",
      " [ 5  6  7  8 21 22 23 24]\n",
      " [ 9 10 11 12 25 26 27 28]\n",
      " [13 14 15 16 29 30 31 32]]\n",
      "\n"
     ]
    }
   ],
   "source": [
    "# This is another way to concatenate in Row wise\n",
    "# Take an Array\n",
    "arr1 = np.arange(1,17).reshape(4,4)\n",
    "print(arr1)\n",
    "print()\n",
    "\n",
    "# Take an another Array\n",
    "arr2 = np.arange(17,33).reshape(4,4)\n",
    "print(arr2)\n",
    "print()\n",
    "\n",
    "# Apply Concatinations() functions this functions concatinate column wise\n",
    "# Syntex : Concatenate((array1,array2), axis = \"by default 0\"), which concatenation done by column wise \n",
    "print(np.hstack((arr1,arr2)))\n",
    "print()\n"
   ]
  },
  {
   "cell_type": "markdown",
   "metadata": {},
   "source": [
    "### Split()"
   ]
  },
  {
   "cell_type": "code",
   "execution_count": 61,
   "metadata": {},
   "outputs": [
    {
     "name": "stdout",
     "output_type": "stream",
     "text": [
      "[[ 1  2  3  4]\n",
      " [ 5  6  7  8]\n",
      " [ 9 10 11 12]\n",
      " [13 14 15 16]]\n",
      "\n",
      "[array([[1, 2, 3, 4],\n",
      "       [5, 6, 7, 8]]), array([[ 9, 10, 11, 12],\n",
      "       [13, 14, 15, 16]])]\n"
     ]
    }
   ],
   "source": [
    "# Split() is function which we have already used in list, str etc.\n",
    "# Take an Array\n",
    "arr1 = np.arange(1,17).reshape(4,4)\n",
    "print(arr1)\n",
    "print()\n",
    "\n",
    "# this function split the two column in list form\n",
    "# Syntex np.split(array,split,axix=\"by default 0 (which denotes column)\")\n",
    "print(np.split(arr1,2))"
   ]
  },
  {
   "cell_type": "code",
   "execution_count": 62,
   "metadata": {},
   "outputs": [
    {
     "name": "stdout",
     "output_type": "stream",
     "text": [
      "[[ 1  2  3  4]\n",
      " [ 5  6  7  8]\n",
      " [ 9 10 11 12]\n",
      " [13 14 15 16]]\n",
      "\n",
      "[array([[ 1,  2],\n",
      "       [ 5,  6],\n",
      "       [ 9, 10],\n",
      "       [13, 14]]), array([[ 3,  4],\n",
      "       [ 7,  8],\n",
      "       [11, 12],\n",
      "       [15, 16]])]\n"
     ]
    }
   ],
   "source": [
    "# Split() is function which we have already used in list, str etc.\n",
    "# Take an Array\n",
    "arr1 = np.arange(1,17).reshape(4,4)\n",
    "print(arr1)\n",
    "print()\n",
    "\n",
    "# this function split the two row in list form\n",
    "# Syntex np.split(array,split,axix=\"by default 0 (which denotes column)\")\n",
    "print(np.split(arr1,2,axis=1))"
   ]
  },
  {
   "cell_type": "code",
   "execution_count": 63,
   "metadata": {},
   "outputs": [
    {
     "name": "stdout",
     "output_type": "stream",
     "text": [
      "[array([4]), array([2, 5]), array([6, 8])]\n"
     ]
    }
   ],
   "source": [
    "# Split 1-D Array to multidimensional Array\n",
    "arr_1D = np.array([4,2,5,6,8])\n",
    "print(np.split(arr_1D,[1,3]))"
   ]
  },
  {
   "cell_type": "markdown",
   "metadata": {},
   "source": [
    "### Trignometry Functions"
   ]
  },
  {
   "cell_type": "code",
   "execution_count": 64,
   "metadata": {},
   "outputs": [
    {
     "name": "stdout",
     "output_type": "stream",
     "text": [
      "-0.8011526357338304\n",
      "-0.5063656411097588\n",
      "0.8939966636005579\n"
     ]
    }
   ],
   "source": [
    "# np.Sin() function give value of the sin functions\n",
    "# np.sin(val)\n",
    "print(np.sin(180))\n",
    "print(np.sin(100))\n",
    "print(np.sin(90))"
   ]
  },
  {
   "cell_type": "code",
   "execution_count": 65,
   "metadata": {},
   "outputs": [
    {
     "name": "stdout",
     "output_type": "stream",
     "text": [
      "-0.5984600690578582\n",
      "0.8623188722876839\n",
      "-0.4480736161291701\n"
     ]
    }
   ],
   "source": [
    "# np.cos() function give value of the sin functions\n",
    "# np.cos(val)\n",
    "print(np.cos(180))\n",
    "print(np.cos(100))\n",
    "print(np.cos(90))"
   ]
  },
  {
   "cell_type": "code",
   "execution_count": 66,
   "metadata": {},
   "outputs": [
    {
     "name": "stdout",
     "output_type": "stream",
     "text": [
      "1.3386902103511544\n",
      "-0.5872139151569291\n",
      "-1.995200412208242\n"
     ]
    }
   ],
   "source": [
    "# np.tan() function give value of the sin functions\n",
    "# np.tan(val)\n",
    "print(np.tan(180))\n",
    "print(np.tan(100))\n",
    "print(np.tan(90))"
   ]
  },
  {
   "cell_type": "markdown",
   "metadata": {},
   "source": [
    "### Draw the Sin, Cos and Tan curve"
   ]
  },
  {
   "cell_type": "markdown",
   "metadata": {},
   "source": [
    "#### For Ploating we have to import matplotlib.pyplot Liberary"
   ]
  },
  {
   "cell_type": "code",
   "execution_count": 67,
   "metadata": {},
   "outputs": [],
   "source": [
    "import matplotlib.pyplot as plt"
   ]
  },
  {
   "cell_type": "code",
   "execution_count": 68,
   "metadata": {
    "scrolled": true
   },
   "outputs": [
    {
     "name": "stdout",
     "output_type": "stream",
     "text": [
      "[0.  0.1 0.2 0.3 0.4 0.5 0.6 0.7 0.8 0.9 1.  1.1 1.2 1.3 1.4 1.5 1.6 1.7\n",
      " 1.8 1.9 2.  2.1 2.2 2.3 2.4 2.5 2.6 2.7 2.8 2.9 3.  3.1 3.2 3.3 3.4 3.5\n",
      " 3.6 3.7 3.8 3.9 4.  4.1 4.2 4.3 4.4 4.5 4.6 4.7 4.8 4.9 5.  5.1 5.2 5.3\n",
      " 5.4 5.5 5.6 5.7 5.8 5.9 6.  6.1 6.2 6.3 6.4 6.5 6.6 6.7 6.8 6.9 7.  7.1\n",
      " 7.2 7.3 7.4 7.5 7.6 7.7 7.8 7.9 8.  8.1 8.2 8.3 8.4 8.5 8.6 8.7 8.8 8.9\n",
      " 9.  9.1 9.2 9.3 9.4]\n"
     ]
    }
   ],
   "source": [
    "x_sin = np.arange(0,3*np.pi,0.1)\n",
    "print(x_sin)"
   ]
  },
  {
   "cell_type": "code",
   "execution_count": 69,
   "metadata": {},
   "outputs": [
    {
     "name": "stdout",
     "output_type": "stream",
     "text": [
      "[ 0.          0.09983342  0.19866933  0.29552021  0.38941834  0.47942554\n",
      "  0.56464247  0.64421769  0.71735609  0.78332691  0.84147098  0.89120736\n",
      "  0.93203909  0.96355819  0.98544973  0.99749499  0.9995736   0.99166481\n",
      "  0.97384763  0.94630009  0.90929743  0.86320937  0.8084964   0.74570521\n",
      "  0.67546318  0.59847214  0.51550137  0.42737988  0.33498815  0.23924933\n",
      "  0.14112001  0.04158066 -0.05837414 -0.15774569 -0.2555411  -0.35078323\n",
      " -0.44252044 -0.52983614 -0.61185789 -0.68776616 -0.7568025  -0.81827711\n",
      " -0.87157577 -0.91616594 -0.95160207 -0.97753012 -0.993691   -0.99992326\n",
      " -0.99616461 -0.98245261 -0.95892427 -0.92581468 -0.88345466 -0.83226744\n",
      " -0.77276449 -0.70554033 -0.63126664 -0.55068554 -0.46460218 -0.37387666\n",
      " -0.2794155  -0.1821625  -0.0830894   0.0168139   0.1165492   0.21511999\n",
      "  0.31154136  0.40484992  0.49411335  0.57843976  0.6569866   0.72896904\n",
      "  0.79366786  0.85043662  0.8987081   0.93799998  0.96791967  0.98816823\n",
      "  0.99854335  0.99894134  0.98935825  0.96988981  0.94073056  0.90217183\n",
      "  0.85459891  0.79848711  0.7343971   0.66296923  0.58491719  0.50102086\n",
      "  0.41211849  0.31909836  0.22288991  0.12445442  0.02477543]\n"
     ]
    }
   ],
   "source": [
    "y_sin = np.sin(x_sin)\n",
    "print(y_sin)"
   ]
  },
  {
   "cell_type": "code",
   "execution_count": 70,
   "metadata": {},
   "outputs": [
    {
     "data": {
      "image/png": "[encoded data removed]",
      "text/plain": [
       "<Figure size 432x288 with 1 Axes>"
      ]
     },
     "metadata": {
      "needs_background": "light"
     },
     "output_type": "display_data"
    }
   ],
   "source": [
    "# plot Sin() Curve \n",
    "plt.plot(x_sin,y_sin)\n",
    "plt.show()"
   ]
  },
  {
   "cell_type": "code",
   "execution_count": 71,
   "metadata": {},
   "outputs": [
    {
     "data": {
      "image/png": "[encoded data removed]",
      "text/plain": [
       "<Figure size 432x288 with 1 Axes>"
      ]
     },
     "metadata": {
      "needs_background": "light"
     },
     "output_type": "display_data"
    }
   ],
   "source": [
    "# plot cos() Curve \n",
    "y_cos = np.cos(x_sin)\n",
    "plt.plot(x_sin,y_cos)\n",
    "plt.show()"
   ]
  },
  {
   "cell_type": "code",
   "execution_count": 72,
   "metadata": {},
   "outputs": [
    {
     "data": {
      "image/png": "[encoded data removed]",
      "text/plain": [
       "<Figure size 432x288 with 1 Axes>"
      ]
     },
     "metadata": {
      "needs_background": "light"
     },
     "output_type": "display_data"
    }
   ],
   "source": [
    "# plot tan() Curve \n",
    "y_tan = np.tan(x_sin)\n",
    "plt.plot(x_sin,y_tan)\n",
    "plt.show()"
   ]
  },
  {
   "cell_type": "markdown",
   "metadata": {},
   "source": [
    "### Random Sampling with Numpy"
   ]
  },
  {
   "cell_type": "markdown",
   "metadata": {},
   "source": [
    "#### For this topic We have to import Random functions"
   ]
  },
  {
   "cell_type": "code",
   "execution_count": 73,
   "metadata": {},
   "outputs": [],
   "source": [
    "import random"
   ]
  },
  {
   "cell_type": "code",
   "execution_count": 74,
   "metadata": {},
   "outputs": [
    {
     "name": "stdout",
     "output_type": "stream",
     "text": [
      "[0.32608485]\n"
     ]
    }
   ],
   "source": [
    "# Random functions give any values b/w 0 to 1 it will give array\n",
    "print(np.random.random(1))"
   ]
  },
  {
   "cell_type": "code",
   "execution_count": 75,
   "metadata": {},
   "outputs": [
    {
     "name": "stdout",
     "output_type": "stream",
     "text": [
      "[[0.12865724 0.19746202 0.4311543 ]\n",
      " [0.40711454 0.22721494 0.65380577]\n",
      " [0.3040523  0.26827709 0.4885039 ]]\n"
     ]
    }
   ],
   "source": [
    "# Random function return multidimensional Array\n",
    "# Syntex : np.random.random(row,column)\n",
    "print(np.random.random((3,3)))"
   ]
  },
  {
   "cell_type": "code",
   "execution_count": 76,
   "metadata": {},
   "outputs": [
    {
     "name": "stdout",
     "output_type": "stream",
     "text": [
      "1\n"
     ]
    }
   ],
   "source": [
    "# if we want Integer value\n",
    "print(np.random.randint(1,4))"
   ]
  },
  {
   "cell_type": "code",
   "execution_count": 77,
   "metadata": {},
   "outputs": [
    {
     "name": "stdout",
     "output_type": "stream",
     "text": [
      "[[1 3 2 3]\n",
      " [3 1 2 2]\n",
      " [3 3 3 2]\n",
      " [1 2 2 2]]\n"
     ]
    }
   ],
   "source": [
    "# if we want Integer value randomaly in 2-D\n",
    "print(np.random.randint(1,4,(4,4)))"
   ]
  },
  {
   "cell_type": "code",
   "execution_count": 78,
   "metadata": {},
   "outputs": [
    {
     "name": "stdout",
     "output_type": "stream",
     "text": [
      "[[[1 1 2 2]\n",
      "  [2 1 2 3]\n",
      "  [1 2 2 1]\n",
      "  [2 3 1 2]]\n",
      "\n",
      " [[3 3 3 1]\n",
      "  [3 3 2 3]\n",
      "  [3 3 2 2]\n",
      "  [1 2 3 3]]]\n"
     ]
    }
   ],
   "source": [
    "# if we want Integer value randomaly in 3-D\n",
    "print(np.random.randint(1,4,(2,4,4)))"
   ]
  },
  {
   "cell_type": "code",
   "execution_count": 84,
   "metadata": {},
   "outputs": [
    {
     "name": "stdout",
     "output_type": "stream",
     "text": [
      "[[[2 2 2 3]\n",
      "  [2 1 3 3]\n",
      "  [3 2 1 2]\n",
      "  [2 1 3 2]]\n",
      "\n",
      " [[2 3 3 1]\n",
      "  [1 3 1 2]\n",
      "  [3 1 3 1]\n",
      "  [2 3 1 2]]]\n"
     ]
    }
   ],
   "source": [
    "# for avoiding the randomly change value we can use seed funcion,if we want same Integer value randomaly in 3-D\n",
    "# Syntex np.random.seed() give same random value up to 2**32-1\n",
    "\n",
    "print(np.random.randint(1,4,(2,4,4)))"
   ]
  },
  {
   "cell_type": "code",
   "execution_count": 86,
   "metadata": {},
   "outputs": [
    {
     "name": "stdout",
     "output_type": "stream",
     "text": [
      "[0.83198977 0.30977806 0.59758229]\n"
     ]
    }
   ],
   "source": [
    "# nd.random.rand(n) function give an array with n element\n",
    "# only give value b/w 0 to 1\n",
    "print(np.random.rand(3))"
   ]
  },
  {
   "cell_type": "code",
   "execution_count": 87,
   "metadata": {},
   "outputs": [
    {
     "name": "stdout",
     "output_type": "stream",
     "text": [
      "[[0.87239246 0.98302087 0.46740328]\n",
      " [0.87574449 0.2960687  0.13129105]\n",
      " [0.84281793 0.6590363  0.5954396 ]]\n"
     ]
    }
   ],
   "source": [
    "# nd.random.rand(r,c) function give an array with n element\n",
    "print(np.random.rand(3,3))"
   ]
  },
  {
   "cell_type": "code",
   "execution_count": 88,
   "metadata": {},
   "outputs": [
    {
     "name": "stdout",
     "output_type": "stream",
     "text": [
      "[[-1.96711722e+00 -8.70956667e-01 -1.10682548e+00]\n",
      " [ 2.75123658e-01 -3.64456144e-01 -1.16515347e+00]\n",
      " [-1.34306988e+00  1.45339286e+00  1.16944865e-03]]\n"
     ]
    }
   ],
   "source": [
    "# nd.random.randn(r,c) function give an array with n element postive and negative both\n",
    "print(np.random.randn(3,3))"
   ]
  },
  {
   "cell_type": "code",
   "execution_count": 90,
   "metadata": {},
   "outputs": [
    {
     "name": "stdout",
     "output_type": "stream",
     "text": [
      "1\n"
     ]
    }
   ],
   "source": [
    "# choice givr random single value from list\n",
    "x = [1,2,3,4,5]\n",
    "print(np.random.choice(x))"
   ]
  },
  {
   "cell_type": "code",
   "execution_count": 92,
   "metadata": {},
   "outputs": [
    {
     "name": "stdout",
     "output_type": "stream",
     "text": [
      "[3 1 2 5 4]\n"
     ]
    }
   ],
   "source": [
    "# Random Permutation of list you can run up nth time \n",
    "x = [1,2,3,4,5]\n",
    "print(np.random.permutation(x))\n"
   ]
  },
  {
   "cell_type": "markdown",
   "metadata": {},
   "source": [
    "### NOTE: There are a lot of function of Random you can google with name.\n",
    "* SciPy.org"
   ]
  },
  {
   "cell_type": "markdown",
   "metadata": {},
   "source": [
    "### String Operations, Comparison and information"
   ]
  },
  {
   "cell_type": "markdown",
   "metadata": {},
   "source": [
    "### Merge String"
   ]
  },
  {
   "cell_type": "code",
   "execution_count": 94,
   "metadata": {},
   "outputs": [
    {
     "name": "stdout",
     "output_type": "stream",
     "text": [
      "Welcome to Github PageLearning Python NumPy\n"
     ]
    }
   ],
   "source": [
    "# np.char.add(str1.str2) merge the two strings\n",
    "str1 = \"Welcome to Github Page\"\n",
    "str2 = \"Learning Python NumPy\"\n",
    "print(np.char.add(str1,str2))"
   ]
  },
  {
   "cell_type": "markdown",
   "metadata": {},
   "source": [
    "### Convert Lower case"
   ]
  },
  {
   "cell_type": "code",
   "execution_count": 95,
   "metadata": {},
   "outputs": [
    {
     "name": "stdout",
     "output_type": "stream",
     "text": [
      "welcome to github page\n",
      "learning python numpy\n"
     ]
    }
   ],
   "source": [
    "# np.char.lower(str) function convert lower case\n",
    "str1 = \"Welcome to Github Page\"\n",
    "str2 = \"Learning Python NumPy\"\n",
    "print(np.char.lower(str1))\n",
    "print(np.char.lower(str2))"
   ]
  },
  {
   "cell_type": "markdown",
   "metadata": {},
   "source": [
    "### Convert Upper case"
   ]
  },
  {
   "cell_type": "code",
   "execution_count": 96,
   "metadata": {},
   "outputs": [
    {
     "name": "stdout",
     "output_type": "stream",
     "text": [
      "WELCOME TO GITHUB PAGE\n",
      "LEARNING PYTHON NUMPY\n"
     ]
    }
   ],
   "source": [
    "str1 = \"Welcome to Github Page\"\n",
    "str2 = \"Learning Python NumPy\"\n",
    "print(np.char.upper(str1))\n",
    "print(np.char.upper(str2))"
   ]
  },
  {
   "cell_type": "markdown",
   "metadata": {},
   "source": [
    "### Hold in Center"
   ]
  },
  {
   "cell_type": "code",
   "execution_count": 100,
   "metadata": {},
   "outputs": [
    {
     "name": "stdout",
     "output_type": "stream",
     "text": [
      "                   Welcome to Github Page                   \n",
      "                   Learning Python NumPy                    \n",
      "\n",
      "*******************Welcome to Github Page*******************\n",
      "*******************Learning Python NumPy********************\n"
     ]
    }
   ],
   "source": [
    "# arrange String in Center with bellow function\n",
    "str1 = \"Welcome to Github Page\"\n",
    "str2 = \"Learning Python NumPy\"\n",
    "print(np.char.center(str1,60))\n",
    "print(np.char.center(str2,60))\n",
    "print()\n",
    "\n",
    "# To fill the empty space you can use fill parameter\n",
    "print(np.char.center(str1,60,fillchar=\"*\"))\n",
    "print(np.char.center(str2,60,fillchar=\"*\"))"
   ]
  },
  {
   "cell_type": "markdown",
   "metadata": {},
   "source": [
    "### Split String"
   ]
  },
  {
   "cell_type": "code",
   "execution_count": 102,
   "metadata": {},
   "outputs": [
    {
     "name": "stdout",
     "output_type": "stream",
     "text": [
      "['Welcome', 'to', 'Github', 'Page']\n",
      "['Learning', 'Python', 'NumPy']\n"
     ]
    }
   ],
   "source": [
    "# Split with word wise\n",
    "str1 = \"Welcome to Github Page\"\n",
    "str2 = \"Learning Python NumPy\"\n",
    "print(np.char.split(str1))\n",
    "print(np.char.split(str2))\n"
   ]
  },
  {
   "cell_type": "markdown",
   "metadata": {},
   "source": [
    "### Split Line"
   ]
  },
  {
   "cell_type": "code",
   "execution_count": 103,
   "metadata": {},
   "outputs": [
    {
     "name": "stdout",
     "output_type": "stream",
     "text": [
      "['hello', 'world']\n"
     ]
    }
   ],
   "source": [
    "# split with new line\n",
    "print(np.char.splitlines(\"hello\\nworld\"))"
   ]
  },
  {
   "cell_type": "markdown",
   "metadata": {},
   "source": [
    "### Join the String"
   ]
  },
  {
   "cell_type": "code",
   "execution_count": 105,
   "metadata": {},
   "outputs": [
    {
     "name": "stdout",
     "output_type": "stream",
     "text": [
      "['W:e:l:c:o:m:e: :t:o: :G:i:t:h:u:b: :P:a:g:e'\n",
      " 'L/e/a/r/n/i/n/g/ /P/y/t/h/o/n/ /N/u/m/P/y']\n"
     ]
    }
   ],
   "source": [
    "str1 = \"Welcome to Github Page\"\n",
    "str2 = \"Learning Python NumPy\"\n",
    "print(np.char.join([\":\",\"/\"],[str1,str2]))"
   ]
  },
  {
   "cell_type": "markdown",
   "metadata": {},
   "source": [
    "### Replace the string"
   ]
  },
  {
   "cell_type": "code",
   "execution_count": 107,
   "metadata": {},
   "outputs": [
    {
     "name": "stdout",
     "output_type": "stream",
     "text": [
      "Welcome to My Page\n"
     ]
    }
   ],
   "source": [
    "str1 = \"Welcome to Github Page\"\n",
    "str2 = \"Learning Python NumPy\"\n",
    "print(np.char.replace(str1,\"Github\", \"My\"))"
   ]
  },
  {
   "cell_type": "markdown",
   "metadata": {},
   "source": [
    "### Comparing the String "
   ]
  },
  {
   "cell_type": "code",
   "execution_count": 108,
   "metadata": {},
   "outputs": [
    {
     "name": "stdout",
     "output_type": "stream",
     "text": [
      "False\n"
     ]
    }
   ],
   "source": [
    "# check two str is equal or not\n",
    "str1 = \"Welcome to Github Page\"\n",
    "str2 = \"Learning Python NumPy\"\n",
    "print(np.char.equal(str1,str2))"
   ]
  },
  {
   "cell_type": "markdown",
   "metadata": {},
   "source": [
    "### Count char in String"
   ]
  },
  {
   "cell_type": "code",
   "execution_count": 110,
   "metadata": {},
   "outputs": [
    {
     "name": "stdout",
     "output_type": "stream",
     "text": [
      "2\n",
      "1\n"
     ]
    }
   ],
   "source": [
    "str1 = \"Welcome to Github Page\"\n",
    "str2 = \"Learning Python NumPy\"\n",
    "print(np.char.count(str1,\"o\"))\n",
    "print(np.char.count(str2,\"o\"))"
   ]
  },
  {
   "cell_type": "markdown",
   "metadata": {},
   "source": [
    "### Find Char in String "
   ]
  },
  {
   "cell_type": "code",
   "execution_count": 111,
   "metadata": {},
   "outputs": [
    {
     "name": "stdout",
     "output_type": "stream",
     "text": [
      "4\n",
      "13\n"
     ]
    }
   ],
   "source": [
    "str1 = \"Welcome to Github Page\"\n",
    "str2 = \"Learning Python NumPy\"\n",
    "print(np.char.find(str1,\"o\"))\n",
    "print(np.char.find(str2,\"o\"))"
   ]
  }
 ],
 "metadata": {
  "kernelspec": {
   "display_name": "Python 3",
   "language": "python",
   "name": "python3"
  },
  "language_info": {
   "codemirror_mode": {
    "name": "ipython",
    "version": 3
   },
   "file_extension": ".py",
   "mimetype": "text/x-python",
   "name": "python",
   "nbconvert_exporter": "python",
   "pygments_lexer": "ipython3",
   "version": "3.7.6"
  }
 },
 "nbformat": 4,
 "nbformat_minor": 4
}
